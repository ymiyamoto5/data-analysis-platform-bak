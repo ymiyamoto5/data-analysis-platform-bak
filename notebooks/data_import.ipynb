{
 "cells": [
  {
   "cell_type": "markdown",
   "metadata": {},
   "source": [
    "# 射出成型機\n",
    "処理の流れ：npyをloadしてショット毎のcsvに分割⇒csvを加工しつつpklに変換⇒pklをloadしてElasticsearchに格納"
   ]
  },
  {
   "cell_type": "markdown",
   "metadata": {},
   "source": [
    "  Copyright(c) 2021 UNIADEX, Ltd. All Rights Reserved.  \n",
    "  CONFIDENTIAL  \n",
    "  Author: UNIADEX, Ltd."
   ]
  },
  {
   "cell_type": "code",
   "execution_count": 1,
   "metadata": {},
   "outputs": [],
   "source": [
    "# ライブラリインポート\n",
    "import os, sys\n",
    "sys.path.append(os.path.join(os.getcwd(), '../src/'))\n",
    "from cut_out_shot.cut_out_shot import CutOutShot\n",
    "from utils import common\n",
    "import logging\n",
    "import pandas as pd\n",
    "import matplotlib.pyplot as plt\n",
    "from datetime import datetime\n",
    "from data_importer.data_importer import DataImporter"
   ]
  },
  {
   "cell_type": "markdown",
   "metadata": {},
   "source": [
    "## npyをloadしてショット毎のcsvファイルにする\n",
    "既にcsvがある場合は実行不要"
   ]
  },
  {
   "cell_type": "code",
   "execution_count": null,
   "metadata": {},
   "outputs": [],
   "source": [
    "di = DataImporter()\n",
    "target_file_path = \"/home/ymiyamoto5/h-one-experimental-system/shared/data/all_sensors_201905standardized.npy\"\n",
    "target_date = \"20210701180000\"\n",
    "di.split_np_array_by_shot(target_file_path, target_date)"
   ]
  },
  {
   "cell_type": "code",
   "execution_count": null,
   "metadata": {},
   "outputs": [],
   "source": [
    "# データディレクトリの一覧\n",
    "!ls /home/ymiyamoto5/h-one-experimental-system/shared/data/20210701180000"
   ]
  },
  {
   "cell_type": "markdown",
   "metadata": {},
   "source": [
    "## csvファイルを加工しつつpklファイルにする\n",
    "既にpklファイルがある場合は実行不要"
   ]
  },
  {
   "cell_type": "code",
   "execution_count": null,
   "metadata": {},
   "outputs": [],
   "source": [
    "# read from csv in dir\n",
    "target_date = \"20210701180000\"\n",
    "start_time = datetime(2021, 7, 1, 18, 0, 0)\n",
    "# 何列目を使うか。\n",
    "use_cols = [2, 6, 7, 11, 57]\n",
    "cols_name = [\"load01\", \"load02\", \"load03\", \"load04\", \"displacement\"]\n",
    "sampling_interval = 1000 # 1k\n",
    "di = DataImporter()\n",
    "# csvを加工してpklに出力\n",
    "di.process_csv_files(target_date=target_date,\n",
    "           exists_timestamp=False,\n",
    "           start_time=start_time,\n",
    "           use_cols=use_cols,\n",
    "           cols_name=cols_name,\n",
    "           sampling_interval=sampling_interval\n",
    "          )"
   ]
  },
  {
   "cell_type": "markdown",
   "metadata": {},
   "source": [
    "## (オプション) pklファイルの確認"
   ]
  },
  {
   "cell_type": "code",
   "execution_count": null,
   "metadata": {},
   "outputs": [],
   "source": [
    "file_path = \"/home/ymiyamoto5/h-one-experimental-system/shared/data/20210701180000/0000.pkl\"\n",
    "df = pd.read_pickle(file_path)\n",
    "df.head()"
   ]
  },
  {
   "cell_type": "code",
   "execution_count": null,
   "metadata": {},
   "outputs": [],
   "source": [
    "len(df)"
   ]
  },
  {
   "cell_type": "markdown",
   "metadata": {},
   "source": [
    "## pklファイルをloadしてElasticsearchに出力"
   ]
  },
  {
   "cell_type": "code",
   "execution_count": 2,
   "metadata": {},
   "outputs": [
    {
     "name": "stdout",
     "output_type": "stream",
     "text": [
      "shots_index bulk insert starting...\n",
      "shots_index bulk insert finished.\n",
      "shots_meta_index bulk insert finished.\n"
     ]
    }
   ],
   "source": [
    "# pklファイルからElasticsearchにインポート（切り出しなし）\n",
    "target_date = \"20210701180000\"\n",
    "di = DataImporter()\n",
    "di.import_by_shot_pkl(target_date)"
   ]
  },
  {
   "cell_type": "markdown",
   "metadata": {},
   "source": [
    "## (オプション）events_indexの作成\n",
    "既に存在する場合は実行不要"
   ]
  },
  {
   "cell_type": "code",
   "execution_count": null,
   "metadata": {},
   "outputs": [],
   "source": [
    "# （なければ）events_index作成\n",
    "from utils.create_events_index import create_events_index\n",
    "prefix = \"events-\"\n",
    "start_datetime_jst = datetime(2021, 7, 1, 18, 0, 0, 0)\n",
    "create_events_index(start_datetime_jst)"
   ]
  },
  {
   "cell_type": "code",
   "execution_count": null,
   "metadata": {},
   "outputs": [],
   "source": []
  }
 ],
 "metadata": {
  "kernelspec": {
   "display_name": "Python 3",
   "language": "python",
   "name": "python3"
  },
  "language_info": {
   "codemirror_mode": {
    "name": "ipython",
    "version": 3
   },
   "file_extension": ".py",
   "mimetype": "text/x-python",
   "name": "python",
   "nbconvert_exporter": "python",
   "pygments_lexer": "ipython3",
   "version": "3.8.3"
  },
  "toc": {
   "base_numbering": 1,
   "nav_menu": {},
   "number_sections": true,
   "sideBar": true,
   "skip_h1_title": false,
   "title_cell": "Table of Contents",
   "title_sidebar": "Contents",
   "toc_cell": false,
   "toc_position": {},
   "toc_section_display": true,
   "toc_window_display": false
  }
 },
 "nbformat": 4,
 "nbformat_minor": 4
}
