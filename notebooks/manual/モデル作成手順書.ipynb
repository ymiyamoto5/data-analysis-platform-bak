{
 "cells": [
  {
   "cell_type": "markdown",
   "id": "a60b190e",
   "metadata": {
    "deletable": false,
    "editable": false,
    "run_control": {
     "frozen": true
    }
   },
   "source": [
    "# データセット"
   ]
  },
  {
   "cell_type": "markdown",
   "id": "2811fc6c",
   "metadata": {
    "deletable": false,
    "editable": false,
    "run_control": {
     "frozen": true
    }
   },
   "source": [
    "## カリフォルニア住宅価格\n",
    "20,640件のカリフォルニアの住宅価格のデータが公開されているため、scikit-learn を利用して読み込む。"
   ]
  },
  {
   "cell_type": "code",
   "execution_count": 1,
   "id": "01f0e21a",
   "metadata": {
    "deletable": false,
    "editable": false,
    "run_control": {
     "frozen": true
    }
   },
   "outputs": [],
   "source": [
    "# ライブラリインポート\n",
    "import pandas as pd\n",
    "from sklearn.datasets import fetch_california_housing\n",
    "\n",
    "# データ読み込み\n",
    "california = fetch_california_housing()\n",
    "california_df = pd.DataFrame(california.data)\n",
    "\n",
    "# 列名を指定\n",
    "california_df.columns = california.feature_names\n",
    "\n",
    "# 目的変数を追加\n",
    "california_df['MedHouseVal'] = california.target"
   ]
  },
  {
   "cell_type": "code",
   "execution_count": 2,
   "id": "d768fd42",
   "metadata": {
    "deletable": false,
    "editable": false,
    "run_control": {
     "frozen": true
    }
   },
   "outputs": [
    {
     "data": {
      "text/html": [
       "<div>\n",
       "<style scoped>\n",
       "    .dataframe tbody tr th:only-of-type {\n",
       "        vertical-align: middle;\n",
       "    }\n",
       "\n",
       "    .dataframe tbody tr th {\n",
       "        vertical-align: top;\n",
       "    }\n",
       "\n",
       "    .dataframe thead th {\n",
       "        text-align: right;\n",
       "    }\n",
       "</style>\n",
       "<table border=\"1\" class=\"dataframe\">\n",
       "  <thead>\n",
       "    <tr style=\"text-align: right;\">\n",
       "      <th></th>\n",
       "      <th>MedInc</th>\n",
       "      <th>HouseAge</th>\n",
       "      <th>AveRooms</th>\n",
       "      <th>AveBedrms</th>\n",
       "      <th>Population</th>\n",
       "      <th>AveOccup</th>\n",
       "      <th>Latitude</th>\n",
       "      <th>Longitude</th>\n",
       "      <th>MedHouseVal</th>\n",
       "    </tr>\n",
       "  </thead>\n",
       "  <tbody>\n",
       "    <tr>\n",
       "      <th>0</th>\n",
       "      <td>8.3252</td>\n",
       "      <td>41.0</td>\n",
       "      <td>6.984127</td>\n",
       "      <td>1.023810</td>\n",
       "      <td>322.0</td>\n",
       "      <td>2.555556</td>\n",
       "      <td>37.88</td>\n",
       "      <td>-122.23</td>\n",
       "      <td>4.526</td>\n",
       "    </tr>\n",
       "    <tr>\n",
       "      <th>1</th>\n",
       "      <td>8.3014</td>\n",
       "      <td>21.0</td>\n",
       "      <td>6.238137</td>\n",
       "      <td>0.971880</td>\n",
       "      <td>2401.0</td>\n",
       "      <td>2.109842</td>\n",
       "      <td>37.86</td>\n",
       "      <td>-122.22</td>\n",
       "      <td>3.585</td>\n",
       "    </tr>\n",
       "    <tr>\n",
       "      <th>2</th>\n",
       "      <td>7.2574</td>\n",
       "      <td>52.0</td>\n",
       "      <td>8.288136</td>\n",
       "      <td>1.073446</td>\n",
       "      <td>496.0</td>\n",
       "      <td>2.802260</td>\n",
       "      <td>37.85</td>\n",
       "      <td>-122.24</td>\n",
       "      <td>3.521</td>\n",
       "    </tr>\n",
       "    <tr>\n",
       "      <th>3</th>\n",
       "      <td>5.6431</td>\n",
       "      <td>52.0</td>\n",
       "      <td>5.817352</td>\n",
       "      <td>1.073059</td>\n",
       "      <td>558.0</td>\n",
       "      <td>2.547945</td>\n",
       "      <td>37.85</td>\n",
       "      <td>-122.25</td>\n",
       "      <td>3.413</td>\n",
       "    </tr>\n",
       "    <tr>\n",
       "      <th>4</th>\n",
       "      <td>3.8462</td>\n",
       "      <td>52.0</td>\n",
       "      <td>6.281853</td>\n",
       "      <td>1.081081</td>\n",
       "      <td>565.0</td>\n",
       "      <td>2.181467</td>\n",
       "      <td>37.85</td>\n",
       "      <td>-122.25</td>\n",
       "      <td>3.422</td>\n",
       "    </tr>\n",
       "    <tr>\n",
       "      <th>...</th>\n",
       "      <td>...</td>\n",
       "      <td>...</td>\n",
       "      <td>...</td>\n",
       "      <td>...</td>\n",
       "      <td>...</td>\n",
       "      <td>...</td>\n",
       "      <td>...</td>\n",
       "      <td>...</td>\n",
       "      <td>...</td>\n",
       "    </tr>\n",
       "    <tr>\n",
       "      <th>20635</th>\n",
       "      <td>1.5603</td>\n",
       "      <td>25.0</td>\n",
       "      <td>5.045455</td>\n",
       "      <td>1.133333</td>\n",
       "      <td>845.0</td>\n",
       "      <td>2.560606</td>\n",
       "      <td>39.48</td>\n",
       "      <td>-121.09</td>\n",
       "      <td>0.781</td>\n",
       "    </tr>\n",
       "    <tr>\n",
       "      <th>20636</th>\n",
       "      <td>2.5568</td>\n",
       "      <td>18.0</td>\n",
       "      <td>6.114035</td>\n",
       "      <td>1.315789</td>\n",
       "      <td>356.0</td>\n",
       "      <td>3.122807</td>\n",
       "      <td>39.49</td>\n",
       "      <td>-121.21</td>\n",
       "      <td>0.771</td>\n",
       "    </tr>\n",
       "    <tr>\n",
       "      <th>20637</th>\n",
       "      <td>1.7000</td>\n",
       "      <td>17.0</td>\n",
       "      <td>5.205543</td>\n",
       "      <td>1.120092</td>\n",
       "      <td>1007.0</td>\n",
       "      <td>2.325635</td>\n",
       "      <td>39.43</td>\n",
       "      <td>-121.22</td>\n",
       "      <td>0.923</td>\n",
       "    </tr>\n",
       "    <tr>\n",
       "      <th>20638</th>\n",
       "      <td>1.8672</td>\n",
       "      <td>18.0</td>\n",
       "      <td>5.329513</td>\n",
       "      <td>1.171920</td>\n",
       "      <td>741.0</td>\n",
       "      <td>2.123209</td>\n",
       "      <td>39.43</td>\n",
       "      <td>-121.32</td>\n",
       "      <td>0.847</td>\n",
       "    </tr>\n",
       "    <tr>\n",
       "      <th>20639</th>\n",
       "      <td>2.3886</td>\n",
       "      <td>16.0</td>\n",
       "      <td>5.254717</td>\n",
       "      <td>1.162264</td>\n",
       "      <td>1387.0</td>\n",
       "      <td>2.616981</td>\n",
       "      <td>39.37</td>\n",
       "      <td>-121.24</td>\n",
       "      <td>0.894</td>\n",
       "    </tr>\n",
       "  </tbody>\n",
       "</table>\n",
       "<p>20640 rows × 9 columns</p>\n",
       "</div>"
      ],
      "text/plain": [
       "       MedInc  HouseAge  AveRooms  AveBedrms  Population  AveOccup  Latitude  \\\n",
       "0      8.3252      41.0  6.984127   1.023810       322.0  2.555556     37.88   \n",
       "1      8.3014      21.0  6.238137   0.971880      2401.0  2.109842     37.86   \n",
       "2      7.2574      52.0  8.288136   1.073446       496.0  2.802260     37.85   \n",
       "3      5.6431      52.0  5.817352   1.073059       558.0  2.547945     37.85   \n",
       "4      3.8462      52.0  6.281853   1.081081       565.0  2.181467     37.85   \n",
       "...       ...       ...       ...        ...         ...       ...       ...   \n",
       "20635  1.5603      25.0  5.045455   1.133333       845.0  2.560606     39.48   \n",
       "20636  2.5568      18.0  6.114035   1.315789       356.0  3.122807     39.49   \n",
       "20637  1.7000      17.0  5.205543   1.120092      1007.0  2.325635     39.43   \n",
       "20638  1.8672      18.0  5.329513   1.171920       741.0  2.123209     39.43   \n",
       "20639  2.3886      16.0  5.254717   1.162264      1387.0  2.616981     39.37   \n",
       "\n",
       "       Longitude  MedHouseVal  \n",
       "0        -122.23        4.526  \n",
       "1        -122.22        3.585  \n",
       "2        -122.24        3.521  \n",
       "3        -122.25        3.413  \n",
       "4        -122.25        3.422  \n",
       "...          ...          ...  \n",
       "20635    -121.09        0.781  \n",
       "20636    -121.21        0.771  \n",
       "20637    -121.22        0.923  \n",
       "20638    -121.32        0.847  \n",
       "20639    -121.24        0.894  \n",
       "\n",
       "[20640 rows x 9 columns]"
      ]
     },
     "execution_count": 2,
     "metadata": {},
     "output_type": "execute_result"
    }
   ],
   "source": [
    "# データ表示\n",
    "california_df"
   ]
  },
  {
   "cell_type": "markdown",
   "id": "34c97c4b",
   "metadata": {
    "deletable": false,
    "editable": false,
    "run_control": {
     "frozen": true
    }
   },
   "source": [
    "# モデル作成・アップロード"
   ]
  },
  {
   "cell_type": "markdown",
   "id": "40d737bd",
   "metadata": {
    "deletable": false,
    "editable": false,
    "run_control": {
     "frozen": true
    }
   },
   "source": [
    "## 事前準備"
   ]
  },
  {
   "cell_type": "code",
   "execution_count": 9,
   "id": "fcadba55",
   "metadata": {
    "deletable": false,
    "editable": false,
    "run_control": {
     "frozen": true
    }
   },
   "outputs": [],
   "source": [
    "# ライブラリインポート\n",
    "import os\n",
    "import warnings\n",
    "import sys\n",
    "\n",
    "import pandas as pd\n",
    "import numpy as np\n",
    "from sklearn.metrics import mean_squared_error, mean_absolute_error, r2_score\n",
    "from sklearn.model_selection import train_test_split\n",
    "from sklearn.linear_model import LinearRegression, ElasticNet, Ridge, Lasso\n",
    "from sklearn.preprocessing import StandardScaler\n",
    "\n",
    "import mlflow\n",
    "import mlflow.sklearn\n",
    "\n",
    "import logging\n",
    "\n",
    "sys.path.append(os.path.join(os.getcwd(), '../../'))\n",
    "from backend.elastic_manager.elastic_manager import ElasticManager"
   ]
  },
  {
   "cell_type": "code",
   "execution_count": 4,
   "id": "932cac3a",
   "metadata": {
    "deletable": false,
    "editable": false,
    "run_control": {
     "frozen": true
    }
   },
   "outputs": [
    {
     "name": "stdout",
     "output_type": "stream",
     "text": [
      "http://mlflow:5000 some\n"
     ]
    }
   ],
   "source": [
    "# mlflow設定\n",
    "MLFLOW_SERVER_URI = os.environ[\"MLFLOW_SERVER_URI\"]\n",
    "MLFLOW_EXPERIMENT_NAME = os.environ[\"MLFLOW_EXPERIMENT_NAME\"]\n",
    "\n",
    "mlflow.set_tracking_uri(MLFLOW_SERVER_URI)\n",
    "mlflow.set_experiment(MLFLOW_EXPERIMENT_NAME)\n",
    "\n",
    "print(MLFLOW_SERVER_URI, MLFLOW_EXPERIMENT_NAME)"
   ]
  },
  {
   "cell_type": "code",
   "execution_count": 5,
   "id": "d7ba2daf",
   "metadata": {
    "deletable": false,
    "editable": false,
    "run_control": {
     "frozen": true
    }
   },
   "outputs": [
    {
     "name": "stdout",
     "output_type": "stream",
     "text": [
      "http://mlflow:5000\n",
      "http://mlflow:5000\n",
      "[<Experiment: artifact_location='s3://default/0', experiment_id='0', lifecycle_stage='active', name='Default', tags={}>, <Experiment: artifact_location='s3://default/1', experiment_id='1', lifecycle_stage='active', name='some', tags={}>]\n"
     ]
    }
   ],
   "source": [
    "# 設定確認\n",
    "print(mlflow.get_registry_uri())\n",
    "print(mlflow.get_tracking_uri())\n",
    "print(mlflow.list_experiments())"
   ]
  },
  {
   "cell_type": "markdown",
   "id": "af07ad0b",
   "metadata": {
    "deletable": false,
    "editable": false,
    "run_control": {
     "frozen": true
    }
   },
   "source": [
    "## モデル作成関数\n",
    "train関数の引数に以下を指定して呼び出すことで、モデルの作成を行う。  \n",
    "学習モデルやパラメーター、メトリックスをMLflowにアップロードする。  \n",
    "  \n",
    "- **df**： データ  \n",
    "- **features**： 説明変数  \n",
    "- **target**： 目的変数  \n",
    "- **algorithm**： アルゴリズム  \n",
    "- **parameter**： パラメーター  \n",
    "  \n",
    "モデルの結果は以下を指標に評価する。\n",
    "  \n",
    "- **RMSE**（Root Mean Squared Error）：二乗平均平方根誤差  \n",
    "- **MAE**（Mean Absolute Error）：平均絶対誤差  \n",
    "- **R2**（R squared）： 決定係数"
   ]
  },
  {
   "cell_type": "code",
   "execution_count": 6,
   "id": "b977a351",
   "metadata": {
    "deletable": false,
    "editable": false,
    "run_control": {
     "frozen": true
    }
   },
   "outputs": [],
   "source": [
    "def train(df, features, target, algorithm, parameter):\n",
    "   \n",
    "    logging.basicConfig(level=logging.WARN)\n",
    "    logger = logging.getLogger(__name__)\n",
    "\n",
    "    # モデル評価\n",
    "    def eval_metrics(actual, pred):\n",
    "        rmse = np.sqrt(mean_squared_error(actual, pred))\n",
    "        mae = mean_absolute_error(actual, pred)\n",
    "        r2 = r2_score(actual, pred)\n",
    "        return rmse, mae, r2\n",
    "\n",
    "\n",
    "    warnings.filterwarnings(\"ignore\")\n",
    "    np.random.seed(40)\n",
    "\n",
    "    # データを学習用とテスト用に分割する\n",
    "    train, test = train_test_split(df)\n",
    "\n",
    "    # 説明変数と目的変数をそれぞれ指定\n",
    "    train_x = train[features]\n",
    "    test_x = test[features]\n",
    "    train_y = train[[target]]\n",
    "    test_y = test[[target]]\n",
    "\n",
    "    # mlflow連携\n",
    "    with mlflow.start_run(run_name=algorithm) as run:\n",
    "        print(f\"run_id: {run.info.run_id}\")\n",
    "        print(f\"algorithm: {algorithm}\")\n",
    "        \n",
    "        if algorithm == \"LinearRegression\":\n",
    "            model = LinearRegression()\n",
    "        elif algorithm == \"Lasso\":\n",
    "            model = Lasso(alpha=parameter[\"alpha\"])\n",
    "        elif algorithm == \"Ridge\":\n",
    "            model = Ridge(alpha=parameter[\"alpha\"])\n",
    "        elif algorithm == \"ElasticNet\":\n",
    "            model = ElasticNet(alpha=parameter[\"alpha\"], l1_ratio=parameter[\"l1_ratio\"], random_state=42)\n",
    "        elif algorithm == \"SVR\":\n",
    "            model = SVR(kernel=parameter[\"kernel\"], C=parameter[\"C\"], epsilon=parameter[\"epsilon\"], gamma=parameter[\"gamma\"])\n",
    "        \n",
    "        # モデル学習\n",
    "        model.fit(train_x, train_y)\n",
    "        \n",
    "        # テストデータによる予測\n",
    "        predicted_qualities = model.predict(test_x)\n",
    "        \n",
    "        # 予測結果をもとにモデル評価\n",
    "        (rmse, mae, r2) = eval_metrics(test_y, predicted_qualities)\n",
    "\n",
    "        # モデル評価結果を表示\n",
    "        print(\"  RMSE: %s\" % rmse)\n",
    "        print(\"  MAE: %s\" % mae)\n",
    "        print(\"  R2: %s\" % r2)\n",
    "\n",
    "        # 学習モデル・パラメーター・メトリックス（評価指標）をMLflowに保存\n",
    "        for key, value in parameter.items():\n",
    "            mlflow.log_param(key, value)\n",
    "        mlflow.log_metric(\"rmse\", rmse)\n",
    "        mlflow.log_metric(\"r2\", r2)\n",
    "        mlflow.log_metric(\"mae\", mae)\n",
    "\n",
    "        mlflow.sklearn.log_model(model, \"model\")"
   ]
  },
  {
   "cell_type": "markdown",
   "id": "5f21c504",
   "metadata": {
    "deletable": false,
    "editable": false,
    "run_control": {
     "frozen": true
    }
   },
   "source": [
    "## アルゴリズム一覧\n",
    "以下から任意のアルゴリズムを選択し、アルゴリズムに応じてパラメーターを設定する。  \n",
    "パラメーター、説明変数、目的変数を適宜変更して実行をする。\n",
    "- **LinearRegression**  \n",
    "パラメーター：なし\n",
    "- **Lasso**  \n",
    "パラメーター：alpha\n",
    "- **Ridge**  \n",
    "パラメーター：alpha\n",
    "- **ElasticNet**  \n",
    "パラメーター：alpha, l1_ratio"
   ]
  },
  {
   "cell_type": "markdown",
   "id": "3b9d32dc",
   "metadata": {
    "deletable": false,
    "editable": false,
    "run_control": {
     "frozen": true
    }
   },
   "source": [
    "### LinearRegression\n",
    "線形回帰。回帰によって連続値を予測する手法。"
   ]
  },
  {
   "cell_type": "code",
   "execution_count": 7,
   "id": "5d461cd6",
   "metadata": {
    "deletable": false,
    "editable": false,
    "run_control": {
     "frozen": true
    }
   },
   "outputs": [],
   "source": [
    "# 固定\n",
    "df = california_df\n",
    "algorithm = \"LinearRegression\"\n",
    "parameter={}\n",
    "\n",
    "# （※）以下は適宜変更\n",
    "\n",
    "# 説明変数をリストとして指定\n",
    "features = [\"MedInc\", \"HouseAge\", \"AveRooms\", \"AveBedrms\", \"Population\", \"AveOccup\", \"Latitude\", \"Longitude\"]\n",
    "\n",
    "# 目的変数を指定\n",
    "target = \"MedHouseVal\""
   ]
  },
  {
   "cell_type": "code",
   "execution_count": 8,
   "id": "db908655",
   "metadata": {
    "deletable": false,
    "editable": false,
    "run_control": {
     "frozen": true
    }
   },
   "outputs": [
    {
     "name": "stdout",
     "output_type": "stream",
     "text": [
      "run_id: 2d8571ca724340f69cf39cb4e408c762\n",
      "algorithm: LinearRegression\n",
      "  RMSE: 0.7391493330191972\n",
      "  MAE: 0.5411479553684728\n",
      "  R2: 0.5982113822212163\n"
     ]
    }
   ],
   "source": [
    "# 指定した値で関数を実行\n",
    "train(df=df, features=features, target=target, algorithm=algorithm, parameter=parameter)"
   ]
  },
  {
   "cell_type": "markdown",
   "id": "61367f0b",
   "metadata": {
    "deletable": false,
    "editable": false,
    "run_control": {
     "frozen": true
    }
   },
   "source": [
    "### Ridge\n",
    "線形回帰にL2正則化を行う手法。"
   ]
  },
  {
   "cell_type": "code",
   "execution_count": 10,
   "id": "dc6d8b25",
   "metadata": {
    "deletable": false,
    "editable": false,
    "run_control": {
     "frozen": true
    }
   },
   "outputs": [],
   "source": [
    "# 固定\n",
    "df = california_df\n",
    "algorithm = \"Ridge\"\n",
    "\n",
    "# （※）以下は適宜変更\n",
    "\n",
    "# パラメーターを指定\n",
    "parameter={\"alpha\": 1.0}\n",
    "\n",
    "# 説明変数をリストとして指定\n",
    "features = [\"MedInc\", \"HouseAge\", \"AveRooms\", \"AveBedrms\", \"Population\", \"AveOccup\", \"Latitude\", \"Longitude\"]\n",
    "\n",
    "# 目的変数を指定\n",
    "target = \"MedHouseVal\""
   ]
  },
  {
   "cell_type": "code",
   "execution_count": 11,
   "id": "167f88f7",
   "metadata": {
    "deletable": false,
    "editable": false,
    "run_control": {
     "frozen": true
    },
    "scrolled": true
   },
   "outputs": [
    {
     "name": "stdout",
     "output_type": "stream",
     "text": [
      "run_id: 7b6deb25605f4acbb0332c5faba70167\n",
      "algorithm: Ridge\n",
      "  RMSE: 0.739159316693047\n",
      "  MAE: 0.5411601365857747\n",
      "  R2: 0.5982005282477965\n"
     ]
    }
   ],
   "source": [
    "# 指定した値で関数を実行\n",
    "train(df=df, features=features, target=target, algorithm=algorithm, parameter=parameter)"
   ]
  },
  {
   "cell_type": "markdown",
   "id": "440e3132",
   "metadata": {
    "deletable": false,
    "editable": false,
    "run_control": {
     "frozen": true
    }
   },
   "source": [
    "### Lasso\n",
    "線形回帰にL1正則化を行う手法。"
   ]
  },
  {
   "cell_type": "code",
   "execution_count": 12,
   "id": "5c065ce4",
   "metadata": {
    "deletable": false,
    "editable": false,
    "run_control": {
     "frozen": true
    }
   },
   "outputs": [],
   "source": [
    "# 固定\n",
    "df = california_df\n",
    "algorithm = \"Lasso\"\n",
    "\n",
    "# （※）以下は適宜変更\n",
    "\n",
    "# パラメーターを指定\n",
    "parameter={\"alpha\": 1.0}\n",
    "\n",
    "# 説明変数をリストとして指定\n",
    "features = [\"MedInc\", \"HouseAge\", \"AveRooms\", \"AveBedrms\", \"Population\", \"AveOccup\", \"Latitude\", \"Longitude\"]\n",
    "\n",
    "# 目的変数を指定\n",
    "target = \"MedHouseVal\""
   ]
  },
  {
   "cell_type": "code",
   "execution_count": 13,
   "id": "3da727bb",
   "metadata": {
    "deletable": false,
    "editable": false,
    "run_control": {
     "frozen": true
    },
    "scrolled": true
   },
   "outputs": [
    {
     "name": "stdout",
     "output_type": "stream",
     "text": [
      "run_id: 80b3e1354c8443a88bceed8411887483\n",
      "algorithm: Lasso\n",
      "  RMSE: 0.9887522759774892\n",
      "  MAE: 0.7737455299786652\n",
      "  R2: 0.2810341818007367\n"
     ]
    }
   ],
   "source": [
    "# 指定した値で関数を実行\n",
    "train(df=df, features=features, target=target, algorithm=algorithm, parameter=parameter)"
   ]
  },
  {
   "cell_type": "markdown",
   "id": "bc9672be",
   "metadata": {
    "deletable": false,
    "editable": false,
    "run_control": {
     "frozen": true
    }
   },
   "source": [
    "### ElasticNet\n",
    "Ridge回帰によるL2正則化と，Lasso回帰によるL1正則化を合わせた手法。"
   ]
  },
  {
   "cell_type": "code",
   "execution_count": 15,
   "id": "cdd81a93",
   "metadata": {
    "deletable": false,
    "editable": false,
    "run_control": {
     "frozen": true
    }
   },
   "outputs": [],
   "source": [
    "# 固定\n",
    "df = california_df\n",
    "algorithm = \"ElasticNet\"\n",
    "\n",
    "# （※）以下は適宜変更\n",
    "\n",
    "# パラメーターを指定\n",
    "parameter={\"alpha\": 0.5, \"l1_ratio\": 0.5}\n",
    "\n",
    "# 説明変数をリストとして指定\n",
    "features = [\"MedInc\", \"HouseAge\", \"AveRooms\", \"AveBedrms\", \"Population\", \"AveOccup\", \"Latitude\", \"Longitude\"]\n",
    "\n",
    "# 目的変数を指定\n",
    "target = \"MedHouseVal\""
   ]
  },
  {
   "cell_type": "code",
   "execution_count": 16,
   "id": "a7deb603",
   "metadata": {
    "deletable": false,
    "editable": false,
    "run_control": {
     "frozen": true
    },
    "scrolled": true
   },
   "outputs": [
    {
     "name": "stdout",
     "output_type": "stream",
     "text": [
      "run_id: 683b254c2c844eeca631a42cac368dda\n",
      "algorithm: ElasticNet\n",
      "  RMSE: 0.8405383940492157\n",
      "  MAE: 0.6350501830593797\n",
      "  R2: 0.48042486082617897\n"
     ]
    }
   ],
   "source": [
    "# 指定した値で関数を実行\n",
    "train(df=df, features=features, target=target, algorithm=algorithm, parameter=parameter)"
   ]
  }
 ],
 "metadata": {
  "kernelspec": {
   "display_name": "Python 3 (ipykernel)",
   "language": "python",
   "name": "python3"
  },
  "language_info": {
   "codemirror_mode": {
    "name": "ipython",
    "version": 3
   },
   "file_extension": ".py",
   "mimetype": "text/x-python",
   "name": "python",
   "nbconvert_exporter": "python",
   "pygments_lexer": "ipython3",
   "version": "3.8.12"
  },
  "toc": {
   "base_numbering": 1,
   "nav_menu": {},
   "number_sections": true,
   "sideBar": true,
   "skip_h1_title": false,
   "title_cell": "Table of Contents",
   "title_sidebar": "Contents",
   "toc_cell": false,
   "toc_position": {
    "height": "calc(100% - 180px)",
    "left": "10px",
    "top": "150px",
    "width": "344px"
   },
   "toc_section_display": true,
   "toc_window_display": true
  }
 },
 "nbformat": 4,
 "nbformat_minor": 5
}
