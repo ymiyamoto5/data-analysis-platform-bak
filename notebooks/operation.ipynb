{
 "cells": [
  {
   "cell_type": "markdown",
   "metadata": {},
   "source": [
    "# 運用系処理"
   ]
  },
  {
   "cell_type": "markdown",
   "metadata": {},
   "source": [
    "## インデックス一覧\n",
    "インデックス一覧を表示します。  \n",
    "既定ではrawdata、metadata、shots、shots-analyzedインデックスのみ表示します。全てのインデックスを表示する場合、  \n",
    "show_all_index=Trueを指定してください。"
   ]
  },
  {
   "cell_type": "code",
   "execution_count": 10,
   "metadata": {},
   "outputs": [
    {
     "data": {
      "text/html": [
       "<div>\n",
       "<style scoped>\n",
       "    .dataframe tbody tr th:only-of-type {\n",
       "        vertical-align: middle;\n",
       "    }\n",
       "\n",
       "    .dataframe tbody tr th {\n",
       "        vertical-align: top;\n",
       "    }\n",
       "\n",
       "    .dataframe thead th {\n",
       "        text-align: right;\n",
       "    }\n",
       "</style>\n",
       "<table border=\"1\" class=\"dataframe\">\n",
       "  <thead>\n",
       "    <tr style=\"text-align: right;\">\n",
       "      <th></th>\n",
       "      <th>index</th>\n",
       "      <th>docs.count</th>\n",
       "      <th>store.size</th>\n",
       "    </tr>\n",
       "  </thead>\n",
       "  <tbody>\n",
       "    <tr>\n",
       "      <th>0</th>\n",
       "      <td>rawdata-20201113-1</td>\n",
       "      <td>361818</td>\n",
       "      <td>27741</td>\n",
       "    </tr>\n",
       "  </tbody>\n",
       "</table>\n",
       "</div>"
      ],
      "text/plain": [
       "                index docs.count store.size\n",
       "0  rawdata-20201113-1     361818      27741"
      ]
     },
     "execution_count": 10,
     "metadata": {},
     "output_type": "execute_result"
    }
   ],
   "source": [
    "from elastic_manager import ElasticManager\n",
    "\n",
    "ElasticManager.show_indices(show_all_index=False)"
   ]
  },
  {
   "cell_type": "markdown",
   "metadata": {},
   "source": [
    "## インデックス削除\n",
    "DELETE_INDEXに削除するインデックス名を入力します。ワイルドカード(\\*)が使用可能です。  \n",
    "例）rawdata-20201201\\*  \n",
    "⇒ 2020/12/01の生データインデックスがすべて削除されます。"
   ]
  },
  {
   "cell_type": "code",
   "execution_count": 11,
   "metadata": {},
   "outputs": [],
   "source": [
    "DELETE_INDEX = 'rawdata-20201113-*'"
   ]
  },
  {
   "cell_type": "code",
   "execution_count": 12,
   "metadata": {},
   "outputs": [
    {
     "name": "stdout",
     "output_type": "stream",
     "text": [
      "rawdata-20201113-*を削除しました。\n"
     ]
    }
   ],
   "source": [
    "from elastic_manager import ElasticManager\n",
    "\n",
    "ElasticManager.delete_index(DELETE_INDEX)"
   ]
  },
  {
   "cell_type": "markdown",
   "metadata": {},
   "source": [
    "## データ削除（連番指定）\n",
    "連番指定でデータを削除します。以下のパラメータを指定してください。\n",
    "\n",
    "* TARGET_INDEX：データ削除対象のインデックス名  \n",
    "* START_SEQ_NUM：開始番号  \n",
    "* END_SEQ_NUM：終了番号"
   ]
  },
  {
   "cell_type": "code",
   "execution_count": 2,
   "metadata": {},
   "outputs": [],
   "source": [
    "TARGET_INDEX = 'rawdata-20201112-1'\n",
    "START_SEQ_NUM = 0\n",
    "END_SEQ_NUM = 10"
   ]
  },
  {
   "cell_type": "code",
   "execution_count": 3,
   "metadata": {},
   "outputs": [
    {
     "name": "stdout",
     "output_type": "stream",
     "text": [
      "データを11件削除しました。\n"
     ]
    }
   ],
   "source": [
    "from elastic_manager import ElasticManager\n",
    "\n",
    "ElasticManager.delete_data_by_seq_num(index=TARGET_INDEX, start=START_SEQ_NUM, end=END_SEQ_NUM)"
   ]
  },
  {
   "cell_type": "markdown",
   "metadata": {},
   "source": [
    "## データ削除（ショット番号指定）\n",
    "ショット番号指定でデータを削除します。以下のパラメータを指定してください。  \n",
    "\n",
    "* TARGET_INDEX：データ削除対象のインデックス名  \n",
    "* SHOT_NUMBER：ショット番号"
   ]
  },
  {
   "cell_type": "code",
   "execution_count": null,
   "metadata": {},
   "outputs": [],
   "source": [
    "TARGET_INDEX = 'shots-20201112'\n",
    "SHOT_NUMBER = 1"
   ]
  },
  {
   "cell_type": "code",
   "execution_count": null,
   "metadata": {},
   "outputs": [],
   "source": [
    "from elastic_manager import ElasticManager\n",
    "\n",
    "ElasticManager.delete_data_by_shot_num(index=TARGET_INDEX, shot_number=SHOT_NUMBER)"
   ]
  }
 ],
 "metadata": {
  "kernelspec": {
   "display_name": "Python 3",
   "language": "python",
   "name": "python3"
  },
  "language_info": {
   "codemirror_mode": {
    "name": "ipython",
    "version": 3
   },
   "file_extension": ".py",
   "mimetype": "text/x-python",
   "name": "python",
   "nbconvert_exporter": "python",
   "pygments_lexer": "ipython3",
   "version": "3.8.3"
  }
 },
 "nbformat": 4,
 "nbformat_minor": 4
}
