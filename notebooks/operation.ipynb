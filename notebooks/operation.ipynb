{
 "cells": [
  {
   "cell_type": "markdown",
   "metadata": {},
   "source": [
    "# 運用系処理"
   ]
  },
  {
   "cell_type": "markdown",
   "metadata": {},
   "source": [
    "## ライブラリインポート"
   ]
  },
  {
   "cell_type": "code",
   "execution_count": 1,
   "metadata": {},
   "outputs": [],
   "source": [
    "import os, sys\n",
    "sys.path.append(os.path.join(os.getcwd(), '../src/'))\n",
    "from elastic_manager.elastic_manager import ElasticManager\n",
    "import pandas as pd\n",
    "pd.set_option('display.max_rows', 1000) # 最大表示数"
   ]
  },
  {
   "cell_type": "markdown",
   "metadata": {},
   "source": [
    "## インデックス一覧\n",
    "インデックスの名前とドキュメント数、サイズ（kB）を一覧で表示します。  \n",
    "indexを指定しない場合、すべてのインデックスが表示されます。  \n",
    "indexを指定した場合、そのパターンに一致するインデックス一覧が表示されます。  \n",
    "例）ElasticManager.show_indices(index=\"rawdata-*\")  \n",
    "⇒ rawdataインデックスの一覧が表示されます。"
   ]
  },
  {
   "cell_type": "code",
   "execution_count": 7,
   "metadata": {},
   "outputs": [
    {
     "data": {
      "text/html": [
       "<div>\n",
       "<style scoped>\n",
       "    .dataframe tbody tr th:only-of-type {\n",
       "        vertical-align: middle;\n",
       "    }\n",
       "\n",
       "    .dataframe tbody tr th {\n",
       "        vertical-align: top;\n",
       "    }\n",
       "\n",
       "    .dataframe thead th {\n",
       "        text-align: right;\n",
       "    }\n",
       "</style>\n",
       "<table border=\"1\" class=\"dataframe\">\n",
       "  <thead>\n",
       "    <tr style=\"text-align: right;\">\n",
       "      <th></th>\n",
       "      <th>index</th>\n",
       "      <th>docs.count</th>\n",
       "      <th>store.size</th>\n",
       "    </tr>\n",
       "  </thead>\n",
       "  <tbody>\n",
       "    <tr>\n",
       "      <th>0</th>\n",
       "      <td>shots-20201201010000-data</td>\n",
       "      <td>9281299</td>\n",
       "      <td>1199088</td>\n",
       "    </tr>\n",
       "    <tr>\n",
       "      <th>1</th>\n",
       "      <td>shots-20210129114815-data</td>\n",
       "      <td>0</td>\n",
       "      <td>0</td>\n",
       "    </tr>\n",
       "  </tbody>\n",
       "</table>\n",
       "</div>"
      ],
      "text/plain": [
       "                       index docs.count store.size\n",
       "0  shots-20201201010000-data    9281299    1199088\n",
       "1  shots-20210129114815-data          0          0"
      ]
     },
     "execution_count": 7,
     "metadata": {},
     "output_type": "execute_result"
    }
   ],
   "source": [
    "# 例）ElasticManager.show_indices(index=\"rawdata-*\")\n",
    "ElasticManager.show_indices(index=\"shots-*-data\")"
   ]
  },
  {
   "cell_type": "markdown",
   "metadata": {},
   "source": [
    "## インデックス削除\n",
    "DELETE_INDEXに削除するインデックス名を入力します。ワイルドカード(\\*)が使用可能です。  \n",
    "例）rawdata-20201201\\*  \n",
    "⇒ 2020/12/01のrawdataデータインデックスがすべて削除されます。"
   ]
  },
  {
   "cell_type": "code",
   "execution_count": 8,
   "metadata": {},
   "outputs": [],
   "source": [
    "DELETE_INDEX = 'shots-20210129114815-data'"
   ]
  },
  {
   "cell_type": "code",
   "execution_count": 9,
   "metadata": {},
   "outputs": [],
   "source": [
    "ElasticManager.delete_index(DELETE_INDEX)"
   ]
  },
  {
   "cell_type": "markdown",
   "metadata": {},
   "source": [
    "## データ削除（連番指定）\n",
    "連番指定でデータを削除します。以下のパラメータを指定してください。\n",
    "\n",
    "* TARGET_INDEX：データ削除対象のインデックス名  \n",
    "* START_SEQ_NUM：開始番号  \n",
    "* END_SEQ_NUM：終了番号"
   ]
  },
  {
   "cell_type": "code",
   "execution_count": 8,
   "metadata": {},
   "outputs": [],
   "source": [
    "TARGET_INDEX = 'rawdata-20210118153002'\n",
    "START_SEQ_NUM = 0\n",
    "END_SEQ_NUM = 10"
   ]
  },
  {
   "cell_type": "code",
   "execution_count": 9,
   "metadata": {},
   "outputs": [],
   "source": [
    "ElasticManager.delete_data_by_seq_num(index=TARGET_INDEX, start=START_SEQ_NUM, end=END_SEQ_NUM)"
   ]
  },
  {
   "cell_type": "markdown",
   "metadata": {},
   "source": [
    "## データ削除（ショット番号指定）\n",
    "ショット番号指定でデータを削除します。以下のパラメータを指定してください。  \n",
    "\n",
    "* TARGET_INDEX：データ削除対象のインデックス名  \n",
    "* SHOT_NUMBER：ショット番号"
   ]
  },
  {
   "cell_type": "code",
   "execution_count": 5,
   "metadata": {},
   "outputs": [],
   "source": [
    "TARGET_INDEX = 'shots-20201201010000-data'\n",
    "SHOT_NUMBER = 2"
   ]
  },
  {
   "cell_type": "code",
   "execution_count": 6,
   "metadata": {},
   "outputs": [],
   "source": [
    "ElasticManager.delete_data_by_shot_num(index=TARGET_INDEX, shot_number=SHOT_NUMBER)"
   ]
  },
  {
   "cell_type": "markdown",
   "metadata": {},
   "source": [
    "# テンポラリファイル読み込み"
   ]
  },
  {
   "cell_type": "code",
   "execution_count": 8,
   "metadata": {},
   "outputs": [
    {
     "name": "stdout",
     "output_type": "stream",
     "text": [
      "データ数: 6154240\n"
     ]
    }
   ],
   "source": [
    "import glob\n",
    "\n",
    "# テンポラリファイル読み込み\n",
    "target_dir = \"/home/ymiyamoto5/h-one-experimental-system/shared/data/20210201151814\"\n",
    "\n",
    "pickle_file_list = glob.glob(os.path.join(target_dir, \"*.pkl\"))\n",
    "pickle_file_list.sort()\n",
    "\n",
    "rawdata_df = pd.DataFrame()\n",
    "\n",
    "for pickle_file in pickle_file_list:\n",
    "    pickle_df = pd.read_pickle(pickle_file)\n",
    "    rawdata_df = pd.concat([rawdata_df, pickle_df], axis=0)\n",
    "\n",
    "rawdata_df.reset_index()\n",
    "print(f\"データ数: {len(rawdata_df)}\")"
   ]
  },
  {
   "cell_type": "code",
   "execution_count": 9,
   "metadata": {},
   "outputs": [
    {
     "data": {
      "text/html": [
       "<div>\n",
       "<style scoped>\n",
       "    .dataframe tbody tr th:only-of-type {\n",
       "        vertical-align: middle;\n",
       "    }\n",
       "\n",
       "    .dataframe tbody tr th {\n",
       "        vertical-align: top;\n",
       "    }\n",
       "\n",
       "    .dataframe thead th {\n",
       "        text-align: right;\n",
       "    }\n",
       "</style>\n",
       "<table border=\"1\" class=\"dataframe\">\n",
       "  <thead>\n",
       "    <tr style=\"text-align: right;\">\n",
       "      <th></th>\n",
       "      <th>sequential_number</th>\n",
       "      <th>timestamp</th>\n",
       "      <th>displacement</th>\n",
       "      <th>load01</th>\n",
       "      <th>load02</th>\n",
       "      <th>load03</th>\n",
       "      <th>load04</th>\n",
       "    </tr>\n",
       "  </thead>\n",
       "  <tbody>\n",
       "    <tr>\n",
       "      <th>0</th>\n",
       "      <td>0</td>\n",
       "      <td>1.608073e+09</td>\n",
       "      <td>5.051</td>\n",
       "      <td>-1.598</td>\n",
       "      <td>-1.598</td>\n",
       "      <td>-1.598</td>\n",
       "      <td>-1.598</td>\n",
       "    </tr>\n",
       "    <tr>\n",
       "      <th>1</th>\n",
       "      <td>1</td>\n",
       "      <td>1.608073e+09</td>\n",
       "      <td>5.051</td>\n",
       "      <td>-1.709</td>\n",
       "      <td>-1.709</td>\n",
       "      <td>-1.710</td>\n",
       "      <td>-1.710</td>\n",
       "    </tr>\n",
       "    <tr>\n",
       "      <th>2</th>\n",
       "      <td>2</td>\n",
       "      <td>1.608073e+09</td>\n",
       "      <td>5.051</td>\n",
       "      <td>-1.813</td>\n",
       "      <td>-1.813</td>\n",
       "      <td>-1.813</td>\n",
       "      <td>-1.813</td>\n",
       "    </tr>\n",
       "    <tr>\n",
       "      <th>3</th>\n",
       "      <td>3</td>\n",
       "      <td>1.608073e+09</td>\n",
       "      <td>5.052</td>\n",
       "      <td>-1.911</td>\n",
       "      <td>-1.911</td>\n",
       "      <td>-1.912</td>\n",
       "      <td>-1.912</td>\n",
       "    </tr>\n",
       "    <tr>\n",
       "      <th>4</th>\n",
       "      <td>4</td>\n",
       "      <td>1.608073e+09</td>\n",
       "      <td>5.052</td>\n",
       "      <td>-2.001</td>\n",
       "      <td>-2.001</td>\n",
       "      <td>-2.001</td>\n",
       "      <td>-2.001</td>\n",
       "    </tr>\n",
       "  </tbody>\n",
       "</table>\n",
       "</div>"
      ],
      "text/plain": [
       "   sequential_number     timestamp  displacement  load01  load02  load03  \\\n",
       "0                  0  1.608073e+09         5.051  -1.598  -1.598  -1.598   \n",
       "1                  1  1.608073e+09         5.051  -1.709  -1.709  -1.710   \n",
       "2                  2  1.608073e+09         5.051  -1.813  -1.813  -1.813   \n",
       "3                  3  1.608073e+09         5.052  -1.911  -1.911  -1.912   \n",
       "4                  4  1.608073e+09         5.052  -2.001  -2.001  -2.001   \n",
       "\n",
       "   load04  \n",
       "0  -1.598  \n",
       "1  -1.710  \n",
       "2  -1.813  \n",
       "3  -1.912  \n",
       "4  -2.001  "
      ]
     },
     "execution_count": 9,
     "metadata": {},
     "output_type": "execute_result"
    }
   ],
   "source": [
    "rawdata_df.head()"
   ]
  },
  {
   "cell_type": "markdown",
   "metadata": {},
   "source": [
    "# テンポラリファイル データ削除"
   ]
  },
  {
   "cell_type": "code",
   "execution_count": 10,
   "metadata": {},
   "outputs": [
    {
     "data": {
      "text/html": [
       "<div>\n",
       "<style scoped>\n",
       "    .dataframe tbody tr th:only-of-type {\n",
       "        vertical-align: middle;\n",
       "    }\n",
       "\n",
       "    .dataframe tbody tr th {\n",
       "        vertical-align: top;\n",
       "    }\n",
       "\n",
       "    .dataframe thead th {\n",
       "        text-align: right;\n",
       "    }\n",
       "</style>\n",
       "<table border=\"1\" class=\"dataframe\">\n",
       "  <thead>\n",
       "    <tr style=\"text-align: right;\">\n",
       "      <th></th>\n",
       "      <th>sequential_number</th>\n",
       "      <th>timestamp</th>\n",
       "      <th>displacement</th>\n",
       "      <th>load01</th>\n",
       "      <th>load02</th>\n",
       "      <th>load03</th>\n",
       "      <th>load04</th>\n",
       "    </tr>\n",
       "  </thead>\n",
       "  <tbody>\n",
       "    <tr>\n",
       "      <th>10</th>\n",
       "      <td>10</td>\n",
       "      <td>1.608073e+09</td>\n",
       "      <td>5.051</td>\n",
       "      <td>-2.354</td>\n",
       "      <td>-2.355</td>\n",
       "      <td>-2.355</td>\n",
       "      <td>-2.355</td>\n",
       "    </tr>\n",
       "    <tr>\n",
       "      <th>11</th>\n",
       "      <td>11</td>\n",
       "      <td>1.608073e+09</td>\n",
       "      <td>5.051</td>\n",
       "      <td>-2.379</td>\n",
       "      <td>-2.379</td>\n",
       "      <td>-2.380</td>\n",
       "      <td>-2.380</td>\n",
       "    </tr>\n",
       "    <tr>\n",
       "      <th>12</th>\n",
       "      <td>12</td>\n",
       "      <td>1.608073e+09</td>\n",
       "      <td>5.052</td>\n",
       "      <td>-2.398</td>\n",
       "      <td>-2.398</td>\n",
       "      <td>-2.398</td>\n",
       "      <td>-2.398</td>\n",
       "    </tr>\n",
       "    <tr>\n",
       "      <th>13</th>\n",
       "      <td>13</td>\n",
       "      <td>1.608073e+09</td>\n",
       "      <td>5.050</td>\n",
       "      <td>-2.407</td>\n",
       "      <td>-2.407</td>\n",
       "      <td>-2.407</td>\n",
       "      <td>-2.407</td>\n",
       "    </tr>\n",
       "    <tr>\n",
       "      <th>14</th>\n",
       "      <td>14</td>\n",
       "      <td>1.608073e+09</td>\n",
       "      <td>5.051</td>\n",
       "      <td>-2.408</td>\n",
       "      <td>-2.408</td>\n",
       "      <td>-2.408</td>\n",
       "      <td>-2.408</td>\n",
       "    </tr>\n",
       "    <tr>\n",
       "      <th>...</th>\n",
       "      <td>...</td>\n",
       "      <td>...</td>\n",
       "      <td>...</td>\n",
       "      <td>...</td>\n",
       "      <td>...</td>\n",
       "      <td>...</td>\n",
       "      <td>...</td>\n",
       "    </tr>\n",
       "    <tr>\n",
       "      <th>162811</th>\n",
       "      <td>6154235</td>\n",
       "      <td>1.608073e+09</td>\n",
       "      <td>4.862</td>\n",
       "      <td>-2.391</td>\n",
       "      <td>-2.391</td>\n",
       "      <td>-2.391</td>\n",
       "      <td>-2.391</td>\n",
       "    </tr>\n",
       "    <tr>\n",
       "      <th>162812</th>\n",
       "      <td>6154236</td>\n",
       "      <td>1.608073e+09</td>\n",
       "      <td>4.709</td>\n",
       "      <td>-2.366</td>\n",
       "      <td>-2.366</td>\n",
       "      <td>-2.366</td>\n",
       "      <td>-2.366</td>\n",
       "    </tr>\n",
       "    <tr>\n",
       "      <th>162813</th>\n",
       "      <td>6154237</td>\n",
       "      <td>1.608073e+09</td>\n",
       "      <td>4.559</td>\n",
       "      <td>-2.335</td>\n",
       "      <td>-2.335</td>\n",
       "      <td>-2.335</td>\n",
       "      <td>-2.335</td>\n",
       "    </tr>\n",
       "    <tr>\n",
       "      <th>162814</th>\n",
       "      <td>6154238</td>\n",
       "      <td>1.608073e+09</td>\n",
       "      <td>4.407</td>\n",
       "      <td>-2.292</td>\n",
       "      <td>-2.292</td>\n",
       "      <td>-2.293</td>\n",
       "      <td>-2.293</td>\n",
       "    </tr>\n",
       "    <tr>\n",
       "      <th>162815</th>\n",
       "      <td>6154239</td>\n",
       "      <td>1.608073e+09</td>\n",
       "      <td>4.256</td>\n",
       "      <td>-2.242</td>\n",
       "      <td>-2.242</td>\n",
       "      <td>-2.243</td>\n",
       "      <td>-2.242</td>\n",
       "    </tr>\n",
       "  </tbody>\n",
       "</table>\n",
       "<p>6154230 rows × 7 columns</p>\n",
       "</div>"
      ],
      "text/plain": [
       "        sequential_number     timestamp  displacement  load01  load02  load03  \\\n",
       "10                     10  1.608073e+09         5.051  -2.354  -2.355  -2.355   \n",
       "11                     11  1.608073e+09         5.051  -2.379  -2.379  -2.380   \n",
       "12                     12  1.608073e+09         5.052  -2.398  -2.398  -2.398   \n",
       "13                     13  1.608073e+09         5.050  -2.407  -2.407  -2.407   \n",
       "14                     14  1.608073e+09         5.051  -2.408  -2.408  -2.408   \n",
       "...                   ...           ...           ...     ...     ...     ...   \n",
       "162811            6154235  1.608073e+09         4.862  -2.391  -2.391  -2.391   \n",
       "162812            6154236  1.608073e+09         4.709  -2.366  -2.366  -2.366   \n",
       "162813            6154237  1.608073e+09         4.559  -2.335  -2.335  -2.335   \n",
       "162814            6154238  1.608073e+09         4.407  -2.292  -2.292  -2.293   \n",
       "162815            6154239  1.608073e+09         4.256  -2.242  -2.242  -2.243   \n",
       "\n",
       "        load04  \n",
       "10      -2.355  \n",
       "11      -2.380  \n",
       "12      -2.398  \n",
       "13      -2.407  \n",
       "14      -2.408  \n",
       "...        ...  \n",
       "162811  -2.391  \n",
       "162812  -2.366  \n",
       "162813  -2.335  \n",
       "162814  -2.293  \n",
       "162815  -2.242  \n",
       "\n",
       "[6154230 rows x 7 columns]"
      ]
     },
     "execution_count": 10,
     "metadata": {},
     "output_type": "execute_result"
    }
   ],
   "source": [
    "rawdata_df_fixed = rawdata_df[10:] # 最初の10サンプル以外を取り出し\n",
    "rawdata_df_fixed"
   ]
  },
  {
   "cell_type": "markdown",
   "metadata": {},
   "source": [
    "## テンポラリファイル出力"
   ]
  },
  {
   "cell_type": "code",
   "execution_count": 11,
   "metadata": {},
   "outputs": [],
   "source": [
    "rawdata_df_fixed.to_pickle(\"/home/ymiyamoto5/h-one-experimental-system/shared/data/20210201151814/fixed.pkl\")"
   ]
  },
  {
   "cell_type": "code",
   "execution_count": null,
   "metadata": {},
   "outputs": [],
   "source": []
  }
 ],
 "metadata": {
  "kernelspec": {
   "display_name": "Python 3",
   "language": "python",
   "name": "python3"
  },
  "language_info": {
   "codemirror_mode": {
    "name": "ipython",
    "version": 3
   },
   "file_extension": ".py",
   "mimetype": "text/x-python",
   "name": "python",
   "nbconvert_exporter": "python",
   "pygments_lexer": "ipython3",
   "version": "3.8.3"
  }
 },
 "nbformat": 4,
 "nbformat_minor": 4
}
