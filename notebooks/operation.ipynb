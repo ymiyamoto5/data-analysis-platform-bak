{
 "cells": [
  {
   "cell_type": "markdown",
   "metadata": {},
   "source": [
    "# 運用系処理"
   ]
  },
  {
   "cell_type": "markdown",
   "metadata": {},
   "source": [
    "## インデックス一覧\n",
    "インデックス一覧を表示します。indexを指定しない場合、すべてのインデックスが表示されます。  \n",
    "indexを指定した場合、そのパターンに一致するインデックス一覧が表示されます。  \n",
    "例）ElasticManager.show_indices(index=\"rawdata-*\")  \n",
    "⇒ rawdataインデックスの一覧が表示されます。"
   ]
  },
  {
   "cell_type": "code",
   "execution_count": 5,
   "metadata": {},
   "outputs": [
    {
     "data": {
      "text/html": [
       "<div>\n",
       "<style scoped>\n",
       "    .dataframe tbody tr th:only-of-type {\n",
       "        vertical-align: middle;\n",
       "    }\n",
       "\n",
       "    .dataframe tbody tr th {\n",
       "        vertical-align: top;\n",
       "    }\n",
       "\n",
       "    .dataframe thead th {\n",
       "        text-align: right;\n",
       "    }\n",
       "</style>\n",
       "<table border=\"1\" class=\"dataframe\">\n",
       "  <thead>\n",
       "    <tr style=\"text-align: right;\">\n",
       "      <th></th>\n",
       "      <th>index</th>\n",
       "      <th>docs.count</th>\n",
       "      <th>store.size</th>\n",
       "    </tr>\n",
       "  </thead>\n",
       "  <tbody>\n",
       "    <tr>\n",
       "      <th>0</th>\n",
       "      <td>rawdata-20201216165900</td>\n",
       "      <td>0</td>\n",
       "      <td>0</td>\n",
       "    </tr>\n",
       "    <tr>\n",
       "      <th>1</th>\n",
       "      <td>rawdata-20210118153002</td>\n",
       "      <td>156672</td>\n",
       "      <td>14177</td>\n",
       "    </tr>\n",
       "    <tr>\n",
       "      <th>2</th>\n",
       "      <td>rawdata-20210119104121</td>\n",
       "      <td>157696</td>\n",
       "      <td>14345</td>\n",
       "    </tr>\n",
       "    <tr>\n",
       "      <th>3</th>\n",
       "      <td>rawdata-20210119115701</td>\n",
       "      <td>6154240</td>\n",
       "      <td>556826</td>\n",
       "    </tr>\n",
       "    <tr>\n",
       "      <th>4</th>\n",
       "      <td>rawdata-20210119115715</td>\n",
       "      <td>0</td>\n",
       "      <td>0</td>\n",
       "    </tr>\n",
       "    <tr>\n",
       "      <th>5</th>\n",
       "      <td>rawdata-20210119115802</td>\n",
       "      <td>0</td>\n",
       "      <td>0</td>\n",
       "    </tr>\n",
       "    <tr>\n",
       "      <th>6</th>\n",
       "      <td>rawdata-20210120002716</td>\n",
       "      <td>6154240</td>\n",
       "      <td>555644</td>\n",
       "    </tr>\n",
       "    <tr>\n",
       "      <th>7</th>\n",
       "      <td>rawdata-20210120010638</td>\n",
       "      <td>1108992</td>\n",
       "      <td>99052</td>\n",
       "    </tr>\n",
       "    <tr>\n",
       "      <th>8</th>\n",
       "      <td>rawdata-20210120012626</td>\n",
       "      <td>315392</td>\n",
       "      <td>27902</td>\n",
       "    </tr>\n",
       "    <tr>\n",
       "      <th>9</th>\n",
       "      <td>rawdata-20210120014154</td>\n",
       "      <td>788480</td>\n",
       "      <td>70311</td>\n",
       "    </tr>\n",
       "    <tr>\n",
       "      <th>10</th>\n",
       "      <td>rawdata-20210120025643</td>\n",
       "      <td>157696</td>\n",
       "      <td>14324</td>\n",
       "    </tr>\n",
       "    <tr>\n",
       "      <th>11</th>\n",
       "      <td>rawdata-no04</td>\n",
       "      <td>500001</td>\n",
       "      <td>39948</td>\n",
       "    </tr>\n",
       "    <tr>\n",
       "      <th>12</th>\n",
       "      <td>rawdata-no13</td>\n",
       "      <td>500001</td>\n",
       "      <td>41454</td>\n",
       "    </tr>\n",
       "    <tr>\n",
       "      <th>13</th>\n",
       "      <td>rawdata-no13-3000</td>\n",
       "      <td>214500429</td>\n",
       "      <td>16534093</td>\n",
       "    </tr>\n",
       "  </tbody>\n",
       "</table>\n",
       "</div>"
      ],
      "text/plain": [
       "                     index docs.count store.size\n",
       "0   rawdata-20201216165900          0          0\n",
       "1   rawdata-20210118153002     156672      14177\n",
       "2   rawdata-20210119104121     157696      14345\n",
       "3   rawdata-20210119115701    6154240     556826\n",
       "4   rawdata-20210119115715          0          0\n",
       "5   rawdata-20210119115802          0          0\n",
       "6   rawdata-20210120002716    6154240     555644\n",
       "7   rawdata-20210120010638    1108992      99052\n",
       "8   rawdata-20210120012626     315392      27902\n",
       "9   rawdata-20210120014154     788480      70311\n",
       "10  rawdata-20210120025643     157696      14324\n",
       "11            rawdata-no04     500001      39948\n",
       "12            rawdata-no13     500001      41454\n",
       "13       rawdata-no13-3000  214500429   16534093"
      ]
     },
     "execution_count": 5,
     "metadata": {},
     "output_type": "execute_result"
    }
   ],
   "source": [
    "import os, sys\n",
    "sys.path.append(os.path.join(os.getcwd(), '../src/'))\n",
    "from elastic_manager.elastic_manager import ElasticManager\n",
    "import pandas as pd\n",
    "pd.set_option('display.max_rows', 1000) # 最大表示数\n",
    "\n",
    "ElasticManager.show_indices(index=\"rawdata-*\")"
   ]
  },
  {
   "cell_type": "markdown",
   "metadata": {},
   "source": [
    "## インデックス削除\n",
    "DELETE_INDEXに削除するインデックス名を入力します。ワイルドカード(\\*)が使用可能です。  \n",
    "例）rawdata-20201201\\*  \n",
    "⇒ 2020/12/01のrawdataデータインデックスがすべて削除されます。"
   ]
  },
  {
   "cell_type": "code",
   "execution_count": 11,
   "metadata": {},
   "outputs": [],
   "source": [
    "DELETE_INDEX = 'rawdata-20201113-*'"
   ]
  },
  {
   "cell_type": "code",
   "execution_count": 12,
   "metadata": {},
   "outputs": [
    {
     "name": "stdout",
     "output_type": "stream",
     "text": [
      "rawdata-20201113-*を削除しました。\n"
     ]
    }
   ],
   "source": [
    "from elastic_manager import ElasticManager\n",
    "\n",
    "ElasticManager.delete_index(DELETE_INDEX)"
   ]
  },
  {
   "cell_type": "markdown",
   "metadata": {},
   "source": [
    "## データ削除（連番指定）\n",
    "連番指定でデータを削除します。以下のパラメータを指定してください。\n",
    "\n",
    "* TARGET_INDEX：データ削除対象のインデックス名  \n",
    "* START_SEQ_NUM：開始番号  \n",
    "* END_SEQ_NUM：終了番号"
   ]
  },
  {
   "cell_type": "code",
   "execution_count": 2,
   "metadata": {},
   "outputs": [],
   "source": [
    "TARGET_INDEX = 'rawdata-20201112-1'\n",
    "START_SEQ_NUM = 0\n",
    "END_SEQ_NUM = 10"
   ]
  },
  {
   "cell_type": "code",
   "execution_count": 3,
   "metadata": {},
   "outputs": [
    {
     "name": "stdout",
     "output_type": "stream",
     "text": [
      "データを11件削除しました。\n"
     ]
    }
   ],
   "source": [
    "from elastic_manager import ElasticManager\n",
    "\n",
    "ElasticManager.delete_data_by_seq_num(index=TARGET_INDEX, start=START_SEQ_NUM, end=END_SEQ_NUM)"
   ]
  },
  {
   "cell_type": "markdown",
   "metadata": {},
   "source": [
    "## データ削除（ショット番号指定）\n",
    "ショット番号指定でデータを削除します。以下のパラメータを指定してください。  \n",
    "\n",
    "* TARGET_INDEX：データ削除対象のインデックス名  \n",
    "* SHOT_NUMBER：ショット番号"
   ]
  },
  {
   "cell_type": "code",
   "execution_count": null,
   "metadata": {},
   "outputs": [],
   "source": [
    "TARGET_INDEX = 'shots-20201112'\n",
    "SHOT_NUMBER = 1"
   ]
  },
  {
   "cell_type": "code",
   "execution_count": null,
   "metadata": {},
   "outputs": [],
   "source": [
    "from elastic_manager import ElasticManager\n",
    "\n",
    "ElasticManager.delete_data_by_shot_num(index=TARGET_INDEX, shot_number=SHOT_NUMBER)"
   ]
  }
 ],
 "metadata": {
  "kernelspec": {
   "display_name": "Python 3",
   "language": "python",
   "name": "python3"
  },
  "language_info": {
   "codemirror_mode": {
    "name": "ipython",
    "version": 3
   },
   "file_extension": ".py",
   "mimetype": "text/x-python",
   "name": "python",
   "nbconvert_exporter": "python",
   "pygments_lexer": "ipython3",
   "version": "3.8.3"
  }
 },
 "nbformat": 4,
 "nbformat_minor": 4
}
