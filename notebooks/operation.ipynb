{
 "cells": [
  {
   "cell_type": "markdown",
   "metadata": {},
   "source": [
    "# 運用系処理"
   ]
  },
  {
   "cell_type": "markdown",
   "metadata": {},
   "source": [
    "## ライブラリインポート"
   ]
  },
  {
   "cell_type": "code",
   "execution_count": 1,
   "metadata": {},
   "outputs": [],
   "source": [
    "import os, sys\n",
    "sys.path.append(os.path.join(os.getcwd(), '../src/'))\n",
    "from elastic_manager.elastic_manager import ElasticManager\n",
    "import pandas as pd\n",
    "pd.set_option('display.max_rows', 1000) # 最大表示数"
   ]
  },
  {
   "cell_type": "markdown",
   "metadata": {},
   "source": [
    "## インデックス一覧\n",
    "インデックスの名前とドキュメント数、サイズ（kB）を一覧で表示します。  \n",
    "indexを指定しない場合、すべてのインデックスが表示されます。  \n",
    "indexを指定した場合、そのパターンに一致するインデックス一覧が表示されます。  \n",
    "例）ElasticManager.show_indices(index=\"rawdata-*\")  \n",
    "⇒ rawdataインデックスの一覧が表示されます。"
   ]
  },
  {
   "cell_type": "code",
   "execution_count": 7,
   "metadata": {},
   "outputs": [
    {
     "data": {
      "text/html": [
       "<div>\n",
       "<style scoped>\n",
       "    .dataframe tbody tr th:only-of-type {\n",
       "        vertical-align: middle;\n",
       "    }\n",
       "\n",
       "    .dataframe tbody tr th {\n",
       "        vertical-align: top;\n",
       "    }\n",
       "\n",
       "    .dataframe thead th {\n",
       "        text-align: right;\n",
       "    }\n",
       "</style>\n",
       "<table border=\"1\" class=\"dataframe\">\n",
       "  <thead>\n",
       "    <tr style=\"text-align: right;\">\n",
       "      <th></th>\n",
       "      <th>index</th>\n",
       "      <th>docs.count</th>\n",
       "      <th>store.size</th>\n",
       "    </tr>\n",
       "  </thead>\n",
       "  <tbody>\n",
       "    <tr>\n",
       "      <th>0</th>\n",
       "      <td>shots-20201201010000-data</td>\n",
       "      <td>9281299</td>\n",
       "      <td>1199088</td>\n",
       "    </tr>\n",
       "    <tr>\n",
       "      <th>1</th>\n",
       "      <td>shots-20210129114815-data</td>\n",
       "      <td>0</td>\n",
       "      <td>0</td>\n",
       "    </tr>\n",
       "  </tbody>\n",
       "</table>\n",
       "</div>"
      ],
      "text/plain": [
       "                       index docs.count store.size\n",
       "0  shots-20201201010000-data    9281299    1199088\n",
       "1  shots-20210129114815-data          0          0"
      ]
     },
     "execution_count": 7,
     "metadata": {},
     "output_type": "execute_result"
    }
   ],
   "source": [
    "# 例）ElasticManager.show_indices(index=\"rawdata-*\")\n",
    "ElasticManager.show_indices(index=\"shots-*-data\")"
   ]
  },
  {
   "cell_type": "markdown",
   "metadata": {},
   "source": [
    "## インデックス削除\n",
    "DELETE_INDEXに削除するインデックス名を入力します。ワイルドカード(\\*)が使用可能です。  \n",
    "例）rawdata-20201201\\*  \n",
    "⇒ 2020/12/01のrawdataデータインデックスがすべて削除されます。"
   ]
  },
  {
   "cell_type": "code",
   "execution_count": 8,
   "metadata": {},
   "outputs": [],
   "source": [
    "DELETE_INDEX = 'shots-20210129114815-data'"
   ]
  },
  {
   "cell_type": "code",
   "execution_count": 9,
   "metadata": {},
   "outputs": [],
   "source": [
    "ElasticManager.delete_index(DELETE_INDEX)"
   ]
  },
  {
   "cell_type": "markdown",
   "metadata": {},
   "source": [
    "## データ削除（連番指定）\n",
    "連番指定でデータを削除します。以下のパラメータを指定してください。\n",
    "\n",
    "* TARGET_INDEX：データ削除対象のインデックス名  \n",
    "* START_SEQ_NUM：開始番号  \n",
    "* END_SEQ_NUM：終了番号"
   ]
  },
  {
   "cell_type": "code",
   "execution_count": 8,
   "metadata": {},
   "outputs": [],
   "source": [
    "TARGET_INDEX = 'rawdata-20210118153002'\n",
    "START_SEQ_NUM = 0\n",
    "END_SEQ_NUM = 10"
   ]
  },
  {
   "cell_type": "code",
   "execution_count": 9,
   "metadata": {},
   "outputs": [],
   "source": [
    "ElasticManager.delete_data_by_seq_num(index=TARGET_INDEX, start=START_SEQ_NUM, end=END_SEQ_NUM)"
   ]
  },
  {
   "cell_type": "markdown",
   "metadata": {},
   "source": [
    "## データ削除（ショット番号指定）\n",
    "ショット番号指定でデータを削除します。以下のパラメータを指定してください。  \n",
    "\n",
    "* TARGET_INDEX：データ削除対象のインデックス名  \n",
    "* SHOT_NUMBER：ショット番号"
   ]
  },
  {
   "cell_type": "code",
   "execution_count": 5,
   "metadata": {},
   "outputs": [],
   "source": [
    "TARGET_INDEX = 'shots-20201201010000-data'\n",
    "SHOT_NUMBER = 2"
   ]
  },
  {
   "cell_type": "code",
   "execution_count": 6,
   "metadata": {},
   "outputs": [],
   "source": [
    "ElasticManager.delete_data_by_shot_num(index=TARGET_INDEX, shot_number=SHOT_NUMBER)"
   ]
  }
 ],
 "metadata": {
  "kernelspec": {
   "display_name": "Python 3",
   "language": "python",
   "name": "python3"
  },
  "language_info": {
   "codemirror_mode": {
    "name": "ipython",
    "version": 3
   },
   "file_extension": ".py",
   "mimetype": "text/x-python",
   "name": "python",
   "nbconvert_exporter": "python",
   "pygments_lexer": "ipython3",
   "version": "3.8.3"
  }
 },
 "nbformat": 4,
 "nbformat_minor": 4
}
