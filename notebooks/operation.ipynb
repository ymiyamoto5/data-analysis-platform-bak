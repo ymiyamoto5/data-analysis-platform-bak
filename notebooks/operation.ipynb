{
 "cells": [
  {
   "cell_type": "markdown",
   "metadata": {},
   "source": [
    "# 運用系処理"
   ]
  },
  {
   "cell_type": "markdown",
   "metadata": {},
   "source": [
    "## インデックス一覧"
   ]
  },
  {
   "cell_type": "code",
   "execution_count": 42,
   "metadata": {},
   "outputs": [
    {
     "name": "stdout",
     "output_type": "stream",
     "text": [
      "index     docs.count store.size\n",
      "meta-data         61         59\n"
     ]
    }
   ],
   "source": [
    "from elastic_manager import ElasticManager\n",
    "\n",
    "ElasticManager.show_indices()"
   ]
  },
  {
   "cell_type": "markdown",
   "metadata": {},
   "source": [
    "## インデックス削除\n",
    "TARGET_INDEXに削除するインデックス名を入力します。ワイルドカード(\\*)が使用可能です。  \n",
    "例）rawdata-20201201\\*  \n",
    "⇒ 2020/12/01の生データインデックスがすべて削除されます。"
   ]
  },
  {
   "cell_type": "code",
   "execution_count": 38,
   "metadata": {},
   "outputs": [
    {
     "name": "stdout",
     "output_type": "stream",
     "text": [
      "{'acknowledged': True}\n",
      "shots-fullを削除しました。\n"
     ]
    }
   ],
   "source": [
    "TARGET_INDEX = ''\n",
    "\n",
    "def _delete_index():\n",
    "    if TARGET_INDEX == '':\n",
    "        print(\"削除するインデックスをTARGET_INDEXに指定してください。\")\n",
    "        return\n",
    "\n",
    "    if not es.indices.exists(index=TARGET_INDEX):\n",
    "        print(f\"{TARGET_INDEX}が存在しません。\")\n",
    "        return\n",
    "\n",
    "    try:\n",
    "        result = es.indices.delete(index=TARGET_INDEX)\n",
    "        if result.acknowledged:\n",
    "            print(f\"{TARGET_INDEX}を削除しました。\")\n",
    "        else:\n",
    "            print(f\"{TARGET_INDEX}の削除に失敗しました。\")\n",
    "    except:\n",
    "        print(f\"{TARGET_INDEX}削除時に例外が発生しました。\")\n",
    "        \n",
    "_delete_index()"
   ]
  },
  {
   "cell_type": "markdown",
   "metadata": {},
   "source": [
    "## データ削除"
   ]
  },
  {
   "cell_type": "code",
   "execution_count": null,
   "metadata": {},
   "outputs": [],
   "source": []
  }
 ],
 "metadata": {
  "kernelspec": {
   "display_name": "Python 3",
   "language": "python",
   "name": "python3"
  },
  "language_info": {
   "codemirror_mode": {
    "name": "ipython",
    "version": 3
   },
   "file_extension": ".py",
   "mimetype": "text/x-python",
   "name": "python",
   "nbconvert_exporter": "python",
   "pygments_lexer": "ipython3",
   "version": "3.8.3"
  }
 },
 "nbformat": 4,
 "nbformat_minor": 4
}
