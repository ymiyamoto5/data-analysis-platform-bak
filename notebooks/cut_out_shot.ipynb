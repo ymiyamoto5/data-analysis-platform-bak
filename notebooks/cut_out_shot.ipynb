{
 "cells": [
  {
   "cell_type": "markdown",
   "metadata": {},
   "source": [
    "# ショット切り出し  \n",
    "\n",
    "以下の処理を行います。  \n",
    "\n",
    "* ショット切り出し\n",
    "* 中断区間のデータ除外\n",
    "* 物理変換 + 校正\n",
    "* SPM計算\n",
    "* 事象記録のタグ付け\n",
    "* SPMから算出される、ショット当たりの最大サンプル数を超えたショット除外\n",
    "* Elasticsearchインデックスへの保存\n",
    "  * shots-yyyyMMddHHMMSS-data：切り出されたショットデータ\n",
    "  * shots-yyyyMMddHHMMSS-meta：ショットのメタデータ\n",
    "  "
   ]
  },
  {
   "cell_type": "code",
   "execution_count": 2,
   "metadata": {},
   "outputs": [],
   "source": [
    "# ライブラリインポート\n",
    "import os, sys\n",
    "sys.path.append(os.path.join(os.getcwd(), '../src/'))\n",
    "from cut_out_shot.cut_out_shot import CutOutShot\n",
    "from utils import common\n",
    "import logging"
   ]
  },
  {
   "cell_type": "code",
   "execution_count": 3,
   "metadata": {},
   "outputs": [],
   "source": [
    "# ログ設定\n",
    "LOG_FILE = os.path.join(\n",
    "    common.get_config_value(common.APP_CONFIG_PATH, \"log_dir\"), \"cut_out_shot/cut_out_shot.log\"\n",
    ")\n",
    "\n",
    "logging.basicConfig(\n",
    "    level=logging.INFO,\n",
    "    format=\"%(asctime)s [%(levelname)s] %(message)s\",\n",
    "    handlers=[\n",
    "        logging.handlers.RotatingFileHandler(\n",
    "            LOG_FILE, maxBytes=common.MAX_LOG_SIZE, backupCount=common.BACKUP_COUNT\n",
    "        ),\n",
    "        logging.StreamHandler(),\n",
    "    ],\n",
    ")"
   ]
  },
  {
   "cell_type": "markdown",
   "metadata": {},
   "source": [
    "### CutOutShot クラスパラメーター一覧  \n",
    "\n",
    "**【必須】**  \n",
    "***displacement_func***  \n",
    "変位センサーの物理変換式  \n",
    "\n",
    "***load01_func***  \n",
    "荷重センサー01の物理変換式  \n",
    "\n",
    "***load02_func***  \n",
    "荷重センサー02の物理変換式  \n",
    "\n",
    "***load03_func***  \n",
    "荷重センサー03の物理変換式  \n",
    "\n",
    "***load04_func***  \n",
    "荷重センサー04の物理変換式  \n",
    "\n",
    "\n",
    "**【任意】**  \n",
    "***min_spm***  \n",
    "最小SPM。この値をもとに、1ショットに含まれる最大サンプル数を計算し、最大サンプル数を超えたショットは切り出し対象外とする。  \n",
    "指定しない場合、既定値の15となる。  \n",
    "\n",
    "***back_seconds_for_tagging***  \n",
    "データ収集マネージャーで記録した事象について、何秒遡ってタグ付けするかを指定。指定しない場合、既定値の120となる。\n",
    "\n",
    "***previous_size***  \n",
    "ショットを検知したサンプルから何サンプル遡ってショットに含めるかを指定。これは切り出しショットに荷重開始点が確実に含まれるようにするため。指定しない場合、既定値の1000となる。\n"
   ]
  },
  {
   "cell_type": "code",
   "execution_count": 4,
   "metadata": {},
   "outputs": [],
   "source": [
    "# 物理変換式設定\n",
    "#displacement_func = lambda v: 135.0 - (v - 2.0) * 70.0 / 8.0\n",
    "displacement_func = lambda v: v\n",
    "load01_func = lambda v: v * 100000 / 38000.0\n",
    "load02_func = lambda v: v * 100000 / 38000.0\n",
    "load03_func = lambda v: v * 100000 / 38000.0\n",
    "load04_func = lambda v: v * 100000 / 38000.0"
   ]
  },
  {
   "cell_type": "code",
   "execution_count": 5,
   "metadata": {},
   "outputs": [],
   "source": [
    "cut_out_shot = CutOutShot(\n",
    "    displacement_func=displacement_func,\n",
    "    load01_func=load01_func,\n",
    "    load02_func=load02_func,\n",
    "    load03_func=load03_func,\n",
    "    load04_func=load04_func\n",
    ")"
   ]
  },
  {
   "cell_type": "markdown",
   "metadata": {},
   "source": [
    "### cut_out_shot 関数パラメーター一覧\n",
    "**【必須】**  \n",
    "***rawdata_dir_name***  \n",
    "ショット切り出しの対象とする生データファイルのディレクトリ（.pklファイルが含まれるディレクトリ）。  \n",
    "ディレクトリ名はデータ収集開始日時で、yyyyMMddHHMMSSの形式となっている。\n",
    "\n",
    "***start_displacement***  \n",
    "ショット切り出しの開始を検知するための変位値。  \n",
    "\n",
    "***end_displacement***  \n",
    "ショット切り出しの終了を検知するための変位値。  "
   ]
  },
  {
   "cell_type": "code",
   "execution_count": 14,
   "metadata": {},
   "outputs": [
    {
     "name": "stdout",
     "output_type": "stream",
     "text": [
      "[2021-02-02 10:29:50.889616] cut_out_shot start.\n"
     ]
    },
    {
     "name": "stderr",
     "output_type": "stream",
     "text": [
      "2021-02-02 10:29:51,284 [INFO] delete index 'shots-20201201010000-data' finished. result: {'acknowledged': True}\n",
      "2021-02-02 10:29:51,500 [INFO] create index 'shots-20201201010000-data' finished. result: {'acknowledged': True, 'shards_acknowledged': True, 'index': 'shots-20201201010000-data'}\n",
      "2021-02-02 10:29:51,591 [INFO] delete index 'shots-20201201010000-meta' finished. result: {'acknowledged': True}\n",
      "2021-02-02 10:29:51,795 [INFO] create index 'shots-20201201010000-meta' finished. result: {'acknowledged': True, 'shards_acknowledged': True, 'index': 'shots-20201201010000-meta'}\n",
      "2021-02-02 10:30:16,065 [INFO] 367656 shots detected in /home/ymiyamoto5/h-one-experimental-system/shared/data/20201201010000/tmp000.pkl.\n",
      "2021-02-02 10:30:38,937 [INFO] Thoughput: 212135 doc/sec, processed_count: 10000000\n"
     ]
    },
    {
     "name": "stdout",
     "output_type": "stream",
     "text": [
      "[2021-02-02 10:30:38.937283] Thoughput: 212135 doc/sec, processed_count: 10000000\n"
     ]
    },
    {
     "name": "stderr",
     "output_type": "stream",
     "text": [
      "2021-02-02 10:30:45,201 [INFO] 436180 shots detected in /home/ymiyamoto5/h-one-experimental-system/shared/data/20201201010000/tmp001.pkl.\n",
      "2021-02-02 10:31:07,632 [INFO] Thoughput: 263731 doc/sec, processed_count: 20000000\n"
     ]
    },
    {
     "name": "stdout",
     "output_type": "stream",
     "text": [
      "[2021-02-02 10:31:07.632315] Thoughput: 263731 doc/sec, processed_count: 20000000\n"
     ]
    },
    {
     "name": "stderr",
     "output_type": "stream",
     "text": [
      "2021-02-02 10:31:14,027 [INFO] 436180 shots detected in /home/ymiyamoto5/h-one-experimental-system/shared/data/20201201010000/tmp002.pkl.\n",
      "2021-02-02 10:31:37,125 [INFO] Thoughput: 284825 doc/sec, processed_count: 30000000\n"
     ]
    },
    {
     "name": "stdout",
     "output_type": "stream",
     "text": [
      "[2021-02-02 10:31:37.125353] Thoughput: 284825 doc/sec, processed_count: 30000000\n"
     ]
    },
    {
     "name": "stderr",
     "output_type": "stream",
     "text": [
      "2021-02-02 10:31:43,378 [INFO] 436180 shots detected in /home/ymiyamoto5/h-one-experimental-system/shared/data/20201201010000/tmp003.pkl.\n",
      "2021-02-02 10:32:06,801 [INFO] Thoughput: 296289 doc/sec, processed_count: 40000000\n"
     ]
    },
    {
     "name": "stdout",
     "output_type": "stream",
     "text": [
      "[2021-02-02 10:32:06.800967] Thoughput: 296289 doc/sec, processed_count: 40000000\n"
     ]
    },
    {
     "name": "stderr",
     "output_type": "stream",
     "text": [
      "2021-02-02 10:32:13,130 [INFO] 436180 shots detected in /home/ymiyamoto5/h-one-experimental-system/shared/data/20201201010000/tmp004.pkl.\n",
      "2021-02-02 10:32:35,518 [INFO] Thoughput: 305397 doc/sec, processed_count: 50000000\n"
     ]
    },
    {
     "name": "stdout",
     "output_type": "stream",
     "text": [
      "[2021-02-02 10:32:35.518533] Thoughput: 305397 doc/sec, processed_count: 50000000\n"
     ]
    },
    {
     "name": "stderr",
     "output_type": "stream",
     "text": [
      "2021-02-02 10:32:42,191 [INFO] 436180 shots detected in /home/ymiyamoto5/h-one-experimental-system/shared/data/20201201010000/tmp005.pkl.\n",
      "2021-02-02 10:33:05,556 [INFO] Thoughput: 309663 doc/sec, processed_count: 60000000\n"
     ]
    },
    {
     "name": "stdout",
     "output_type": "stream",
     "text": [
      "[2021-02-02 10:33:05.556520] Thoughput: 309663 doc/sec, processed_count: 60000000\n"
     ]
    },
    {
     "name": "stderr",
     "output_type": "stream",
     "text": [
      "2021-02-02 10:33:11,832 [INFO] 436180 shots detected in /home/ymiyamoto5/h-one-experimental-system/shared/data/20201201010000/tmp006.pkl.\n",
      "2021-02-02 10:33:35,325 [INFO] Thoughput: 313159 doc/sec, processed_count: 70000000\n"
     ]
    },
    {
     "name": "stdout",
     "output_type": "stream",
     "text": [
      "[2021-02-02 10:33:35.325702] Thoughput: 313159 doc/sec, processed_count: 70000000\n"
     ]
    },
    {
     "name": "stderr",
     "output_type": "stream",
     "text": [
      "2021-02-02 10:33:41,988 [INFO] 436180 shots detected in /home/ymiyamoto5/h-one-experimental-system/shared/data/20201201010000/tmp007.pkl.\n",
      "2021-02-02 10:34:05,604 [INFO] Thoughput: 315200 doc/sec, processed_count: 80000000\n"
     ]
    },
    {
     "name": "stdout",
     "output_type": "stream",
     "text": [
      "[2021-02-02 10:34:05.604641] Thoughput: 315200 doc/sec, processed_count: 80000000\n"
     ]
    },
    {
     "name": "stderr",
     "output_type": "stream",
     "text": [
      "2021-02-02 10:34:12,303 [INFO] 436180 shots detected in /home/ymiyamoto5/h-one-experimental-system/shared/data/20201201010000/tmp008.pkl.\n",
      "2021-02-02 10:34:35,202 [INFO] Thoughput: 317566 doc/sec, processed_count: 90000000\n"
     ]
    },
    {
     "name": "stdout",
     "output_type": "stream",
     "text": [
      "[2021-02-02 10:34:35.202891] Thoughput: 317566 doc/sec, processed_count: 90000000\n"
     ]
    },
    {
     "name": "stderr",
     "output_type": "stream",
     "text": [
      "2021-02-02 10:34:41,566 [INFO] 436180 shots detected in /home/ymiyamoto5/h-one-experimental-system/shared/data/20201201010000/tmp009.pkl.\n",
      "2021-02-02 10:35:04,801 [INFO] Thoughput: 319485 doc/sec, processed_count: 100000000\n"
     ]
    },
    {
     "name": "stdout",
     "output_type": "stream",
     "text": [
      "[2021-02-02 10:35:04.800938] Thoughput: 319485 doc/sec, processed_count: 100000000\n"
     ]
    },
    {
     "name": "stderr",
     "output_type": "stream",
     "text": [
      "2021-02-02 10:35:11,519 [INFO] 436180 shots detected in /home/ymiyamoto5/h-one-experimental-system/shared/data/20201201010000/tmp010.pkl.\n",
      "2021-02-02 10:35:34,102 [INFO] Thoughput: 321350 doc/sec, processed_count: 110000000\n"
     ]
    },
    {
     "name": "stdout",
     "output_type": "stream",
     "text": [
      "[2021-02-02 10:35:34.102718] Thoughput: 321350 doc/sec, processed_count: 110000000\n"
     ]
    },
    {
     "name": "stderr",
     "output_type": "stream",
     "text": [
      "2021-02-02 10:35:40,375 [INFO] 436180 shots detected in /home/ymiyamoto5/h-one-experimental-system/shared/data/20201201010000/tmp011.pkl.\n",
      "2021-02-02 10:36:06,430 [INFO] Thoughput: 320313 doc/sec, processed_count: 120000000\n"
     ]
    },
    {
     "name": "stdout",
     "output_type": "stream",
     "text": [
      "[2021-02-02 10:36:06.430080] Thoughput: 320313 doc/sec, processed_count: 120000000\n"
     ]
    },
    {
     "name": "stderr",
     "output_type": "stream",
     "text": [
      "2021-02-02 10:36:12,881 [INFO] 436180 shots detected in /home/ymiyamoto5/h-one-experimental-system/shared/data/20201201010000/tmp012.pkl.\n",
      "2021-02-02 10:36:35,152 [INFO] Thoughput: 322297 doc/sec, processed_count: 130000000\n"
     ]
    },
    {
     "name": "stdout",
     "output_type": "stream",
     "text": [
      "[2021-02-02 10:36:35.152271] Thoughput: 322297 doc/sec, processed_count: 130000000\n"
     ]
    },
    {
     "name": "stderr",
     "output_type": "stream",
     "text": [
      "2021-02-02 10:36:41,879 [INFO] 436180 shots detected in /home/ymiyamoto5/h-one-experimental-system/shared/data/20201201010000/tmp013.pkl.\n",
      "2021-02-02 10:37:04,121 [INFO] Thoughput: 323831 doc/sec, processed_count: 140000000\n"
     ]
    },
    {
     "name": "stdout",
     "output_type": "stream",
     "text": [
      "[2021-02-02 10:37:04.121186] Thoughput: 323831 doc/sec, processed_count: 140000000\n"
     ]
    },
    {
     "name": "stderr",
     "output_type": "stream",
     "text": [
      "2021-02-02 10:37:10,851 [INFO] 436180 shots detected in /home/ymiyamoto5/h-one-experimental-system/shared/data/20201201010000/tmp014.pkl.\n",
      "2021-02-02 10:37:35,939 [INFO] Thoughput: 323177 doc/sec, processed_count: 150000000\n"
     ]
    },
    {
     "name": "stdout",
     "output_type": "stream",
     "text": [
      "[2021-02-02 10:37:35.939140] Thoughput: 323177 doc/sec, processed_count: 150000000\n"
     ]
    },
    {
     "name": "stderr",
     "output_type": "stream",
     "text": [
      "2021-02-02 10:37:42,350 [INFO] 436180 shots detected in /home/ymiyamoto5/h-one-experimental-system/shared/data/20201201010000/tmp015.pkl.\n",
      "2021-02-02 10:38:04,695 [INFO] Thoughput: 324610 doc/sec, processed_count: 160000000\n"
     ]
    },
    {
     "name": "stdout",
     "output_type": "stream",
     "text": [
      "[2021-02-02 10:38:04.695667] Thoughput: 324610 doc/sec, processed_count: 160000000\n"
     ]
    },
    {
     "name": "stderr",
     "output_type": "stream",
     "text": [
      "2021-02-02 10:38:11,385 [INFO] 436180 shots detected in /home/ymiyamoto5/h-one-experimental-system/shared/data/20201201010000/tmp016.pkl.\n",
      "2021-02-02 10:38:33,375 [INFO] Thoughput: 325934 doc/sec, processed_count: 170000000\n"
     ]
    },
    {
     "name": "stdout",
     "output_type": "stream",
     "text": [
      "[2021-02-02 10:38:33.375356] Thoughput: 325934 doc/sec, processed_count: 170000000\n"
     ]
    },
    {
     "name": "stderr",
     "output_type": "stream",
     "text": [
      "2021-02-02 10:38:39,692 [INFO] 436180 shots detected in /home/ymiyamoto5/h-one-experimental-system/shared/data/20201201010000/tmp017.pkl.\n",
      "2021-02-02 10:39:05,963 [INFO] Thoughput: 324812 doc/sec, processed_count: 180000000\n"
     ]
    },
    {
     "name": "stdout",
     "output_type": "stream",
     "text": [
      "[2021-02-02 10:39:05.963700] Thoughput: 324812 doc/sec, processed_count: 180000000\n"
     ]
    },
    {
     "name": "stderr",
     "output_type": "stream",
     "text": [
      "2021-02-02 10:39:12,355 [INFO] 436180 shots detected in /home/ymiyamoto5/h-one-experimental-system/shared/data/20201201010000/tmp018.pkl.\n",
      "2021-02-02 10:39:35,898 [INFO] Thoughput: 325286 doc/sec, processed_count: 190000000\n"
     ]
    },
    {
     "name": "stdout",
     "output_type": "stream",
     "text": [
      "[2021-02-02 10:39:35.898540] Thoughput: 325286 doc/sec, processed_count: 190000000\n"
     ]
    },
    {
     "name": "stderr",
     "output_type": "stream",
     "text": [
      "2021-02-02 10:39:42,310 [INFO] 436180 shots detected in /home/ymiyamoto5/h-one-experimental-system/shared/data/20201201010000/tmp019.pkl.\n",
      "2021-02-02 10:40:05,905 [INFO] Thoughput: 325675 doc/sec, processed_count: 200000000\n"
     ]
    },
    {
     "name": "stdout",
     "output_type": "stream",
     "text": [
      "[2021-02-02 10:40:05.905767] Thoughput: 325675 doc/sec, processed_count: 200000000\n"
     ]
    },
    {
     "name": "stderr",
     "output_type": "stream",
     "text": [
      "2021-02-02 10:40:12,698 [INFO] 436180 shots detected in /home/ymiyamoto5/h-one-experimental-system/shared/data/20201201010000/tmp020.pkl.\n",
      "2021-02-02 10:40:23,611 [INFO] Thoughput: 323671 doc/sec, processed_count: 204500429\n"
     ]
    },
    {
     "name": "stdout",
     "output_type": "stream",
     "text": [
      "[2021-02-02 10:40:23.611629] Thoughput: 323671 doc/sec, processed_count: 204500429\n"
     ]
    },
    {
     "name": "stderr",
     "output_type": "stream",
     "text": [
      "2021-02-02 10:40:26,455 [INFO] 196281 shots detected in /home/ymiyamoto5/h-one-experimental-system/shared/data/20201201010000/tmp021.pkl.\n",
      "2021-02-02 10:40:29,104 [INFO] NumExpr defaulting to 8 threads.\n",
      "2021-02-02 10:40:29,437 [INFO] cut_out_shot finished. elapsed time: 0:10:38.547508\n"
     ]
    },
    {
     "name": "stdout",
     "output_type": "stream",
     "text": [
      "cut_out_shot finished. elapsed time: 0:10:38.547508\n"
     ]
    }
   ],
   "source": [
    "# 適宜変更してください\n",
    "rawdata_dir_name=\"20201201010000\"\n",
    "start_displacement=47.0\n",
    "end_displacement=34.0\n",
    "\n",
    "cut_out_shot.cut_out_shot(\n",
    "    rawdata_dir_name=rawdata_dir_name, \n",
    "    start_displacement=start_displacement, \n",
    "    end_displacement=end_displacement\n",
    ")"
   ]
  },
  {
   "cell_type": "code",
   "execution_count": 6,
   "metadata": {},
   "outputs": [
    {
     "name": "stderr",
     "output_type": "stream",
     "text": [
      "2021-02-04 16:50:31,763 [INFO] delete index 'shots-20201201010000-data' finished. result: {'acknowledged': True}\n",
      "2021-02-04 16:50:31,979 [INFO] create index 'shots-20201201010000-data' finished. result: {'acknowledged': True, 'shards_acknowledged': True, 'index': 'shots-20201201010000-data'}\n",
      "2021-02-04 16:50:32,058 [INFO] delete index 'shots-20201201010000-meta' finished. result: {'acknowledged': True}\n",
      "2021-02-04 16:50:32,259 [INFO] create index 'shots-20201201010000-meta' finished. result: {'acknowledged': True, 'shards_acknowledged': True, 'index': 'shots-20201201010000-meta'}\n",
      "2021-02-04 16:50:55,919 [INFO] 367656 shots detected in /home/ymiyamoto5/h-one-experimental-system/shared/data/20201201010000/tmp000.pkl.\n",
      "2021-02-04 16:51:18,769 [INFO] Thoughput: 215025 doc/sec, processed_count: 10000000\n",
      "2021-02-04 16:51:25,101 [INFO] 436180 shots detected in /home/ymiyamoto5/h-one-experimental-system/shared/data/20201201010000/tmp001.pkl.\n",
      "2021-02-04 16:51:48,397 [INFO] Thoughput: 262695 doc/sec, processed_count: 20000000\n",
      "2021-02-04 16:51:54,806 [INFO] 436180 shots detected in /home/ymiyamoto5/h-one-experimental-system/shared/data/20201201010000/tmp002.pkl.\n",
      "2021-02-04 16:52:19,707 [INFO] Thoughput: 279215 doc/sec, processed_count: 30000000\n",
      "2021-02-04 16:52:25,914 [INFO] 436180 shots detected in /home/ymiyamoto5/h-one-experimental-system/shared/data/20201201010000/tmp003.pkl.\n",
      "2021-02-04 16:52:49,966 [INFO] Thoughput: 290479 doc/sec, processed_count: 40000000\n",
      "2021-02-04 16:52:56,248 [INFO] 436180 shots detected in /home/ymiyamoto5/h-one-experimental-system/shared/data/20201201010000/tmp004.pkl.\n",
      "2021-02-04 16:53:19,973 [INFO] Thoughput: 298133 doc/sec, processed_count: 50000000\n",
      "2021-02-04 16:53:26,699 [INFO] 436180 shots detected in /home/ymiyamoto5/h-one-experimental-system/shared/data/20201201010000/tmp005.pkl.\n",
      "2021-02-04 16:53:50,713 [INFO] Thoughput: 302343 doc/sec, processed_count: 60000000\n",
      "2021-02-04 16:53:57,082 [INFO] 436180 shots detected in /home/ymiyamoto5/h-one-experimental-system/shared/data/20201201010000/tmp006.pkl.\n",
      "2021-02-04 16:54:20,570 [INFO] Thoughput: 306605 doc/sec, processed_count: 70000000\n",
      "2021-02-04 16:54:27,215 [INFO] 436180 shots detected in /home/ymiyamoto5/h-one-experimental-system/shared/data/20201201010000/tmp007.pkl.\n",
      "2021-02-04 16:54:50,849 [INFO] Thoughput: 309374 doc/sec, processed_count: 80000000\n",
      "2021-02-04 16:54:57,604 [INFO] 436180 shots detected in /home/ymiyamoto5/h-one-experimental-system/shared/data/20201201010000/tmp008.pkl.\n",
      "2021-02-04 16:55:21,387 [INFO] Thoughput: 311284 doc/sec, processed_count: 90000000\n",
      "2021-02-04 16:55:27,797 [INFO] 436180 shots detected in /home/ymiyamoto5/h-one-experimental-system/shared/data/20201201010000/tmp009.pkl.\n",
      "2021-02-04 16:55:52,045 [INFO] Thoughput: 312712 doc/sec, processed_count: 100000000\n",
      "2021-02-04 16:55:58,845 [INFO] 436180 shots detected in /home/ymiyamoto5/h-one-experimental-system/shared/data/20201201010000/tmp010.pkl.\n",
      "2021-02-04 16:56:23,215 [INFO] Thoughput: 313433 doc/sec, processed_count: 110000000\n",
      "2021-02-04 16:56:29,533 [INFO] 436180 shots detected in /home/ymiyamoto5/h-one-experimental-system/shared/data/20201201010000/tmp011.pkl.\n",
      "2021-02-04 16:56:54,252 [INFO] Thoughput: 314145 doc/sec, processed_count: 120000000\n",
      "2021-02-04 16:57:00,681 [INFO] 436180 shots detected in /home/ymiyamoto5/h-one-experimental-system/shared/data/20201201010000/tmp012.pkl.\n",
      "2021-02-04 16:57:24,459 [INFO] Thoughput: 315383 doc/sec, processed_count: 130000000\n",
      "2021-02-04 16:57:31,196 [INFO] 436180 shots detected in /home/ymiyamoto5/h-one-experimental-system/shared/data/20201201010000/tmp013.pkl.\n",
      "2021-02-04 16:57:55,795 [INFO] Thoughput: 315647 doc/sec, processed_count: 140000000\n",
      "2021-02-04 16:58:02,661 [INFO] 436180 shots detected in /home/ymiyamoto5/h-one-experimental-system/shared/data/20201201010000/tmp014.pkl.\n",
      "2021-02-04 16:58:26,873 [INFO] Thoughput: 316049 doc/sec, processed_count: 150000000\n",
      "2021-02-04 16:58:33,198 [INFO] 436180 shots detected in /home/ymiyamoto5/h-one-experimental-system/shared/data/20201201010000/tmp015.pkl.\n",
      "2021-02-04 16:58:57,023 [INFO] Thoughput: 316982 doc/sec, processed_count: 160000000\n",
      "2021-02-04 16:59:03,929 [INFO] 436180 shots detected in /home/ymiyamoto5/h-one-experimental-system/shared/data/20201201010000/tmp016.pkl.\n",
      "2021-02-04 16:59:27,875 [INFO] Thoughput: 317394 doc/sec, processed_count: 170000000\n",
      "2021-02-04 16:59:34,191 [INFO] 436180 shots detected in /home/ymiyamoto5/h-one-experimental-system/shared/data/20201201010000/tmp017.pkl.\n",
      "2021-02-04 16:59:59,150 [INFO] Thoughput: 317523 doc/sec, processed_count: 180000000\n",
      "2021-02-04 17:00:05,561 [INFO] 436180 shots detected in /home/ymiyamoto5/h-one-experimental-system/shared/data/20201201010000/tmp018.pkl.\n",
      "2021-02-04 17:00:30,247 [INFO] Thoughput: 317734 doc/sec, processed_count: 190000000\n",
      "2021-02-04 17:00:36,705 [INFO] 436180 shots detected in /home/ymiyamoto5/h-one-experimental-system/shared/data/20201201010000/tmp019.pkl.\n",
      "2021-02-04 17:01:01,140 [INFO] Thoughput: 318026 doc/sec, processed_count: 200000000\n",
      "2021-02-04 17:01:07,936 [INFO] 436180 shots detected in /home/ymiyamoto5/h-one-experimental-system/shared/data/20201201010000/tmp020.pkl.\n",
      "2021-02-04 17:01:20,003 [INFO] Thoughput: 315713 doc/sec, processed_count: 204500429\n",
      "2021-02-04 17:01:22,864 [INFO] 196281 shots detected in /home/ymiyamoto5/h-one-experimental-system/shared/data/20201201010000/tmp021.pkl.\n",
      "2021-02-04 17:01:25,375 [INFO] NumExpr defaulting to 8 threads.\n",
      "2021-02-04 17:01:25,613 [INFO] cut_out_shot finished. elapsed time: 0:10:54.056198\n"
     ]
    }
   ],
   "source": [
    "# 参考\n",
    "# サンプルデータ 20201201010000\n",
    "displacement_func = lambda v: v\n",
    "load01_func = lambda v: v\n",
    "load02_func = lambda v: v\n",
    "load03_func = lambda v: v\n",
    "load04_func = lambda v: v\n",
    "\n",
    "cut_out_shot = CutOutShot(\n",
    "    displacement_func=displacement_func,\n",
    "    load01_func=load01_func,\n",
    "    load02_func=load02_func,\n",
    "    load03_func=load03_func,\n",
    "    load04_func=load04_func,\n",
    "    previous_size=1000\n",
    ")\n",
    "\n",
    "rawdata_dir_name=\"20201201010000\"\n",
    "start_displacement=47.0\n",
    "end_displacement=34.0\n",
    "\n",
    "cut_out_shot.cut_out_shot(\n",
    "    rawdata_dir_name=rawdata_dir_name, \n",
    "    start_displacement=start_displacement, \n",
    "    end_displacement=end_displacement\n",
    ")"
   ]
  },
  {
   "cell_type": "code",
   "execution_count": null,
   "metadata": {},
   "outputs": [],
   "source": []
  }
 ],
 "metadata": {
  "kernelspec": {
   "display_name": "Python 3",
   "language": "python",
   "name": "python3"
  },
  "language_info": {
   "codemirror_mode": {
    "name": "ipython",
    "version": 3
   },
   "file_extension": ".py",
   "mimetype": "text/x-python",
   "name": "python",
   "nbconvert_exporter": "python",
   "pygments_lexer": "ipython3",
   "version": "3.8.3"
  }
 },
 "nbformat": 4,
 "nbformat_minor": 4
}
