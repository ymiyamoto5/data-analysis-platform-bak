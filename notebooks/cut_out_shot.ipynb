{
 "cells": [
  {
   "cell_type": "markdown",
   "metadata": {},
   "source": [
    "# ショット切り出し  \n",
    "\n",
    "以下の処理を行います。  \n",
    "\n",
    "* ショット切り出し\n",
    "* 中断区間のデータ除外\n",
    "* 物理変換 + 校正\n",
    "* SPM計算\n",
    "* 事象記録のタグ付け\n",
    "* SPMから算出される、ショット当たりの最大サンプル数を超えたショット除外\n",
    "* Elasticsearchインデックスへの保存\n",
    "  * shots-yyyyMMddHHMMSS-data：切り出されたショットデータ  \n",
    "  * shots-yyyyMMddHHMMSS-meta：ショットのメタデータ\n",
    "  "
   ]
  },
  {
   "cell_type": "code",
   "execution_count": 1,
   "metadata": {},
   "outputs": [],
   "source": [
    "# ライブラリインポート\n",
    "import os, sys\n",
    "sys.path.append(os.path.join(os.getcwd(), '../src/'))\n",
    "from cut_out_shot.cut_out_shot import CutOutShot"
   ]
  },
  {
   "cell_type": "markdown",
   "metadata": {},
   "source": [
    "### CutOutShot クラスパラメーター一覧  \n",
    "\n",
    "**【必須】**  \n",
    "***displacement_func***  \n",
    "変位センサーの物理変換式  \n",
    "\n",
    "***load01_func***  \n",
    "荷重センサー01の物理変換式  \n",
    "\n",
    "***load02_func***  \n",
    "荷重センサー02の物理変換式  \n",
    "\n",
    "***load03_func***  \n",
    "荷重センサー03の物理変換式  \n",
    "\n",
    "***load04_func***  \n",
    "荷重センサー04の物理変換式  \n",
    "\n",
    "\n",
    "**【任意】**  \n",
    "***min_spm***  \n",
    "最小SPM。この値をもとに、1ショットに含まれる最大サンプル数を計算し、最大サンプル数を超えたショットは切り出し対象外とする。  \n",
    "指定しない場合、既定値の15となる。  \n",
    "\n",
    "***back_seconds_for_tagging***  \n",
    "データ収集マネージャーで記録した事象について、何秒遡ってタグ付けするかを指定。指定しない場合、既定値の120となる。\n",
    "\n",
    "***previous_size***  \n",
    "ショットを検知したサンプルから何サンプル遡ってショットに含めるかを指定。これは切り出しショットに荷重開始点が確実に含まれるようにするため。指定しない場合、既定値の1000となる。\n"
   ]
  },
  {
   "cell_type": "code",
   "execution_count": 2,
   "metadata": {},
   "outputs": [],
   "source": [
    "# 物理変換式設定\n",
    "displacement_func = lambda v: 135.0 - (v - 2.0) * 70.0 / 8.0\n",
    "load01_func = lambda v: v * 100000 / 38000.0\n",
    "load02_func = lambda v: v * 100000 / 38000.0\n",
    "load03_func = lambda v: v * 100000 / 38000.0\n",
    "load04_func = lambda v: v * 100000 / 38000.0"
   ]
  },
  {
   "cell_type": "code",
   "execution_count": 3,
   "metadata": {},
   "outputs": [],
   "source": [
    "cut_out_shot = CutOutShot(\n",
    "    displacement_func=displacement_func,\n",
    "    load01_func=load01_func,\n",
    "    load02_func=load02_func,\n",
    "    load03_func=load03_func,\n",
    "    load04_func=load04_func\n",
    ")"
   ]
  },
  {
   "cell_type": "markdown",
   "metadata": {},
   "source": [
    "### cut_out_shot 関数パラメーター一覧\n",
    "**【必須】**  \n",
    "***rawdata_dir_name***  \n",
    "ショット切り出しの対象とする生データファイルのディレクトリ（.pklファイルが含まれるディレクトリ）。  \n",
    "ディレクトリ名はデータ収集開始日時で、yyyyMMddHHMMSSの形式となっている。\n",
    "\n",
    "***start_displacement***  \n",
    "ショット切り出しの開始を検知するための変位値。  \n",
    "\n",
    "***end_displacement***  \n",
    "ショット切り出しの終了を検知するための変位値。  "
   ]
  },
  {
   "cell_type": "code",
   "execution_count": null,
   "metadata": {},
   "outputs": [
    {
     "name": "stdout",
     "output_type": "stream",
     "text": [
      "[2021-01-27 12:58:31.255928] cut_out_shot start.\n",
      "[2021-01-27 12:59:12.544761] Thoughput: 245124 doc/sec, processed_count: 10000000\n",
      "[2021-01-27 12:59:34.866817] Thoughput: 316868 doc/sec, processed_count: 20000000\n",
      "[2021-01-27 12:59:56.326319] Thoughput: 354705 doc/sec, processed_count: 30000000\n",
      "[2021-01-27 13:00:18.005980] Thoughput: 376446 doc/sec, processed_count: 40000000\n",
      "[2021-01-27 13:00:39.755820] Thoughput: 390604 doc/sec, processed_count: 50000000\n",
      "[2021-01-27 13:01:01.040231] Thoughput: 401899 doc/sec, processed_count: 60000000\n",
      "[2021-01-27 13:01:22.735954] Thoughput: 409388 doc/sec, processed_count: 70000000\n",
      "[2021-01-27 13:01:44.037329] Thoughput: 416042 doc/sec, processed_count: 80000000\n",
      "[2021-01-27 13:02:05.605339] Thoughput: 420843 doc/sec, processed_count: 90000000\n",
      "[2021-01-27 13:02:26.998991] Thoughput: 425080 doc/sec, processed_count: 100000000\n",
      "[2021-01-27 13:02:48.317934] Thoughput: 428734 doc/sec, processed_count: 110000000\n",
      "[2021-01-27 13:03:09.858559] Thoughput: 431484 doc/sec, processed_count: 120000000\n",
      "[2021-01-27 13:03:31.153749] Thoughput: 434195 doc/sec, processed_count: 130000000\n",
      "[2021-01-27 13:03:52.346127] Thoughput: 436685 doc/sec, processed_count: 140000000\n",
      "[2021-01-27 13:04:13.823085] Thoughput: 438501 doc/sec, processed_count: 150000000\n",
      "[2021-01-27 13:04:35.366940] Thoughput: 440022 doc/sec, processed_count: 160000000\n"
     ]
    }
   ],
   "source": [
    "start_displacement=47.0\n",
    "end_displacement=34.0\n",
    "\n",
    "cut_out_shot.cut_out_shot(\n",
    "    rawdata_dir_name=\"20201201010000\", \n",
    "    start_displacement=start_displacement, \n",
    "    end_displacement=end_displacement\n",
    ")"
   ]
  },
  {
   "cell_type": "code",
   "execution_count": null,
   "metadata": {},
   "outputs": [],
   "source": []
  }
 ],
 "metadata": {
  "kernelspec": {
   "display_name": "Python 3",
   "language": "python",
   "name": "python3"
  },
  "language_info": {
   "codemirror_mode": {
    "name": "ipython",
    "version": 3
   },
   "file_extension": ".py",
   "mimetype": "text/x-python",
   "name": "python",
   "nbconvert_exporter": "python",
   "pygments_lexer": "ipython3",
   "version": "3.8.3"
  }
 },
 "nbformat": 4,
 "nbformat_minor": 4
}
