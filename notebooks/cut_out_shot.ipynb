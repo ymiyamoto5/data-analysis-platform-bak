{
 "cells": [
  {
   "cell_type": "markdown",
   "metadata": {},
   "source": [
    "  Copyright(c) 2021 UNIADEX, Ltd. All Rights Reserved.  \n",
    "  CONFIDENTIAL  \n",
    "  Author: UNIADEX, Ltd."
   ]
  },
  {
   "cell_type": "markdown",
   "metadata": {},
   "source": [
    "# ショット切り出し  \n",
    "\n",
    "以下の処理を行います。  \n",
    "\n",
    "* ショット切り出し\n",
    "* 中断区間のデータ除外\n",
    "* 物理変換 + 校正\n",
    "* SPM計算\n",
    "* 事象記録のタグ付け\n",
    "* SPMから算出される、ショット当たりの最大サンプル数を超えたショット除外\n",
    "* Elasticsearchインデックスへの保存\n",
    "  * shots-yyyyMMddHHMMSS-data：切り出されたショットデータ\n",
    "  * shots-yyyyMMddHHMMSS-meta：ショットのメタデータ\n",
    "  "
   ]
  },
  {
   "cell_type": "code",
   "execution_count": 1,
   "metadata": {},
   "outputs": [],
   "source": [
    "# ライブラリインポート\n",
    "import os, sys\n",
    "sys.path.append(os.path.join(os.getcwd(), '../src/'))\n",
    "from cut_out_shot.cut_out_shot import CutOutShot\n",
    "from utils import common"
   ]
  },
  {
   "cell_type": "code",
   "execution_count": 2,
   "metadata": {},
   "outputs": [],
   "source": [
    "# ログ設定\n",
    "from logger.logger import init_logger, get_logger\n",
    "\n",
    "module_name = \"cut_out_shot\"\n",
    "init_logger(module_name)\n",
    "logger = get_logger(module_name)"
   ]
  },
  {
   "cell_type": "markdown",
   "metadata": {},
   "source": [
    "### CutOutShot クラスパラメーター一覧  \n",
    "\n",
    "**【必須】**  \n",
    "***displacement_func***  \n",
    "変位センサーの物理変換式  \n",
    "\n",
    "***load01_func***  \n",
    "荷重センサー01の物理変換式  \n",
    "\n",
    "***load02_func***  \n",
    "荷重センサー02の物理変換式  \n",
    "\n",
    "***load03_func***  \n",
    "荷重センサー03の物理変換式  \n",
    "\n",
    "***load04_func***  \n",
    "荷重センサー04の物理変換式  \n",
    "\n",
    "\n",
    "**【任意】**  \n",
    "***min_spm***  \n",
    "最小SPM。この値をもとに、1ショットに含まれる最大サンプル数を計算し、最大サンプル数を超えたショットは切り出し対象外とする。  \n",
    "指定しない場合、既定値の15となる。  \n",
    "\n",
    "***back_seconds_for_tagging***  \n",
    "データ収集マネージャーで記録した事象について、何秒遡ってタグ付けするかを指定。指定しない場合、既定値の120となる。\n",
    "\n",
    "***previous_size***  \n",
    "ショットを検知したサンプルから何サンプル遡ってショットに含めるかを指定。これは切り出しショットに荷重開始点が確実に含まれるようにするため。指定しない場合、既定値の1000となる。\n"
   ]
  },
  {
   "cell_type": "markdown",
   "metadata": {},
   "source": [
    "### cut_out_shot 関数パラメーター一覧\n",
    "**【必須】**  \n",
    "***rawdata_dir_name***  \n",
    "ショット切り出しの対象とする生データファイルのディレクトリ（.pklファイルが含まれるディレクトリ）。  \n",
    "ディレクトリ名はデータ収集開始日時で、yyyyMMddHHMMSSの形式となっている。\n",
    "\n",
    "***start_displacement***  \n",
    "ショット切り出しの開始を検知するための変位値。  \n",
    "\n",
    "***end_displacement***  \n",
    "ショット切り出しの終了を検知するための変位値。  \n",
    "\n",
    "**【任意】**  \n",
    "***start_sequential_number***  \n",
    "ショット切り出しの開始連番。指定しない場合、データの先頭から切り出し。  \n",
    "\n",
    "***end_sequential_number***  \n",
    "ショット切り出しの終了連番。指定しない場合、データの末尾まで切り出し。  "
   ]
  },
  {
   "cell_type": "code",
   "execution_count": 3,
   "metadata": {},
   "outputs": [
    {
     "name": "stdout",
     "output_type": "stream",
     "text": [
      "ls: cannot access '/datadrive/data': No such file or directory\r\n"
     ]
    }
   ],
   "source": [
    "# データディレクトリの一覧\n",
    "!ls /datadrive/data"
   ]
  },
  {
   "cell_type": "code",
   "execution_count": 4,
   "metadata": {},
   "outputs": [],
   "source": [
    "# 物理変換式設定\n",
    "displacement_func = lambda v: 70.0 - (v - 2.0) * 70.0 / 8.0\n",
    "Vr = 2.5\n",
    "load01_func = lambda v: 2.5 / Vr * v\n",
    "load02_func = lambda v: 2.5 / Vr * v\n",
    "load03_func = lambda v: 2.5 / Vr * v\n",
    "load04_func = lambda v: 2.5 / Vr * v"
   ]
  },
  {
   "cell_type": "code",
   "execution_count": null,
   "metadata": {},
   "outputs": [],
   "source": [
    "# 適宜変更してください\n",
    "rawdata_dir_name=\"20210327141514\"\n",
    "start_displacement=47.0\n",
    "end_displacement=34.0\n",
    "# start_displacement=158.0\n",
    "# end_displacement=-5.0\n",
    "# start_sequential_number=20000\n",
    "# end_sequential_number=140000\n",
    "\n",
    "cut_out_shot = CutOutShot(\n",
    "    displacement_func=displacement_func,\n",
    "    load01_func=load01_func,\n",
    "    load02_func=load02_func,\n",
    "    load03_func=load03_func,\n",
    "    load04_func=load04_func,\n",
    "    margin=0.3,\n",
    ")\n",
    "\n",
    "cut_out_shot.cut_out_shot(\n",
    "    rawdata_dir_name=rawdata_dir_name, \n",
    "    start_displacement=start_displacement, \n",
    "    end_displacement=end_displacement,\n",
    "#     start_sequential_number=start_sequential_number,\n",
    "#     end_sequential_number=end_sequential_number\n",
    ")"
   ]
  },
  {
   "cell_type": "code",
   "execution_count": null,
   "metadata": {},
   "outputs": [],
   "source": []
  },
  {
   "cell_type": "markdown",
   "metadata": {},
   "source": [
    "<br>\n",
    "<br>\n",
    "<br>\n",
    "<br>\n",
    "<br>\n",
    "<br>\n",
    "<hr>\n",
    "\n",
    "## 参考）テストデータでのショット切り出し"
   ]
  },
  {
   "cell_type": "code",
   "execution_count": 5,
   "metadata": {},
   "outputs": [
    {
     "name": "stdout",
     "output_type": "stream",
     "text": [
      "2021-07-19 13:44:01 [INFO] Cut out shot start.\n",
      "2021-07-19 13:44:01 [INFO] delete index 'shots-20210101000000-data' finished. result: {'acknowledged': True}\n",
      "2021-07-19 13:44:01 [INFO] create index 'shots-20210101000000-data' finished. result: {'acknowledged': True, 'shards_acknowledged': True, 'index': 'shots-20210101000000-data'}\n",
      "2021-07-19 13:44:01 [INFO] delete index 'shots-20210101000000-meta' finished. result: {'acknowledged': True}\n",
      "2021-07-19 13:44:01 [INFO] create index 'shots-20210101000000-meta' finished. result: {'acknowledged': True, 'shards_acknowledged': True, 'index': 'shots-20210101000000-meta'}\n",
      "2021-07-19 13:44:02 [INFO] [{'event_id': 2, 'event_type': 'tag', 'tag': 'カジリ', 'end_time': '2020-12-31T15:00:01.000000'}, {'event_id': 3, 'event_type': 'tag', 'tag': 'ヒケ', 'end_time': '2020-12-31T15:00:05.000000'}]\n",
      "2021-07-19 13:44:02 [INFO] NumExpr defaulting to 8 threads.\n",
      "2021-07-19 13:44:02 [INFO] 9863 data cut out from /home/ymiyamoto5/h-one-experimental-system/shared/data/20210101000000/20210101000000_in.pkl.\n",
      "2021-07-19 13:44:02 [INFO] Cut out shot finished.\n"
     ]
    }
   ],
   "source": [
    "# 適宜変更してください\n",
    "rawdata_dir_name=\"20210101000000\"\n",
    "start_displacement=150.0\n",
    "end_displacement=25.0\n",
    "start_sequential_number=None\n",
    "end_sequential_number=None\n",
    "\n",
    "displacement_func = lambda v: v\n",
    "load01_func = lambda v: v\n",
    "load02_func = lambda v: v\n",
    "load03_func = lambda v: v\n",
    "load04_func = lambda v: v\n",
    "\n",
    "cut_out_shot = CutOutShot(\n",
    "    displacement_func=displacement_func,\n",
    "    load01_func=load01_func,\n",
    "    load02_func=load02_func,\n",
    "    load03_func=load03_func,\n",
    "    load04_func=load04_func\n",
    ")\n",
    "\n",
    "cut_out_shot.cut_out_shot(\n",
    "    rawdata_dir_name=rawdata_dir_name, \n",
    "    start_displacement=start_displacement, \n",
    "    end_displacement=end_displacement,\n",
    "    start_sequential_number=start_sequential_number,\n",
    "    end_sequential_number=end_sequential_number\n",
    ")"
   ]
  },
  {
   "cell_type": "code",
   "execution_count": null,
   "metadata": {},
   "outputs": [],
   "source": []
  }
 ],
 "metadata": {
  "kernelspec": {
   "display_name": "Python 3",
   "language": "python",
   "name": "python3"
  },
  "language_info": {
   "codemirror_mode": {
    "name": "ipython",
    "version": 3
   },
   "file_extension": ".py",
   "mimetype": "text/x-python",
   "name": "python",
   "nbconvert_exporter": "python",
   "pygments_lexer": "ipython3",
   "version": "3.8.3"
  },
  "toc": {
   "base_numbering": 1,
   "nav_menu": {},
   "number_sections": true,
   "sideBar": true,
   "skip_h1_title": false,
   "title_cell": "Table of Contents",
   "title_sidebar": "Contents",
   "toc_cell": false,
   "toc_position": {},
   "toc_section_display": true,
   "toc_window_display": false
  }
 },
 "nbformat": 4,
 "nbformat_minor": 4
}
