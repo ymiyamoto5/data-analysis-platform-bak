{
 "cells": [
  {
   "cell_type": "markdown",
   "metadata": {},
   "source": [
    "# ショット切り出し  \n",
    "\n",
    "以下の処理を行います。  \n",
    "\n",
    "* ショット切り出し\n",
    "* 中断区間のデータ除外\n",
    "* 物理変換 + 校正\n",
    "* SPM計算\n",
    "* 事象記録のタグ付け\n",
    "* SPMから算出される、ショット当たりの最大サンプル数を超えたショット除外\n",
    "* Elasticsearchインデックスへの保存\n",
    "  * shots-yyyyMMddHHMMSS-data：切り出されたショットデータ\n",
    "  * shots-yyyyMMddHHMMSS-meta：ショットのメタデータ\n",
    "  "
   ]
  },
  {
   "cell_type": "code",
   "execution_count": 6,
   "metadata": {},
   "outputs": [],
   "source": [
    "# ライブラリインポート\n",
    "import os, sys\n",
    "sys.path.append(os.path.join(os.getcwd(), '../src/'))\n",
    "from cut_out_shot.cut_out_shot import CutOutShot"
   ]
  },
  {
   "cell_type": "markdown",
   "metadata": {},
   "source": [
    "### CutOutShot クラスパラメーター一覧  \n",
    "\n",
    "**【必須】**  \n",
    "***displacement_func***  \n",
    "変位センサーの物理変換式  \n",
    "\n",
    "***load01_func***  \n",
    "荷重センサー01の物理変換式  \n",
    "\n",
    "***load02_func***  \n",
    "荷重センサー02の物理変換式  \n",
    "\n",
    "***load03_func***  \n",
    "荷重センサー03の物理変換式  \n",
    "\n",
    "***load04_func***  \n",
    "荷重センサー04の物理変換式  \n",
    "\n",
    "\n",
    "**【任意】**  \n",
    "***min_spm***  \n",
    "最小SPM。この値をもとに、1ショットに含まれる最大サンプル数を計算し、最大サンプル数を超えたショットは切り出し対象外とする。  \n",
    "指定しない場合、既定値の15となる。  \n",
    "\n",
    "***back_seconds_for_tagging***  \n",
    "データ収集マネージャーで記録した事象について、何秒遡ってタグ付けするかを指定。指定しない場合、既定値の120となる。\n",
    "\n",
    "***previous_size***  \n",
    "ショットを検知したサンプルから何サンプル遡ってショットに含めるかを指定。これは切り出しショットに荷重開始点が確実に含まれるようにするため。指定しない場合、既定値の1000となる。\n"
   ]
  },
  {
   "cell_type": "code",
   "execution_count": 10,
   "metadata": {},
   "outputs": [],
   "source": [
    "# 物理変換式設定\n",
    "#displacement_func = lambda v: 135.0 - (v - 2.0) * 70.0 / 8.0\n",
    "displacement_func = lambda v: v\n",
    "load01_func = lambda v: v * 100000 / 38000.0\n",
    "load02_func = lambda v: v * 100000 / 38000.0\n",
    "load03_func = lambda v: v * 100000 / 38000.0\n",
    "load04_func = lambda v: v * 100000 / 38000.0"
   ]
  },
  {
   "cell_type": "code",
   "execution_count": 11,
   "metadata": {},
   "outputs": [],
   "source": [
    "cut_out_shot = CutOutShot(\n",
    "    displacement_func=displacement_func,\n",
    "    load01_func=load01_func,\n",
    "    load02_func=load02_func,\n",
    "    load03_func=load03_func,\n",
    "    load04_func=load04_func\n",
    ")"
   ]
  },
  {
   "cell_type": "markdown",
   "metadata": {},
   "source": [
    "### cut_out_shot 関数パラメーター一覧\n",
    "**【必須】**  \n",
    "***rawdata_dir_name***  \n",
    "ショット切り出しの対象とする生データファイルのディレクトリ（.pklファイルが含まれるディレクトリ）。  \n",
    "ディレクトリ名はデータ収集開始日時で、yyyyMMddHHMMSSの形式となっている。\n",
    "\n",
    "***start_displacement***  \n",
    "ショット切り出しの開始を検知するための変位値。  \n",
    "\n",
    "***end_displacement***  \n",
    "ショット切り出しの終了を検知するための変位値。  "
   ]
  },
  {
   "cell_type": "code",
   "execution_count": 12,
   "metadata": {},
   "outputs": [
    {
     "name": "stdout",
     "output_type": "stream",
     "text": [
      "[2021-01-27 13:46:47.327344] cut_out_shot start.\n",
      "[2021-01-27 13:47:32.137572] Thoughput: 225689 doc/sec, processed_count: 10000000\n",
      "[2021-01-27 13:47:59.494026] Thoughput: 279075 doc/sec, processed_count: 20000000\n",
      "[2021-01-27 13:48:27.844463] Thoughput: 299953 doc/sec, processed_count: 30000000\n",
      "[2021-01-27 13:48:56.405262] Thoughput: 311099 doc/sec, processed_count: 40000000\n",
      "[2021-01-27 13:49:25.463962] Thoughput: 317188 doc/sec, processed_count: 50000000\n",
      "[2021-01-27 13:49:53.665291] Thoughput: 322864 doc/sec, processed_count: 60000000\n",
      "[2021-01-27 13:50:21.919502] Thoughput: 326964 doc/sec, processed_count: 70000000\n",
      "[2021-01-27 13:50:50.272337] Thoughput: 329973 doc/sec, processed_count: 80000000\n",
      "[2021-01-27 13:51:18.834767] Thoughput: 332096 doc/sec, processed_count: 90000000\n",
      "[2021-01-27 13:51:46.771001] Thoughput: 334512 doc/sec, processed_count: 100000000\n",
      "[2021-01-27 13:52:15.586734] Thoughput: 335613 doc/sec, processed_count: 110000000\n",
      "[2021-01-27 13:52:44.287735] Thoughput: 336644 doc/sec, processed_count: 120000000\n",
      "[2021-01-27 13:53:12.884583] Thoughput: 337613 doc/sec, processed_count: 130000000\n",
      "[2021-01-27 13:53:41.390230] Thoughput: 338522 doc/sec, processed_count: 140000000\n",
      "[2021-01-27 13:54:10.063964] Thoughput: 339186 doc/sec, processed_count: 150000000\n",
      "[2021-01-27 13:54:38.320959] Thoughput: 340069 doc/sec, processed_count: 160000000\n",
      "[2021-01-27 13:55:06.573213] Thoughput: 340856 doc/sec, processed_count: 170000000\n",
      "[2021-01-27 13:55:35.681977] Thoughput: 341003 doc/sec, processed_count: 180000000\n",
      "[2021-01-27 13:56:04.205444] Thoughput: 341495 doc/sec, processed_count: 190000000\n",
      "[2021-01-27 13:56:32.844286] Thoughput: 341871 doc/sec, processed_count: 200000000\n",
      "[2021-01-27 13:56:49.514961] Thoughput: 339878 doc/sec, processed_count: 204500429\n",
      "cut_out_shot finished. elapsed time: 0:10:07.388556\n"
     ]
    }
   ],
   "source": [
    "# 適宜変更してください\n",
    "rawdata_dir_name=\"20201201010000\"\n",
    "start_displacement=47.0\n",
    "end_displacement=34.0\n",
    "\n",
    "cut_out_shot.cut_out_shot(\n",
    "    rawdata_dir_name=rawdata_dir_name, \n",
    "    start_displacement=start_displacement, \n",
    "    end_displacement=end_displacement\n",
    ")"
   ]
  },
  {
   "cell_type": "code",
   "execution_count": null,
   "metadata": {},
   "outputs": [],
   "source": []
  }
 ],
 "metadata": {
  "kernelspec": {
   "display_name": "Python 3",
   "language": "python",
   "name": "python3"
  },
  "language_info": {
   "codemirror_mode": {
    "name": "ipython",
    "version": 3
   },
   "file_extension": ".py",
   "mimetype": "text/x-python",
   "name": "python",
   "nbconvert_exporter": "python",
   "pygments_lexer": "ipython3",
   "version": "3.8.3"
  }
 },
 "nbformat": 4,
 "nbformat_minor": 4
}
