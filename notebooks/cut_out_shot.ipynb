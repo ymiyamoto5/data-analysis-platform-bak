{
 "cells": [
  {
   "cell_type": "markdown",
   "metadata": {},
   "source": [
    "# ショット切り出し  \n",
    "\n",
    "以下の処理を行います。  \n",
    "\n",
    "* ショット切り出し\n",
    "* 中断区間のデータ除外\n",
    "* 物理変換 + 校正\n",
    "* SPM計算\n",
    "* 事象記録のタグ付け\n",
    "* SPMから算出される、ショット当たりの最大サンプル数を超えたショット除外\n",
    "* Elasticsearchインデックスへの保存\n",
    "  * shots-yyyyMMddHHMMSS-data：切り出されたショットデータ\n",
    "  * shots-yyyyMMddHHMMSS-meta：ショットのメタデータ\n",
    "  "
   ]
  },
  {
   "cell_type": "code",
   "execution_count": 1,
   "metadata": {},
   "outputs": [],
   "source": [
    "# ライブラリインポート\n",
    "import os, sys\n",
    "sys.path.append(os.path.join(os.getcwd(), '../src/'))\n",
    "from cut_out_shot.cut_out_shot import CutOutShot\n",
    "from utils import common\n",
    "import logging"
   ]
  },
  {
   "cell_type": "code",
   "execution_count": 2,
   "metadata": {},
   "outputs": [],
   "source": [
    "# ログ設定\n",
    "LOG_FILE = os.path.join(\n",
    "    common.get_config_value(common.APP_CONFIG_PATH, \"log_dir\"), \"cut_out_shot/cut_out_shot.log\"\n",
    ")\n",
    "\n",
    "logging.basicConfig(\n",
    "    level=logging.INFO,\n",
    "    format=\"%(asctime)s [%(levelname)s] %(message)s\",\n",
    "    handlers=[\n",
    "        logging.handlers.RotatingFileHandler(\n",
    "            LOG_FILE, maxBytes=common.MAX_LOG_SIZE, backupCount=common.BACKUP_COUNT\n",
    "        ),\n",
    "        logging.StreamHandler(),\n",
    "    ],\n",
    ")"
   ]
  },
  {
   "cell_type": "markdown",
   "metadata": {},
   "source": [
    "### CutOutShot クラスパラメーター一覧  \n",
    "\n",
    "**【必須】**  \n",
    "***displacement_func***  \n",
    "変位センサーの物理変換式  \n",
    "\n",
    "***load01_func***  \n",
    "荷重センサー01の物理変換式  \n",
    "\n",
    "***load02_func***  \n",
    "荷重センサー02の物理変換式  \n",
    "\n",
    "***load03_func***  \n",
    "荷重センサー03の物理変換式  \n",
    "\n",
    "***load04_func***  \n",
    "荷重センサー04の物理変換式  \n",
    "\n",
    "\n",
    "**【任意】**  \n",
    "***min_spm***  \n",
    "最小SPM。この値をもとに、1ショットに含まれる最大サンプル数を計算し、最大サンプル数を超えたショットは切り出し対象外とする。  \n",
    "指定しない場合、既定値の15となる。  \n",
    "\n",
    "***back_seconds_for_tagging***  \n",
    "データ収集マネージャーで記録した事象について、何秒遡ってタグ付けするかを指定。指定しない場合、既定値の120となる。\n",
    "\n",
    "***previous_size***  \n",
    "ショットを検知したサンプルから何サンプル遡ってショットに含めるかを指定。これは切り出しショットに荷重開始点が確実に含まれるようにするため。指定しない場合、既定値の1000となる。\n"
   ]
  },
  {
   "cell_type": "markdown",
   "metadata": {},
   "source": [
    "### cut_out_shot 関数パラメーター一覧\n",
    "**【必須】**  \n",
    "***rawdata_dir_name***  \n",
    "ショット切り出しの対象とする生データファイルのディレクトリ（.pklファイルが含まれるディレクトリ）。  \n",
    "ディレクトリ名はデータ収集開始日時で、yyyyMMddHHMMSSの形式となっている。\n",
    "\n",
    "***start_displacement***  \n",
    "ショット切り出しの開始を検知するための変位値。  \n",
    "\n",
    "***end_displacement***  \n",
    "ショット切り出しの終了を検知するための変位値。  \n",
    "\n",
    "**【任意】**  \n",
    "***start_sequential_number***  \n",
    "ショット切り出しの開始連番。指定しない場合、データの先頭から切り出し。  \n",
    "\n",
    "***end_sequential_number***  \n",
    "ショット切り出しの終了連番。指定しない場合、データの末尾まで切り出し。  "
   ]
  },
  {
   "cell_type": "code",
   "execution_count": 6,
   "metadata": {},
   "outputs": [
    {
     "name": "stdout",
     "output_type": "stream",
     "text": [
      "ls: cannot access '/datadrive/data': No such file or directory\r\n"
     ]
    }
   ],
   "source": [
    "# データディレクトリの一覧\n",
    "!ls /datadrive/data"
   ]
  },
  {
   "cell_type": "code",
   "execution_count": 3,
   "metadata": {},
   "outputs": [],
   "source": [
    "# 物理変換式設定\n",
    "displacement_func = lambda v: 70.0 - (v - 2.0) * 70.0 / 8.0\n",
    "# displacement_func = lambda v: v\n",
    "Vr = 1.0\n",
    "load01_func = lambda v: 2.5 / Vr * v * 1000\n",
    "load02_func = lambda v: 2.5 / Vr * v * 1000\n",
    "load03_func = lambda v: 2.5 / Vr * v * 1000\n",
    "load04_func = lambda v: 2.5 / Vr * v * 1000"
   ]
  },
  {
   "cell_type": "code",
   "execution_count": 4,
   "metadata": {},
   "outputs": [
    {
     "name": "stderr",
     "output_type": "stream",
     "text": [
      "2021-02-12 13:57:04,774 [INFO] Cut out shot start.\n",
      "2021-02-12 13:57:05,028 [INFO] create index 'shots-20210201151814-data' finished. result: {'acknowledged': True, 'shards_acknowledged': True, 'index': 'shots-20210201151814-data'}\n",
      "2021-02-12 13:57:05,231 [INFO] create index 'shots-20210201151814-meta' finished. result: {'acknowledged': True, 'shards_acknowledged': True, 'index': 'shots-20210201151814-meta'}\n",
      "2021-02-12 13:57:05,847 [INFO] All data was excluded by setup interval. /home/ymiyamoto5/h-one-experimental-system/shared/data/20210201151814/fixed.pkl\n",
      "2021-02-12 13:57:05,852 [INFO] NumExpr defaulting to 8 threads.\n",
      "2021-02-12 13:57:05,911 [INFO] Cut out shot finished.\n"
     ]
    }
   ],
   "source": [
    "# 適宜変更してください\n",
    "rawdata_dir_name=\"20210201151814\"\n",
    "start_displacement=47.0\n",
    "end_displacement=34.0\n",
    "start_sequential_number=None\n",
    "end_sequential_number=None\n",
    "\n",
    "cut_out_shot = CutOutShot(\n",
    "    displacement_func=displacement_func,\n",
    "    load01_func=load01_func,\n",
    "    load02_func=load02_func,\n",
    "    load03_func=load03_func,\n",
    "    load04_func=load04_func\n",
    ")\n",
    "\n",
    "cut_out_shot.cut_out_shot(\n",
    "    rawdata_dir_name=rawdata_dir_name, \n",
    "    start_displacement=start_displacement, \n",
    "    end_displacement=end_displacement,\n",
    "    start_sequential_number=start_sequential_number,\n",
    "    end_sequential_number=end_sequential_number\n",
    ")"
   ]
  },
  {
   "cell_type": "code",
   "execution_count": 5,
   "metadata": {},
   "outputs": [
    {
     "name": "stderr",
     "output_type": "stream",
     "text": [
      "2021-02-12 13:57:13,443 [INFO] Cut out shot start.\n",
      "2021-02-12 13:57:13,696 [INFO] delete index 'shots-20201201010000-data' finished. result: {'acknowledged': True}\n",
      "2021-02-12 13:57:13,908 [INFO] create index 'shots-20201201010000-data' finished. result: {'acknowledged': True, 'shards_acknowledged': True, 'index': 'shots-20201201010000-data'}\n",
      "2021-02-12 13:57:13,979 [INFO] delete index 'shots-20201201010000-meta' finished. result: {'acknowledged': True}\n",
      "2021-02-12 13:57:14,192 [INFO] create index 'shots-20201201010000-meta' finished. result: {'acknowledged': True, 'shards_acknowledged': True, 'index': 'shots-20201201010000-meta'}\n",
      "2021-02-12 13:57:39,448 [INFO] 367656 data cut out from /home/ymiyamoto5/h-one-experimental-system/shared/data/20201201010000/tmp000.pkl.\n",
      "2021-02-12 13:58:05,477 [INFO] Thoughput: 194997 doc/sec, processed_count: 10000000\n",
      "2021-02-12 13:58:11,994 [INFO] 436180 data cut out from /home/ymiyamoto5/h-one-experimental-system/shared/data/20201201010000/tmp001.pkl.\n",
      "2021-02-12 13:58:37,810 [INFO] Thoughput: 239191 doc/sec, processed_count: 20000000\n",
      "2021-02-12 13:58:44,141 [INFO] 436180 data cut out from /home/ymiyamoto5/h-one-experimental-system/shared/data/20201201010000/tmp002.pkl.\n",
      "2021-02-12 13:59:11,391 [INFO] Thoughput: 255981 doc/sec, processed_count: 30000000\n",
      "2021-02-12 13:59:18,153 [INFO] 436180 data cut out from /home/ymiyamoto5/h-one-experimental-system/shared/data/20201201010000/tmp003.pkl.\n",
      "2021-02-12 13:59:44,268 [INFO] Thoughput: 266536 doc/sec, processed_count: 40000000\n",
      "2021-02-12 13:59:50,697 [INFO] 436180 data cut out from /home/ymiyamoto5/h-one-experimental-system/shared/data/20201201010000/tmp004.pkl.\n",
      "2021-02-12 14:00:17,575 [INFO] Thoughput: 272657 doc/sec, processed_count: 50000000\n",
      "2021-02-12 14:00:24,068 [INFO] 436180 data cut out from /home/ymiyamoto5/h-one-experimental-system/shared/data/20201201010000/tmp005.pkl.\n",
      "2021-02-12 14:00:50,206 [INFO] Thoughput: 277762 doc/sec, processed_count: 60000000\n",
      "2021-02-12 14:00:56,765 [INFO] 436180 data cut out from /home/ymiyamoto5/h-one-experimental-system/shared/data/20201201010000/tmp006.pkl.\n",
      "2021-02-12 14:01:22,699 [INFO] Thoughput: 281685 doc/sec, processed_count: 70000000\n",
      "2021-02-12 14:01:29,642 [INFO] 436180 data cut out from /home/ymiyamoto5/h-one-experimental-system/shared/data/20201201010000/tmp007.pkl.\n",
      "2021-02-12 14:01:55,332 [INFO] Thoughput: 284558 doc/sec, processed_count: 80000000\n",
      "2021-02-12 14:02:02,093 [INFO] 436180 data cut out from /home/ymiyamoto5/h-one-experimental-system/shared/data/20201201010000/tmp008.pkl.\n",
      "2021-02-12 14:02:28,295 [INFO] Thoughput: 286532 doc/sec, processed_count: 90000000\n",
      "2021-02-12 14:02:35,222 [INFO] 436180 data cut out from /home/ymiyamoto5/h-one-experimental-system/shared/data/20201201010000/tmp009.pkl.\n",
      "2021-02-12 14:03:01,929 [INFO] Thoughput: 287575 doc/sec, processed_count: 100000000\n",
      "2021-02-12 14:03:08,428 [INFO] 436180 data cut out from /home/ymiyamoto5/h-one-experimental-system/shared/data/20201201010000/tmp010.pkl.\n",
      "2021-02-12 14:03:36,572 [INFO] Thoughput: 287673 doc/sec, processed_count: 110000000\n",
      "2021-02-12 14:03:43,375 [INFO] 436180 data cut out from /home/ymiyamoto5/h-one-experimental-system/shared/data/20201201010000/tmp011.pkl.\n",
      "2021-02-12 14:04:10,204 [INFO] Thoughput: 288454 doc/sec, processed_count: 120000000\n",
      "2021-02-12 14:04:16,802 [INFO] 436180 data cut out from /home/ymiyamoto5/h-one-experimental-system/shared/data/20201201010000/tmp012.pkl.\n",
      "2021-02-12 14:04:43,605 [INFO] Thoughput: 289267 doc/sec, processed_count: 130000000\n",
      "2021-02-12 14:04:50,501 [INFO] 436180 data cut out from /home/ymiyamoto5/h-one-experimental-system/shared/data/20201201010000/tmp013.pkl.\n",
      "2021-02-12 14:05:16,267 [INFO] Thoughput: 290413 doc/sec, processed_count: 140000000\n",
      "2021-02-12 14:05:22,810 [INFO] 436180 data cut out from /home/ymiyamoto5/h-one-experimental-system/shared/data/20201201010000/tmp014.pkl.\n",
      "2021-02-12 14:05:50,389 [INFO] Thoughput: 290588 doc/sec, processed_count: 150000000\n",
      "2021-02-12 14:05:57,029 [INFO] 436180 data cut out from /home/ymiyamoto5/h-one-experimental-system/shared/data/20201201010000/tmp015.pkl.\n",
      "2021-02-12 14:06:24,952 [INFO] Thoughput: 290508 doc/sec, processed_count: 160000000\n",
      "2021-02-12 14:06:31,617 [INFO] 436180 data cut out from /home/ymiyamoto5/h-one-experimental-system/shared/data/20201201010000/tmp016.pkl.\n",
      "2021-02-12 14:07:00,632 [INFO] Thoughput: 289886 doc/sec, processed_count: 170000000\n",
      "2021-02-12 14:07:07,575 [INFO] 436180 data cut out from /home/ymiyamoto5/h-one-experimental-system/shared/data/20201201010000/tmp017.pkl.\n",
      "2021-02-12 14:07:35,339 [INFO] Thoughput: 289787 doc/sec, processed_count: 180000000\n",
      "2021-02-12 14:07:41,926 [INFO] 436180 data cut out from /home/ymiyamoto5/h-one-experimental-system/shared/data/20201201010000/tmp018.pkl.\n",
      "2021-02-12 14:08:08,733 [INFO] Thoughput: 290281 doc/sec, processed_count: 190000000\n",
      "2021-02-12 14:08:15,636 [INFO] 436180 data cut out from /home/ymiyamoto5/h-one-experimental-system/shared/data/20201201010000/tmp019.pkl.\n",
      "2021-02-12 14:08:43,012 [INFO] Thoughput: 290352 doc/sec, processed_count: 200000000\n",
      "2021-02-12 14:08:49,920 [INFO] 436180 data cut out from /home/ymiyamoto5/h-one-experimental-system/shared/data/20201201010000/tmp020.pkl.\n",
      "2021-02-12 14:09:02,521 [INFO] Thoughput: 288709 doc/sec, processed_count: 204500429\n",
      "2021-02-12 14:09:05,470 [INFO] 196281 data cut out from /home/ymiyamoto5/h-one-experimental-system/shared/data/20201201010000/tmp021.pkl.\n",
      "2021-02-12 14:09:08,919 [INFO] Cut out shot finished.\n"
     ]
    }
   ],
   "source": [
    "# 参考\n",
    "# サンプルデータ 20201201010000\n",
    "displacement_func = lambda v: v\n",
    "load01_func = lambda v: v\n",
    "load02_func = lambda v: v\n",
    "load03_func = lambda v: v\n",
    "load04_func = lambda v: v\n",
    "\n",
    "cut_out_shot = CutOutShot(\n",
    "    displacement_func=displacement_func,\n",
    "    load01_func=load01_func,\n",
    "    load02_func=load02_func,\n",
    "    load03_func=load03_func,\n",
    "    load04_func=load04_func,\n",
    "    previous_size=1000\n",
    ")\n",
    "\n",
    "rawdata_dir_name=\"20201201010000\"\n",
    "start_displacement=47.0\n",
    "end_displacement=34.0\n",
    "\n",
    "cut_out_shot.cut_out_shot(\n",
    "    rawdata_dir_name=rawdata_dir_name, \n",
    "    start_displacement=start_displacement, \n",
    "    end_displacement=end_displacement\n",
    ")"
   ]
  },
  {
   "cell_type": "code",
   "execution_count": null,
   "metadata": {},
   "outputs": [],
   "source": []
  }
 ],
 "metadata": {
  "kernelspec": {
   "display_name": "Python 3",
   "language": "python",
   "name": "python3"
  },
  "language_info": {
   "codemirror_mode": {
    "name": "ipython",
    "version": 3
   },
   "file_extension": ".py",
   "mimetype": "text/x-python",
   "name": "python",
   "nbconvert_exporter": "python",
   "pygments_lexer": "ipython3",
   "version": "3.8.3"
  }
 },
 "nbformat": 4,
 "nbformat_minor": 4
}
