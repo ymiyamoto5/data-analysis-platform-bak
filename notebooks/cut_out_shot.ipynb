{
 "cells": [
  {
   "cell_type": "markdown",
   "metadata": {},
   "source": [
    "  Copyright(c) 2021 UNIADEX, Ltd. All Rights Reserved.  \n",
    "  CONFIDENTIAL  \n",
    "  Author: UNIADEX, Ltd."
   ]
  },
  {
   "cell_type": "markdown",
   "metadata": {},
   "source": [
    "# ショット切り出し  \n",
    "\n",
    "以下の処理を行います。  \n",
    "\n",
    "* ショット切り出し\n",
    "* 中断区間のデータ除外\n",
    "* 物理変換 + 校正\n",
    "* SPM計算\n",
    "* 事象記録のタグ付け\n",
    "* SPMから算出される、ショット当たりの最大サンプル数を超えたショット除外\n",
    "* Elasticsearchインデックスへの保存\n",
    "  * shots-yyyyMMddHHMMSS-data：切り出されたショットデータ\n",
    "  * shots-yyyyMMddHHMMSS-meta：ショットのメタデータ\n",
    "  "
   ]
  },
  {
   "cell_type": "code",
   "execution_count": 1,
   "metadata": {},
   "outputs": [
    {
     "name": "stdout",
     "output_type": "stream",
     "text": [
      "SET log configuration (script path): /home/ymiyamoto5/data-analysis-platform/backend/common/logging.conf\n"
     ]
    }
   ],
   "source": [
    "# ライブラリインポート\n",
    "import os, sys\n",
    "sys.path.append(os.path.join(os.getcwd(), '../'))\n",
    "from backend.cut_out_shot.cut_out_shot import CutOutShot\n",
    "from backend.common import common\n",
    "from backend.common.common_logger import logger"
   ]
  },
  {
   "cell_type": "markdown",
   "metadata": {},
   "source": [
    "### CutOutShot クラスパラメーター一覧  \n",
    "\n",
    "**【必須】**  \n",
    "***displacement_func***  \n",
    "変位センサーの物理変換式  \n",
    "\n",
    "***load01_func***  \n",
    "荷重センサー01の物理変換式  \n",
    "\n",
    "***load02_func***  \n",
    "荷重センサー02の物理変換式  \n",
    "\n",
    "***load03_func***  \n",
    "荷重センサー03の物理変換式  \n",
    "\n",
    "***load04_func***  \n",
    "荷重センサー04の物理変換式  \n",
    "\n",
    "\n",
    "**【任意】**  \n",
    "***min_spm***  \n",
    "最小SPM。この値をもとに、1ショットに含まれる最大サンプル数を計算し、最大サンプル数を超えたショットは切り出し対象外とする。  \n",
    "指定しない場合、既定値の15となる。  \n",
    "\n",
    "***back_seconds_for_tagging***  \n",
    "データ収集マネージャーで記録した事象について、何秒遡ってタグ付けするかを指定。指定しない場合、既定値の120となる。\n",
    "\n",
    "***previous_size***  \n",
    "ショットを検知したサンプルから何サンプル遡ってショットに含めるかを指定。これは切り出しショットに荷重開始点が確実に含まれるようにするため。指定しない場合、既定値の1000となる。\n"
   ]
  },
  {
   "cell_type": "markdown",
   "metadata": {},
   "source": [
    "### cut_out_shot 関数パラメーター一覧\n",
    "**【必須】**  \n",
    "***rawdata_dir_name***  \n",
    "ショット切り出しの対象とする生データファイルのディレクトリ（.pklファイルが含まれるディレクトリ）。  \n",
    "ディレクトリ名はデータ収集開始日時で、yyyyMMddHHMMSSの形式となっている。\n",
    "\n",
    "***start_displacement***  \n",
    "ショット切り出しの開始を検知するための変位値。  \n",
    "\n",
    "***end_displacement***  \n",
    "ショット切り出しの終了を検知するための変位値。  \n",
    "\n",
    "**【任意】**  \n",
    "***start_sequential_number***  \n",
    "ショット切り出しの開始連番。指定しない場合、データの先頭から切り出し。  \n",
    "\n",
    "***end_sequential_number***  \n",
    "ショット切り出しの終了連番。指定しない場合、データの末尾まで切り出し。  "
   ]
  },
  {
   "cell_type": "code",
   "execution_count": 4,
   "metadata": {},
   "outputs": [
    {
     "name": "stdout",
     "output_type": "stream",
     "text": [
      "20210709190000\r\n",
      "20210813144147\r\n",
      "20210813160141\r\n",
      "conf_GW-01.cnf\r\n",
      "machine-01-20210101000000\r\n",
      "machine-01-20210327141514\r\n",
      "machine-01-20210813144147\r\n",
      "machine-02_GW-01_AD-USB-1608_20210813-070200.339398.dat\r\n",
      "nodes\r\n",
      "press_senario.npy\r\n"
     ]
    }
   ],
   "source": [
    "# データディレクトリの一覧\n",
    "!ls /mnt/datadrive/data"
   ]
  },
  {
   "cell_type": "code",
   "execution_count": 5,
   "metadata": {},
   "outputs": [],
   "source": [
    "# 物理変換式設定\n",
    "displacement_func = lambda v: 70.0 - (v - 2.0) * 70.0 / 8.0\n",
    "Vr = 2.5\n",
    "load01_func = lambda v: 2.5 / Vr * v\n",
    "load02_func = lambda v: 2.5 / Vr * v\n",
    "load03_func = lambda v: 2.5 / Vr * v\n",
    "load04_func = lambda v: 2.5 / Vr * v"
   ]
  },
  {
   "cell_type": "code",
   "execution_count": 6,
   "metadata": {},
   "outputs": [
    {
     "name": "stdout",
     "output_type": "stream",
     "text": [
      "[2021/08/17 14:40:53.247] INFO - cut_out_shot.py#cut_out_shot:450: Cut out shot start.\n",
      "[2021/08/17 14:40:53.387] INFO - elastic_manager.py#delete_exists_index:164: delete index 'shots-machine-01-20210327141514-data' finished. result: {'acknowledged': True}\n"
     ]
    },
    {
     "name": "stderr",
     "output_type": "stream",
     "text": [
      "/home/ymiyamoto5/data-analysis-platform/venv/lib/python3.8/site-packages/elasticsearch/connection/base.py:208: ElasticsearchWarning: Elasticsearch built-in security features are not enabled. Without authentication, your cluster could be accessible to anyone. See https://www.elastic.co/guide/en/elasticsearch/reference/7.13/security-minimal-setup.html to enable security.\n",
      "  warnings.warn(message, category=ElasticsearchWarning)\n"
     ]
    },
    {
     "name": "stdout",
     "output_type": "stream",
     "text": [
      "[2021/08/17 14:40:53.864] INFO - elastic_manager.py#create_index:193: create index 'shots-machine-01-20210327141514-data' finished. result: {'acknowledged': True, 'shards_acknowledged': True, 'index': 'shots-machine-01-20210327141514-data'}\n",
      "[2021/08/17 14:40:54.051] INFO - elastic_manager.py#delete_exists_index:164: delete index 'shots-machine-01-20210327141514-meta' finished. result: {'acknowledged': True}\n",
      "[2021/08/17 14:40:54.474] INFO - elastic_manager.py#create_index:193: create index 'shots-machine-01-20210327141514-meta' finished. result: {'acknowledged': True, 'shards_acknowledged': True, 'index': 'shots-machine-01-20210327141514-meta'}\n",
      "[2021/08/17 14:40:54.476] INFO - event_manager.py#fetch_events:74: Fetch events from events-machine-01-20210327141514.\n",
      "[2021/08/17 14:40:54.821] INFO - cut_out_shot.py#cut_out_shot:600: 7720 data cut out from /mnt/datadrive/data/machine-01-20210327141514/machine-01_GW-01_AD-USB-1608_20210327-062001.118528.pkl.\n"
     ]
    },
    {
     "name": "stderr",
     "output_type": "stream",
     "text": [
      "/home/ymiyamoto5/data-analysis-platform/venv/lib/python3.8/site-packages/elasticsearch/connection/base.py:208: ElasticsearchWarning: Elasticsearch built-in security features are not enabled. Without authentication, your cluster could be accessible to anyone. See https://www.elastic.co/guide/en/elasticsearch/reference/7.13/security-minimal-setup.html to enable security.\n",
      "  warnings.warn(message, category=ElasticsearchWarning)\n"
     ]
    },
    {
     "name": "stdout",
     "output_type": "stream",
     "text": [
      "[2021/08/17 14:40:55.280] INFO - throughput_counter.py#throughput_counter:24: Thoughput: 196940 doc/sec, processed_count: 157696\n",
      "[2021/08/17 14:40:55.429] INFO - cut_out_shot.py#cut_out_shot:600: 7723 data cut out from /mnt/datadrive/data/machine-01-20210327141514/machine-01_GW-01_AD-USB-1608_20210327-062002.688044.pkl.\n"
     ]
    },
    {
     "name": "stderr",
     "output_type": "stream",
     "text": [
      "/home/ymiyamoto5/data-analysis-platform/venv/lib/python3.8/site-packages/elasticsearch/connection/base.py:208: ElasticsearchWarning: Elasticsearch built-in security features are not enabled. Without authentication, your cluster could be accessible to anyone. See https://www.elastic.co/guide/en/elasticsearch/reference/7.13/security-minimal-setup.html to enable security.\n",
      "  warnings.warn(message, category=ElasticsearchWarning)\n"
     ]
    },
    {
     "name": "stdout",
     "output_type": "stream",
     "text": [
      "[2021/08/17 14:40:55.982] INFO - throughput_counter.py#throughput_counter:24: Thoughput: 209236 doc/sec, processed_count: 314368\n",
      "[2021/08/17 14:40:56.256] INFO - cut_out_shot.py#cut_out_shot:600: 11363 data cut out from /mnt/datadrive/data/machine-01-20210327141514/machine-01_GW-01_AD-USB-1608_20210327-062004.260193.pkl.\n",
      "[2021/08/17 14:40:56.869] INFO - throughput_counter.py#throughput_counter:24: Thoughput: 197556 doc/sec, processed_count: 472064\n"
     ]
    },
    {
     "name": "stderr",
     "output_type": "stream",
     "text": [
      "/home/ymiyamoto5/data-analysis-platform/venv/lib/python3.8/site-packages/elasticsearch/connection/base.py:208: ElasticsearchWarning: Elasticsearch built-in security features are not enabled. Without authentication, your cluster could be accessible to anyone. See https://www.elastic.co/guide/en/elasticsearch/reference/7.13/security-minimal-setup.html to enable security.\n",
      "  warnings.warn(message, category=ElasticsearchWarning)\n"
     ]
    },
    {
     "name": "stdout",
     "output_type": "stream",
     "text": [
      "[2021/08/17 14:40:56.984] INFO - cut_out_shot.py#cut_out_shot:600: 7953 data cut out from /mnt/datadrive/data/machine-01-20210327141514/machine-01_GW-01_AD-USB-1608_20210327-062005.830187.pkl.\n"
     ]
    },
    {
     "name": "stderr",
     "output_type": "stream",
     "text": [
      "/home/ymiyamoto5/data-analysis-platform/venv/lib/python3.8/site-packages/elasticsearch/connection/base.py:208: ElasticsearchWarning: Elasticsearch built-in security features are not enabled. Without authentication, your cluster could be accessible to anyone. See https://www.elastic.co/guide/en/elasticsearch/reference/7.13/security-minimal-setup.html to enable security.\n",
      "  warnings.warn(message, category=ElasticsearchWarning)\n"
     ]
    },
    {
     "name": "stdout",
     "output_type": "stream",
     "text": [
      "[2021/08/17 14:40:57.963] INFO - throughput_counter.py#throughput_counter:24: Thoughput: 180476 doc/sec, processed_count: 628736\n",
      "[2021/08/17 14:40:58.106] INFO - cut_out_shot.py#cut_out_shot:600: 7715 data cut out from /mnt/datadrive/data/machine-01-20210327141514/machine-01_GW-01_AD-USB-1608_20210327-062007.401705.pkl.\n",
      "[2021/08/17 14:40:58.630] INFO - throughput_counter.py#throughput_counter:24: Thoughput: 189226 doc/sec, processed_count: 785408\n"
     ]
    },
    {
     "name": "stderr",
     "output_type": "stream",
     "text": [
      "/home/ymiyamoto5/data-analysis-platform/venv/lib/python3.8/site-packages/elasticsearch/connection/base.py:208: ElasticsearchWarning: Elasticsearch built-in security features are not enabled. Without authentication, your cluster could be accessible to anyone. See https://www.elastic.co/guide/en/elasticsearch/reference/7.13/security-minimal-setup.html to enable security.\n",
      "  warnings.warn(message, category=ElasticsearchWarning)\n"
     ]
    },
    {
     "name": "stdout",
     "output_type": "stream",
     "text": [
      "[2021/08/17 14:40:58.744] INFO - cut_out_shot.py#cut_out_shot:600: 7712 data cut out from /mnt/datadrive/data/machine-01-20210327141514/machine-01_GW-01_AD-USB-1608_20210327-062008.970624.pkl.\n",
      "[2021/08/17 14:40:59.476] INFO - throughput_counter.py#throughput_counter:24: Thoughput: 188761 doc/sec, processed_count: 943104\n",
      "[2021/08/17 14:40:59.552] INFO - cut_out_shot.py#cut_out_shot:600: 7710 data cut out from /mnt/datadrive/data/machine-01-20210327141514/machine-01_GW-01_AD-USB-1608_20210327-062010.542649.pkl.\n"
     ]
    },
    {
     "name": "stderr",
     "output_type": "stream",
     "text": [
      "/home/ymiyamoto5/data-analysis-platform/venv/lib/python3.8/site-packages/elasticsearch/connection/base.py:208: ElasticsearchWarning: Elasticsearch built-in security features are not enabled. Without authentication, your cluster could be accessible to anyone. See https://www.elastic.co/guide/en/elasticsearch/reference/7.13/security-minimal-setup.html to enable security.\n",
      "  warnings.warn(message, category=ElasticsearchWarning)\n"
     ]
    },
    {
     "name": "stdout",
     "output_type": "stream",
     "text": [
      "[2021/08/17 14:41:00.249] INFO - throughput_counter.py#throughput_counter:24: Thoughput: 190611 doc/sec, processed_count: 1099776\n"
     ]
    },
    {
     "name": "stderr",
     "output_type": "stream",
     "text": [
      "/home/ymiyamoto5/data-analysis-platform/venv/lib/python3.8/site-packages/elasticsearch/connection/base.py:208: ElasticsearchWarning: Elasticsearch built-in security features are not enabled. Without authentication, your cluster could be accessible to anyone. See https://www.elastic.co/guide/en/elasticsearch/reference/7.13/security-minimal-setup.html to enable security.\n",
      "  warnings.warn(message, category=ElasticsearchWarning)\n"
     ]
    },
    {
     "name": "stdout",
     "output_type": "stream",
     "text": [
      "[2021/08/17 14:41:00.403] INFO - cut_out_shot.py#cut_out_shot:600: 7715 data cut out from /mnt/datadrive/data/machine-01-20210327141514/machine-01_GW-01_AD-USB-1608_20210327-062012.115568.pkl.\n",
      "[2021/08/17 14:41:00.979] INFO - throughput_counter.py#throughput_counter:24: Thoughput: 193475 doc/sec, processed_count: 1257472\n",
      "[2021/08/17 14:41:01.055] INFO - cut_out_shot.py#cut_out_shot:600: 7738 data cut out from /mnt/datadrive/data/machine-01-20210327141514/machine-01_GW-01_AD-USB-1608_20210327-062013.685280.pkl.\n"
     ]
    },
    {
     "name": "stderr",
     "output_type": "stream",
     "text": [
      "/home/ymiyamoto5/data-analysis-platform/venv/lib/python3.8/site-packages/elasticsearch/connection/base.py:208: ElasticsearchWarning: Elasticsearch built-in security features are not enabled. Without authentication, your cluster could be accessible to anyone. See https://www.elastic.co/guide/en/elasticsearch/reference/7.13/security-minimal-setup.html to enable security.\n",
      "  warnings.warn(message, category=ElasticsearchWarning)\n"
     ]
    },
    {
     "name": "stdout",
     "output_type": "stream",
     "text": [
      "[2021/08/17 14:41:02.046] INFO - throughput_counter.py#throughput_counter:24: Thoughput: 186888 doc/sec, processed_count: 1414144\n"
     ]
    },
    {
     "name": "stderr",
     "output_type": "stream",
     "text": [
      "/home/ymiyamoto5/data-analysis-platform/venv/lib/python3.8/site-packages/elasticsearch/connection/base.py:208: ElasticsearchWarning: Elasticsearch built-in security features are not enabled. Without authentication, your cluster could be accessible to anyone. See https://www.elastic.co/guide/en/elasticsearch/reference/7.13/security-minimal-setup.html to enable security.\n",
      "  warnings.warn(message, category=ElasticsearchWarning)\n"
     ]
    },
    {
     "name": "stdout",
     "output_type": "stream",
     "text": [
      "[2021/08/17 14:41:02.174] INFO - cut_out_shot.py#cut_out_shot:600: 7711 data cut out from /mnt/datadrive/data/machine-01-20210327141514/machine-01_GW-01_AD-USB-1608_20210327-062015.258416.pkl.\n",
      "[2021/08/17 14:41:02.869] INFO - throughput_counter.py#throughput_counter:24: Thoughput: 187367 doc/sec, processed_count: 1571840\n"
     ]
    },
    {
     "name": "stderr",
     "output_type": "stream",
     "text": [
      "/home/ymiyamoto5/data-analysis-platform/venv/lib/python3.8/site-packages/elasticsearch/connection/base.py:208: ElasticsearchWarning: Elasticsearch built-in security features are not enabled. Without authentication, your cluster could be accessible to anyone. See https://www.elastic.co/guide/en/elasticsearch/reference/7.13/security-minimal-setup.html to enable security.\n",
      "  warnings.warn(message, category=ElasticsearchWarning)\n"
     ]
    },
    {
     "name": "stdout",
     "output_type": "stream",
     "text": [
      "[2021/08/17 14:41:03.002] INFO - cut_out_shot.py#cut_out_shot:600: 7724 data cut out from /mnt/datadrive/data/machine-01-20210327141514/machine-01_GW-01_AD-USB-1608_20210327-062016.828376.pkl.\n",
      "[2021/08/17 14:41:03.643] INFO - throughput_counter.py#throughput_counter:24: Thoughput: 188639 doc/sec, processed_count: 1728512\n"
     ]
    },
    {
     "name": "stderr",
     "output_type": "stream",
     "text": [
      "/home/ymiyamoto5/data-analysis-platform/venv/lib/python3.8/site-packages/elasticsearch/connection/base.py:208: ElasticsearchWarning: Elasticsearch built-in security features are not enabled. Without authentication, your cluster could be accessible to anyone. See https://www.elastic.co/guide/en/elasticsearch/reference/7.13/security-minimal-setup.html to enable security.\n",
      "  warnings.warn(message, category=ElasticsearchWarning)\n"
     ]
    },
    {
     "name": "stdout",
     "output_type": "stream",
     "text": [
      "[2021/08/17 14:41:03.760] INFO - cut_out_shot.py#cut_out_shot:600: 7711 data cut out from /mnt/datadrive/data/machine-01-20210327141514/machine-01_GW-01_AD-USB-1608_20210327-062018.401691.pkl.\n",
      "[2021/08/17 14:41:04.541] INFO - throughput_counter.py#throughput_counter:24: Thoughput: 187474 doc/sec, processed_count: 1886208\n"
     ]
    },
    {
     "name": "stderr",
     "output_type": "stream",
     "text": [
      "/home/ymiyamoto5/data-analysis-platform/venv/lib/python3.8/site-packages/elasticsearch/connection/base.py:208: ElasticsearchWarning: Elasticsearch built-in security features are not enabled. Without authentication, your cluster could be accessible to anyone. See https://www.elastic.co/guide/en/elasticsearch/reference/7.13/security-minimal-setup.html to enable security.\n",
      "  warnings.warn(message, category=ElasticsearchWarning)\n"
     ]
    },
    {
     "name": "stdout",
     "output_type": "stream",
     "text": [
      "[2021/08/17 14:41:04.815] INFO - cut_out_shot.py#cut_out_shot:600: 11593 data cut out from /mnt/datadrive/data/machine-01-20210327141514/machine-01_GW-01_AD-USB-1608_20210327-062019.974175.pkl.\n",
      "[2021/08/17 14:41:05.342] INFO - throughput_counter.py#throughput_counter:24: Thoughput: 188064 doc/sec, processed_count: 2042880\n"
     ]
    },
    {
     "name": "stderr",
     "output_type": "stream",
     "text": [
      "/home/ymiyamoto5/data-analysis-platform/venv/lib/python3.8/site-packages/elasticsearch/connection/base.py:208: ElasticsearchWarning: Elasticsearch built-in security features are not enabled. Without authentication, your cluster could be accessible to anyone. See https://www.elastic.co/guide/en/elasticsearch/reference/7.13/security-minimal-setup.html to enable security.\n",
      "  warnings.warn(message, category=ElasticsearchWarning)\n"
     ]
    },
    {
     "name": "stdout",
     "output_type": "stream",
     "text": [
      "[2021/08/17 14:41:05.450] INFO - cut_out_shot.py#cut_out_shot:600: 7733 data cut out from /mnt/datadrive/data/machine-01-20210327141514/machine-01_GW-01_AD-USB-1608_20210327-062021.545709.pkl.\n"
     ]
    },
    {
     "name": "stderr",
     "output_type": "stream",
     "text": [
      "/home/ymiyamoto5/data-analysis-platform/venv/lib/python3.8/site-packages/elasticsearch/connection/base.py:208: ElasticsearchWarning: Elasticsearch built-in security features are not enabled. Without authentication, your cluster could be accessible to anyone. See https://www.elastic.co/guide/en/elasticsearch/reference/7.13/security-minimal-setup.html to enable security.\n",
      "  warnings.warn(message, category=ElasticsearchWarning)\n"
     ]
    },
    {
     "name": "stdout",
     "output_type": "stream",
     "text": [
      "[2021/08/17 14:41:06.587] INFO - cut_out_shot.py#cut_out_shot:624: Cut out shot finished.\n"
     ]
    },
    {
     "name": "stderr",
     "output_type": "stream",
     "text": [
      "/home/ymiyamoto5/data-analysis-platform/venv/lib/python3.8/site-packages/elasticsearch/connection/base.py:208: ElasticsearchWarning: Elasticsearch built-in security features are not enabled. Without authentication, your cluster could be accessible to anyone. See https://www.elastic.co/guide/en/elasticsearch/reference/7.13/security-minimal-setup.html to enable security.\n",
      "  warnings.warn(message, category=ElasticsearchWarning)\n"
     ]
    }
   ],
   "source": [
    "# 適宜変更してください\n",
    "machine_id = \"machine-01\"\n",
    "target_datetime = \"20210327141514\"\n",
    "rawdata_dir_name = machine_id + \"-\" + target_datetime\n",
    "start_displacement = 47.0\n",
    "end_displacement = 34.0\n",
    "# start_displacement=158.0\n",
    "# end_displacement=-5.0\n",
    "# start_sequential_number=20000\n",
    "# end_sequential_number=140000\n",
    "\n",
    "cut_out_shot = CutOutShot(\n",
    "    machine_id=machine_id,\n",
    "    displacement_func=displacement_func,\n",
    "    load01_func=load01_func,\n",
    "    load02_func=load02_func,\n",
    "    load03_func=load03_func,\n",
    "    load04_func=load04_func,\n",
    "    margin=0.3,\n",
    ")\n",
    "\n",
    "cut_out_shot.cut_out_shot(\n",
    "    rawdata_dir_name=rawdata_dir_name, \n",
    "    start_displacement=start_displacement, \n",
    "    end_displacement=end_displacement,\n",
    "#     start_sequential_number=start_sequential_number,\n",
    "#     end_sequential_number=end_sequential_number\n",
    ")"
   ]
  }
 ],
 "metadata": {
  "kernelspec": {
   "display_name": "Python 3 (ipykernel)",
   "language": "python",
   "name": "python3"
  },
  "language_info": {
   "codemirror_mode": {
    "name": "ipython",
    "version": 3
   },
   "file_extension": ".py",
   "mimetype": "text/x-python",
   "name": "python",
   "nbconvert_exporter": "python",
   "pygments_lexer": "ipython3",
   "version": "3.8.10"
  },
  "toc": {
   "base_numbering": 1,
   "nav_menu": {},
   "number_sections": true,
   "sideBar": true,
   "skip_h1_title": false,
   "title_cell": "Table of Contents",
   "title_sidebar": "Contents",
   "toc_cell": false,
   "toc_position": {},
   "toc_section_display": true,
   "toc_window_display": false
  }
 },
 "nbformat": 4,
 "nbformat_minor": 4
}
