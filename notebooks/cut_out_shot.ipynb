{
 "cells": [
  {
   "cell_type": "markdown",
   "metadata": {},
   "source": [
    "Copyright(c) 2021 UNIADEX, Ltd. All Rights Reserved.  \n",
    "CONFIDENTIAL"
   ]
  },
  {
   "cell_type": "markdown",
   "metadata": {},
   "source": [
    "# ショット切り出し  \n",
    "\n",
    "以下の処理を行います。  \n",
    "\n",
    "* ショット切り出し\n",
    "* 中断区間のデータ除外\n",
    "* 物理変換 + 校正\n",
    "* SPM計算\n",
    "* 事象記録のタグ付け\n",
    "* SPMから算出される、ショット当たりの最大サンプル数を超えたショット除外\n",
    "* Elasticsearchインデックスへの保存\n",
    "  * shots-yyyyMMddHHMMSS-data：切り出されたショットデータ\n",
    "  * shots-yyyyMMddHHMMSS-meta：ショットのメタデータ\n",
    "  "
   ]
  },
  {
   "cell_type": "code",
   "execution_count": 1,
   "metadata": {},
   "outputs": [],
   "source": [
    "# ライブラリインポート\n",
    "import os, sys\n",
    "sys.path.append(os.path.join(os.getcwd(), '../src/'))\n",
    "from cut_out_shot.cut_out_shot import CutOutShot\n",
    "from utils import common\n",
    "import logging"
   ]
  },
  {
   "cell_type": "code",
   "execution_count": 2,
   "metadata": {},
   "outputs": [],
   "source": [
    "# ログ設定\n",
    "LOG_FILE = os.path.join(\n",
    "    common.get_config_value(common.APP_CONFIG_PATH, \"log_dir\"), \"cut_out_shot/cut_out_shot.log\"\n",
    ")\n",
    "\n",
    "logging.basicConfig(\n",
    "    level=logging.INFO,\n",
    "    format=\"%(asctime)s [%(levelname)s] %(message)s\",\n",
    "    handlers=[\n",
    "        logging.handlers.RotatingFileHandler(\n",
    "            LOG_FILE, maxBytes=common.MAX_LOG_SIZE, backupCount=common.BACKUP_COUNT\n",
    "        ),\n",
    "        logging.StreamHandler(),\n",
    "    ],\n",
    ")"
   ]
  },
  {
   "cell_type": "markdown",
   "metadata": {},
   "source": [
    "### CutOutShot クラスパラメーター一覧  \n",
    "\n",
    "**【必須】**  \n",
    "***displacement_func***  \n",
    "変位センサーの物理変換式  \n",
    "\n",
    "***load01_func***  \n",
    "荷重センサー01の物理変換式  \n",
    "\n",
    "***load02_func***  \n",
    "荷重センサー02の物理変換式  \n",
    "\n",
    "***load03_func***  \n",
    "荷重センサー03の物理変換式  \n",
    "\n",
    "***load04_func***  \n",
    "荷重センサー04の物理変換式  \n",
    "\n",
    "\n",
    "**【任意】**  \n",
    "***min_spm***  \n",
    "最小SPM。この値をもとに、1ショットに含まれる最大サンプル数を計算し、最大サンプル数を超えたショットは切り出し対象外とする。  \n",
    "指定しない場合、既定値の15となる。  \n",
    "\n",
    "***back_seconds_for_tagging***  \n",
    "データ収集マネージャーで記録した事象について、何秒遡ってタグ付けするかを指定。指定しない場合、既定値の120となる。\n",
    "\n",
    "***previous_size***  \n",
    "ショットを検知したサンプルから何サンプル遡ってショットに含めるかを指定。これは切り出しショットに荷重開始点が確実に含まれるようにするため。指定しない場合、既定値の1000となる。\n"
   ]
  },
  {
   "cell_type": "markdown",
   "metadata": {},
   "source": [
    "### cut_out_shot 関数パラメーター一覧\n",
    "**【必須】**  \n",
    "***rawdata_dir_name***  \n",
    "ショット切り出しの対象とする生データファイルのディレクトリ（.pklファイルが含まれるディレクトリ）。  \n",
    "ディレクトリ名はデータ収集開始日時で、yyyyMMddHHMMSSの形式となっている。\n",
    "\n",
    "***start_displacement***  \n",
    "ショット切り出しの開始を検知するための変位値。  \n",
    "\n",
    "***end_displacement***  \n",
    "ショット切り出しの終了を検知するための変位値。  \n",
    "\n",
    "**【任意】**  \n",
    "***start_sequential_number***  \n",
    "ショット切り出しの開始連番。指定しない場合、データの先頭から切り出し。  \n",
    "\n",
    "***end_sequential_number***  \n",
    "ショット切り出しの終了連番。指定しない場合、データの末尾まで切り出し。  "
   ]
  },
  {
   "cell_type": "code",
   "execution_count": 3,
   "metadata": {},
   "outputs": [
    {
     "name": "stdout",
     "output_type": "stream",
     "text": [
      "ls: cannot access '/datadrive/data': No such file or directory\r\n"
     ]
    }
   ],
   "source": [
    "# データディレクトリの一覧\n",
    "!ls /datadrive/data"
   ]
  },
  {
   "cell_type": "code",
   "execution_count": 3,
   "metadata": {},
   "outputs": [],
   "source": [
    "# 物理変換式設定\n",
    "#displacement_func = lambda v: 70.0 - (v - 2.0) * 70.0 / 8.0\n",
    "displacement_func = lambda v: v\n",
    "Vr = 2.5\n",
    "load01_func = lambda v: 2.5 / Vr * v\n",
    "load02_func = lambda v: 2.5 / Vr * v\n",
    "load03_func = lambda v: 2.5 / Vr * v\n",
    "load04_func = lambda v: 2.5 / Vr * v"
   ]
  },
  {
   "cell_type": "code",
   "execution_count": 8,
   "metadata": {},
   "outputs": [
    {
     "name": "stderr",
     "output_type": "stream",
     "text": [
      "2021-04-06 15:52:17,233 [INFO] Cut out shot start.\n",
      "2021-04-06 15:52:17,294 [INFO] delete index 'shots-20210101000000-data' finished. result: {'acknowledged': True}\n",
      "2021-04-06 15:52:17,487 [INFO] create index 'shots-20210101000000-data' finished. result: {'acknowledged': True, 'shards_acknowledged': True, 'index': 'shots-20210101000000-data'}\n",
      "2021-04-06 15:52:17,546 [INFO] delete index 'shots-20210101000000-meta' finished. result: {'acknowledged': True}\n",
      "2021-04-06 15:52:17,742 [INFO] create index 'shots-20210101000000-meta' finished. result: {'acknowledged': True, 'shards_acknowledged': True, 'index': 'shots-20210101000000-meta'}\n",
      "2021-04-06 15:52:17,757 [ERROR] Invalid spm. shot_number: 1, spm: 6000.0, rawdata_sequential_number: 1194\n",
      "2021-04-06 15:52:17,763 [ERROR] Invalid spm. shot_number: 2, spm: 6000.0, rawdata_sequential_number: 2386\n",
      "2021-04-06 15:52:17,769 [ERROR] Invalid spm. shot_number: 3, spm: 6000.0, rawdata_sequential_number: 3578\n",
      "2021-04-06 15:52:17,775 [ERROR] Invalid spm. shot_number: 4, spm: 6000.0, rawdata_sequential_number: 4770\n",
      "2021-04-06 15:52:17,781 [ERROR] Invalid spm. shot_number: 5, spm: 6000.0, rawdata_sequential_number: 5962\n",
      "2021-04-06 15:52:17,787 [ERROR] Invalid spm. shot_number: 6, spm: 6000.0, rawdata_sequential_number: 7154\n",
      "2021-04-06 15:52:17,793 [ERROR] Invalid spm. shot_number: 7, spm: 6000.0, rawdata_sequential_number: 8346\n",
      "2021-04-06 15:52:17,861 [INFO] 4040 data cut out from /home/ymiyamoto5/h-one-experimental-system/shared/data/20210101000000/tmp000.pkl.\n",
      "2021-04-06 15:52:18,147 [INFO] Cut out shot finished.\n"
     ]
    }
   ],
   "source": [
    "# 適宜変更してください\n",
    "rawdata_dir_name=\"20210101000000\"\n",
    "#start_displacement=47.0\n",
    "#end_displacement=-34.0\n",
    "start_displacement=158.0\n",
    "end_displacement=-5.0\n",
    "# start_sequential_number=20000\n",
    "# end_sequential_number=140000\n",
    "\n",
    "cut_out_shot = CutOutShot(\n",
    "    displacement_func=displacement_func,\n",
    "    load01_func=load01_func,\n",
    "    load02_func=load02_func,\n",
    "    load03_func=load03_func,\n",
    "    load04_func=load04_func,\n",
    "    min_spm=1,\n",
    "#     margin=0.3,\n",
    "    previous_size=0\n",
    ")\n",
    "\n",
    "cut_out_shot.cut_out_shot(\n",
    "    rawdata_dir_name=rawdata_dir_name, \n",
    "    start_displacement=start_displacement, \n",
    "    end_displacement=end_displacement,\n",
    "#     start_sequential_number=start_sequential_number,\n",
    "#     end_sequential_number=end_sequential_number\n",
    ")"
   ]
  },
  {
   "cell_type": "code",
   "execution_count": null,
   "metadata": {},
   "outputs": [],
   "source": []
  },
  {
   "cell_type": "markdown",
   "metadata": {},
   "source": [
    "<br>\n",
    "<br>\n",
    "<br>\n",
    "<br>\n",
    "<br>\n",
    "<br>\n",
    "<hr>\n",
    "\n",
    "## 参考）テストデータでのショット切り出し"
   ]
  },
  {
   "cell_type": "code",
   "execution_count": 9,
   "metadata": {},
   "outputs": [
    {
     "name": "stderr",
     "output_type": "stream",
     "text": [
      "2021-02-26 15:36:40,338 [INFO] Cut out shot start.\n",
      "2021-02-26 15:36:40,570 [INFO] delete index 'shots-20201201010000-data' finished. result: {'acknowledged': True}\n",
      "2021-02-26 15:36:40,770 [INFO] create index 'shots-20201201010000-data' finished. result: {'acknowledged': True, 'shards_acknowledged': True, 'index': 'shots-20201201010000-data'}\n",
      "2021-02-26 15:36:40,830 [INFO] delete index 'shots-20201201010000-meta' finished. result: {'acknowledged': True}\n",
      "2021-02-26 15:36:41,035 [INFO] create index 'shots-20201201010000-meta' finished. result: {'acknowledged': True, 'shards_acknowledged': True, 'index': 'shots-20201201010000-meta'}\n",
      "2021-02-26 15:37:08,879 [INFO] 436180 data cut out from /home/ymiyamoto5/h-one-experimental-system/shared/data/20201201010000/tmp000.pkl.\n",
      "2021-02-26 15:37:31,596 [INFO] Thoughput: 197795 doc/sec, processed_count: 10000000\n",
      "2021-02-26 15:37:37,612 [INFO] 436180 data cut out from /home/ymiyamoto5/h-one-experimental-system/shared/data/20201201010000/tmp001.pkl.\n",
      "2021-02-26 15:38:00,272 [INFO] Thoughput: 252417 doc/sec, processed_count: 20000000\n",
      "2021-02-26 15:38:06,351 [INFO] 436180 data cut out from /home/ymiyamoto5/h-one-experimental-system/shared/data/20201201010000/tmp002.pkl.\n",
      "2021-02-26 15:38:29,958 [INFO] Thoughput: 275432 doc/sec, processed_count: 30000000\n",
      "2021-02-26 15:38:36,146 [INFO] 436180 data cut out from /home/ymiyamoto5/h-one-experimental-system/shared/data/20201201010000/tmp003.pkl.\n",
      "2021-02-26 15:38:59,172 [INFO] Thoughput: 289574 doc/sec, processed_count: 40000000\n",
      "2021-02-26 15:39:05,722 [INFO] 436180 data cut out from /home/ymiyamoto5/h-one-experimental-system/shared/data/20201201010000/tmp004.pkl.\n",
      "2021-02-26 15:39:28,523 [INFO] Thoughput: 298535 doc/sec, processed_count: 50000000\n",
      "2021-02-26 15:39:35,115 [INFO] 436180 data cut out from /home/ymiyamoto5/h-one-experimental-system/shared/data/20201201010000/tmp005.pkl.\n",
      "2021-02-26 15:39:57,928 [INFO] Thoughput: 304739 doc/sec, processed_count: 60000000\n",
      "2021-02-26 15:40:04,205 [INFO] 436180 data cut out from /home/ymiyamoto5/h-one-experimental-system/shared/data/20201201010000/tmp006.pkl.\n",
      "2021-02-26 15:40:26,751 [INFO] Thoughput: 310128 doc/sec, processed_count: 70000000\n",
      "2021-02-26 15:40:33,324 [INFO] 436180 data cut out from /home/ymiyamoto5/h-one-experimental-system/shared/data/20201201010000/tmp007.pkl.\n",
      "2021-02-26 15:40:56,087 [INFO] Thoughput: 313665 doc/sec, processed_count: 80000000\n",
      "2021-02-26 15:41:02,466 [INFO] 436180 data cut out from /home/ymiyamoto5/h-one-experimental-system/shared/data/20201201010000/tmp008.pkl.\n",
      "2021-02-26 15:41:25,606 [INFO] Thoughput: 316269 doc/sec, processed_count: 90000000\n",
      "2021-02-26 15:41:32,168 [INFO] 436180 data cut out from /home/ymiyamoto5/h-one-experimental-system/shared/data/20201201010000/tmp009.pkl.\n",
      "2021-02-26 15:41:55,256 [INFO] Thoughput: 318250 doc/sec, processed_count: 100000000\n",
      "2021-02-26 15:42:01,572 [INFO] 436180 data cut out from /home/ymiyamoto5/h-one-experimental-system/shared/data/20201201010000/tmp010.pkl.\n",
      "2021-02-26 15:42:24,336 [INFO] Thoughput: 320421 doc/sec, processed_count: 110000000\n",
      "2021-02-26 15:42:31,096 [INFO] 436180 data cut out from /home/ymiyamoto5/h-one-experimental-system/shared/data/20201201010000/tmp011.pkl.\n",
      "2021-02-26 15:42:53,736 [INFO] Thoughput: 321977 doc/sec, processed_count: 120000000\n",
      "2021-02-26 15:43:00,114 [INFO] 436180 data cut out from /home/ymiyamoto5/h-one-experimental-system/shared/data/20201201010000/tmp012.pkl.\n",
      "2021-02-26 15:43:23,531 [INFO] Thoughput: 322987 doc/sec, processed_count: 130000000\n",
      "2021-02-26 15:43:29,861 [INFO] 436180 data cut out from /home/ymiyamoto5/h-one-experimental-system/shared/data/20201201010000/tmp013.pkl.\n",
      "2021-02-26 15:43:53,560 [INFO] Thoughput: 323683 doc/sec, processed_count: 140000000\n",
      "2021-02-26 15:43:59,868 [INFO] 436180 data cut out from /home/ymiyamoto5/h-one-experimental-system/shared/data/20201201010000/tmp014.pkl.\n",
      "2021-02-26 15:44:22,549 [INFO] Thoughput: 325019 doc/sec, processed_count: 150000000\n",
      "2021-02-26 15:44:29,322 [INFO] 436180 data cut out from /home/ymiyamoto5/h-one-experimental-system/shared/data/20201201010000/tmp015.pkl.\n",
      "2021-02-26 15:44:52,441 [INFO] Thoughput: 325598 doc/sec, processed_count: 160000000\n",
      "2021-02-26 15:44:58,817 [INFO] 436180 data cut out from /home/ymiyamoto5/h-one-experimental-system/shared/data/20201201010000/tmp016.pkl.\n",
      "2021-02-26 15:45:21,525 [INFO] Thoughput: 326617 doc/sec, processed_count: 170000000\n",
      "2021-02-26 15:45:28,102 [INFO] 436180 data cut out from /home/ymiyamoto5/h-one-experimental-system/shared/data/20201201010000/tmp017.pkl.\n",
      "2021-02-26 15:45:51,528 [INFO] Thoughput: 326981 doc/sec, processed_count: 180000000\n",
      "2021-02-26 15:45:58,234 [INFO] 436180 data cut out from /home/ymiyamoto5/h-one-experimental-system/shared/data/20201201010000/tmp018.pkl.\n",
      "2021-02-26 15:46:21,480 [INFO] Thoughput: 327336 doc/sec, processed_count: 190000000\n",
      "2021-02-26 15:46:27,884 [INFO] 436180 data cut out from /home/ymiyamoto5/h-one-experimental-system/shared/data/20201201010000/tmp019.pkl.\n",
      "2021-02-26 15:46:51,399 [INFO] Thoughput: 327674 doc/sec, processed_count: 200000000\n",
      "2021-02-26 15:46:58,109 [INFO] 436180 data cut out from /home/ymiyamoto5/h-one-experimental-system/shared/data/20201201010000/tmp020.pkl.\n",
      "2021-02-26 15:47:08,749 [INFO] Thoughput: 325787 doc/sec, processed_count: 204500429\n",
      "2021-02-26 15:47:11,553 [INFO] 196281 data cut out from /home/ymiyamoto5/h-one-experimental-system/shared/data/20201201010000/tmp021.pkl.\n",
      "2021-02-26 15:47:14,821 [INFO] Cut out shot finished.\n"
     ]
    }
   ],
   "source": [
    "# 適宜変更してください\n",
    "rawdata_dir_name=\"20201201010000\"\n",
    "start_displacement=47.0\n",
    "end_displacement=34.0\n",
    "start_sequential_number=None\n",
    "end_sequential_number=None\n",
    "\n",
    "displacement_func = lambda v: v\n",
    "load01_func = lambda v: v\n",
    "load02_func = lambda v: v\n",
    "load03_func = lambda v: v\n",
    "load04_func = lambda v: v\n",
    "\n",
    "cut_out_shot = CutOutShot(\n",
    "    displacement_func=displacement_func,\n",
    "    load01_func=load01_func,\n",
    "    load02_func=load02_func,\n",
    "    load03_func=load03_func,\n",
    "    load04_func=load04_func\n",
    ")\n",
    "\n",
    "cut_out_shot.cut_out_shot(\n",
    "    rawdata_dir_name=rawdata_dir_name, \n",
    "    start_displacement=start_displacement, \n",
    "    end_displacement=end_displacement,\n",
    "    start_sequential_number=start_sequential_number,\n",
    "    end_sequential_number=end_sequential_number\n",
    ")"
   ]
  },
  {
   "cell_type": "code",
   "execution_count": null,
   "metadata": {},
   "outputs": [],
   "source": []
  }
 ],
 "metadata": {
  "kernelspec": {
   "display_name": "Python 3",
   "language": "python",
   "name": "python3"
  },
  "language_info": {
   "codemirror_mode": {
    "name": "ipython",
    "version": 3
   },
   "file_extension": ".py",
   "mimetype": "text/x-python",
   "name": "python",
   "nbconvert_exporter": "python",
   "pygments_lexer": "ipython3",
   "version": "3.8.3"
  },
  "toc": {
   "base_numbering": 1,
   "nav_menu": {},
   "number_sections": true,
   "sideBar": true,
   "skip_h1_title": false,
   "title_cell": "Table of Contents",
   "title_sidebar": "Contents",
   "toc_cell": false,
   "toc_position": {},
   "toc_section_display": true,
   "toc_window_display": false
  }
 },
 "nbformat": 4,
 "nbformat_minor": 4
}
