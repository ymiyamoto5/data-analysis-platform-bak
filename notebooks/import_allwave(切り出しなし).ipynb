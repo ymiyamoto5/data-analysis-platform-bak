{
 "cells": [
  {
   "cell_type": "code",
   "execution_count": 1,
   "metadata": {},
   "outputs": [],
   "source": [
    "from data_importer import DataImporter"
   ]
  },
  {
   "cell_type": "code",
   "execution_count": 2,
   "metadata": {},
   "outputs": [
    {
     "name": "stdout",
     "output_type": "stream",
     "text": [
      "2020-11-11 16:04:51.566637+09:00 start import_raw_data\n",
      "{'acknowledged': True, 'shards_acknowledged': True, 'index': 'rawdata-20201111'}\n",
      "2020-11-11 16:05:03.427328+09:00, processed_count: 0, throughput: 0.0\n",
      "2020-11-11 16:05:14.682937+09:00, processed_count: 100000, throughput: 8884.372468786756\n",
      "2020-11-11 16:05:22.461479+09:00, processed_count: 200000, throughput: 10507.368791465033\n",
      "2020-11-11 16:05:28.594689+09:00, processed_count: 300000, throughput: 11920.148830210235\n",
      "2020-11-11 16:05:33.433024+09:00, processed_count: 400000, throughput: 13330.75338819427\n",
      "2020-11-11 16:05:37.722680+09:00 end import_raw_data. elapsed time: 0:00:46.156043\n"
     ]
    }
   ],
   "source": [
    "importer = DataImporter()\n",
    "#importer.import_raw_data('3000wave.csv', 'allwave')\n",
    "importer.import_raw_data('wave1-15.csv', 'rawdata-20201111')"
   ]
  },
  {
   "cell_type": "code",
   "execution_count": null,
   "metadata": {},
   "outputs": [],
   "source": []
  }
 ],
 "metadata": {
  "kernelspec": {
   "display_name": "Python 3",
   "language": "python",
   "name": "python3"
  },
  "language_info": {
   "codemirror_mode": {
    "name": "ipython",
    "version": 3
   },
   "file_extension": ".py",
   "mimetype": "text/x-python",
   "name": "python",
   "nbconvert_exporter": "python",
   "pygments_lexer": "ipython3",
   "version": "3.8.3"
  }
 },
 "nbformat": 4,
 "nbformat_minor": 4
}
