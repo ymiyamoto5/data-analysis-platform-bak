{
 "cells": [
  {
   "cell_type": "code",
   "execution_count": 1,
   "metadata": {},
   "outputs": [],
   "source": [
    "from data_importer import DataImporter"
   ]
  },
  {
   "cell_type": "code",
   "execution_count": 4,
   "metadata": {},
   "outputs": [
    {
     "name": "stdout",
     "output_type": "stream",
     "text": [
      "2020-11-17 15:16:46.330951+09:00 start import_raw_data\n",
      "{'acknowledged': True}\n",
      "{'acknowledged': True, 'shards_acknowledged': True, 'index': 'rawdata-20201117-2'}\n",
      "2020-11-17 15:16:49.714706+09:00, processed_count: 0, throughput: 0.0\n",
      "2020-11-17 15:17:06.125541+09:00, processed_count: 100000, throughput: 6093.524387259562\n",
      "2020-11-17 15:17:18.794290+09:00, processed_count: 200000, throughput: 6877.670620994853\n",
      "2020-11-17 15:17:35.332472+09:00, processed_count: 300000, throughput: 6576.380993425921\n",
      "2020-11-17 15:17:44.896902+09:00 end import_raw_data. elapsed time: 0:00:58.565951\n"
     ]
    }
   ],
   "source": [
    "importer = DataImporter()\n",
    "#importer.import_raw_data('3000wave.csv', 'allwave')\n",
    "importer.import_raw_data('wave1-15-5ch-3.csv', 'rawdata-20201117-2')"
   ]
  },
  {
   "cell_type": "code",
   "execution_count": null,
   "metadata": {},
   "outputs": [],
   "source": []
  }
 ],
 "metadata": {
  "kernelspec": {
   "display_name": "Python 3",
   "language": "python",
   "name": "python3"
  },
  "language_info": {
   "codemirror_mode": {
    "name": "ipython",
    "version": 3
   },
   "file_extension": ".py",
   "mimetype": "text/x-python",
   "name": "python",
   "nbconvert_exporter": "python",
   "pygments_lexer": "ipython3",
   "version": "3.8.3"
  }
 },
 "nbformat": 4,
 "nbformat_minor": 4
}
