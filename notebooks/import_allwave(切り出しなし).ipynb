{
 "cells": [
  {
   "cell_type": "code",
   "execution_count": 9,
   "metadata": {},
   "outputs": [],
   "source": [
    "from data_importer import DataImporter"
   ]
  },
  {
   "cell_type": "code",
   "execution_count": 10,
   "metadata": {},
   "outputs": [
    {
     "name": "stdout",
     "output_type": "stream",
     "text": [
      "2020-11-12 13:09:37.389724+09:00 start import_raw_data\n",
      "{'acknowledged': True}\n",
      "{'acknowledged': True, 'shards_acknowledged': True, 'index': 'rawdata-20201112-1'}\n",
      "2020-11-12 13:09:40.518348+09:00, processed_count: 0, throughput: 0.0\n",
      "2020-11-12 13:09:45.569726+09:00, processed_count: 100000, throughput: 19796.51557570049\n",
      "2020-11-12 13:09:51.807186+09:00, processed_count: 200000, throughput: 17716.59018709959\n",
      "2020-11-12 13:09:57.527920+09:00, processed_count: 300000, throughput: 17637.111492647557\n",
      "2020-11-12 13:10:02.342171+09:00, processed_count: 400000, throughput: 18328.580961397307\n",
      "2020-11-12 13:10:06.254219+09:00 end import_raw_data. elapsed time: 0:00:28.864495\n"
     ]
    }
   ],
   "source": [
    "importer = DataImporter()\n",
    "#importer.import_raw_data('3000wave.csv', 'allwave')\n",
    "importer.import_raw_data('wave1-15.csv', 'rawdata-20201112-1')"
   ]
  },
  {
   "cell_type": "code",
   "execution_count": null,
   "metadata": {},
   "outputs": [],
   "source": []
  }
 ],
 "metadata": {
  "kernelspec": {
   "display_name": "Python 3",
   "language": "python",
   "name": "python3"
  },
  "language_info": {
   "codemirror_mode": {
    "name": "ipython",
    "version": 3
   },
   "file_extension": ".py",
   "mimetype": "text/x-python",
   "name": "python",
   "nbconvert_exporter": "python",
   "pygments_lexer": "ipython3",
   "version": "3.8.3"
  }
 },
 "nbformat": 4,
 "nbformat_minor": 4
}
