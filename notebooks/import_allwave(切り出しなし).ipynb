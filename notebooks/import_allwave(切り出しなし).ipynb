{
 "cells": [
  {
   "cell_type": "code",
   "execution_count": 1,
   "metadata": {},
   "outputs": [],
   "source": [
    "from data_importer import DataImporter"
   ]
  },
  {
   "cell_type": "code",
   "execution_count": 2,
   "metadata": {},
   "outputs": [
    {
     "name": "stdout",
     "output_type": "stream",
     "text": [
      "2020-11-16 09:19:13.142085+09:00 start import_raw_data\n",
      "{'acknowledged': True, 'shards_acknowledged': True, 'index': 'rawdata-20201116-1'}\n",
      "2020-11-16 09:19:16.432050+09:00, processed_count: 0, throughput: 0.0\n",
      "2020-11-16 09:19:25.517469+09:00, processed_count: 100000, throughput: 11006.613103350886\n",
      "2020-11-16 09:19:34.648976+09:00, processed_count: 200000, throughput: 10978.783829612787\n",
      "2020-11-16 09:19:42.848865+09:00, processed_count: 300000, throughput: 11356.391072165588\n",
      "2020-11-16 09:19:48.165354+09:00 end import_raw_data. elapsed time: 0:00:35.023269\n"
     ]
    }
   ],
   "source": [
    "importer = DataImporter()\n",
    "#importer.import_raw_data('3000wave.csv', 'allwave')\n",
    "importer.import_raw_data('wave1-15-5ch-2.csv', 'rawdata-20201116-1')"
   ]
  },
  {
   "cell_type": "code",
   "execution_count": null,
   "metadata": {},
   "outputs": [],
   "source": []
  }
 ],
 "metadata": {
  "kernelspec": {
   "display_name": "Python 3",
   "language": "python",
   "name": "python3"
  },
  "language_info": {
   "codemirror_mode": {
    "name": "ipython",
    "version": 3
   },
   "file_extension": ".py",
   "mimetype": "text/x-python",
   "name": "python",
   "nbconvert_exporter": "python",
   "pygments_lexer": "ipython3",
   "version": "3.8.3"
  }
 },
 "nbformat": 4,
 "nbformat_minor": 4
}
