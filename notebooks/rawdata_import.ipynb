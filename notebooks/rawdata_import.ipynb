{
 "cells": [
  {
   "cell_type": "markdown",
   "metadata": {},
   "source": [
    "# 生データ手動インポート\n",
    "\n",
    "生データを手動でインポートします。  \n",
    "rawdata_dir_name にインポートするデータが存在するディレクトリ（***yyyyMMddHHMMSS***）を指定します。  \n",
    "データ収集マネージャーで取得したデータのみが手動インポート可能です。  \n",
    "\n",
    "<font color=\"Red\">※ データ収集中は実行できません</font>"
   ]
  },
  {
   "cell_type": "code",
   "execution_count": 1,
   "metadata": {},
   "outputs": [],
   "source": [
    "# ライブラリインポート\n",
    "import os, sys\n",
    "sys.path.append(os.path.join(os.getcwd(), '../src/'))\n",
    "from data_recorder.data_recorder import *\n",
    "from utils import common\n",
    "import logging"
   ]
  },
  {
   "cell_type": "code",
   "execution_count": 2,
   "metadata": {},
   "outputs": [],
   "source": [
    "# ログ設定\n",
    "LOG_FILE = os.path.join(\n",
    "    common.get_config_value(common.APP_CONFIG_PATH, \"log_dir\"), \"data_recorder/data_recorder.log\"\n",
    ")\n",
    "\n",
    "logging.basicConfig(\n",
    "    level=logging.INFO,\n",
    "    format=\"%(asctime)s [%(levelname)s] %(message)s\",\n",
    "    handlers=[\n",
    "        logging.handlers.RotatingFileHandler(\n",
    "            LOG_FILE, maxBytes=common.MAX_LOG_SIZE, backupCount=common.BACKUP_COUNT\n",
    "        ),\n",
    "        logging.StreamHandler(),\n",
    "    ],\n",
    ")"
   ]
  },
  {
   "cell_type": "code",
   "execution_count": 3,
   "metadata": {},
   "outputs": [
    {
     "name": "stderr",
     "output_type": "stream",
     "text": [
      "2021-02-08 10:03:24,125 [INFO] No files in fixed\n"
     ]
    }
   ],
   "source": [
    "# インポートするデータが存在するディレクトリを指定してください。\n",
    "rawdata_dir_name = \"20210203165514\"\n",
    "data_dir = common.get_config_value(common.APP_CONFIG_PATH, \"data_dir\")\n",
    "target_dir = os.path.join(data_dir, rawdata_dir_name)\n",
    "\n",
    "manual_record(target_dir)"
   ]
  },
  {
   "cell_type": "code",
   "execution_count": null,
   "metadata": {},
   "outputs": [],
   "source": []
  }
 ],
 "metadata": {
  "kernelspec": {
   "display_name": "Python 3",
   "language": "python",
   "name": "python3"
  },
  "language_info": {
   "codemirror_mode": {
    "name": "ipython",
    "version": 3
   },
   "file_extension": ".py",
   "mimetype": "text/x-python",
   "name": "python",
   "nbconvert_exporter": "python",
   "pygments_lexer": "ipython3",
   "version": "3.8.3"
  }
 },
 "nbformat": 4,
 "nbformat_minor": 4
}
