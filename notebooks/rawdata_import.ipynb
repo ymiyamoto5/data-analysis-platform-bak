{
 "cells": [
  {
   "cell_type": "markdown",
   "metadata": {},
   "source": [
    "# 生データ手動インポート\n",
    "\n",
    "生データを手動でインポートします。  \n",
    "rawdata_dir_name にインポートするデータ（.datファイル）が存在するディレクトリを指定してください。  \n",
    "手動インポートを実行すると、dataディレクトリ配下に手動インポート実行時の日時名ディレクトリが生成され、そのディレクトリ配下にインポート済みデータが移動されます。  \n",
    "また、インポートにより生成されるインデックス名は rawdata-***yyyyMMddHHMMSS*** (***yyyyMMddHHMMSS***は手動インポート実行日時）となる。  \n",
    "\n",
    "<font color=\"Red\">※ データ収集中は実行できません</font>"
   ]
  },
  {
   "cell_type": "code",
   "execution_count": 14,
   "metadata": {},
   "outputs": [],
   "source": [
    "# ライブラリインポート\n",
    "import os, sys\n",
    "sys.path.append(os.path.join(os.getcwd(), '../src/'))\n",
    "from data_recorder.data_recorder import *\n",
    "from utils import common\n",
    "import logging"
   ]
  },
  {
   "cell_type": "code",
   "execution_count": 15,
   "metadata": {},
   "outputs": [],
   "source": [
    "# ログ設定\n",
    "LOG_FILE = os.path.join(\n",
    "    common.get_config_value(common.APP_CONFIG_PATH, \"log_dir\"), \"data_recorder/data_recorder.log\"\n",
    ")\n",
    "\n",
    "logging.basicConfig(\n",
    "    level=logging.INFO,\n",
    "    format=\"%(asctime)s [%(levelname)s] %(message)s\",\n",
    "    handlers=[\n",
    "        logging.handlers.RotatingFileHandler(\n",
    "            LOG_FILE, maxBytes=common.MAX_LOG_SIZE, backupCount=common.BACKUP_COUNT\n",
    "        ),\n",
    "        logging.StreamHandler(),\n",
    "    ],\n",
    ")"
   ]
  },
  {
   "cell_type": "code",
   "execution_count": 5,
   "metadata": {},
   "outputs": [
    {
     "name": "stderr",
     "output_type": "stream",
     "text": [
      "2021-02-02 10:19:41,480 [INFO] No files in /datadrive/data/20210129114815\n",
      "2021-02-02 10:19:41,481 [INFO] manual_record finished. elapsed time: 0:00:00.002256\n"
     ]
    },
    {
     "name": "stdout",
     "output_type": "stream",
     "text": [
      "[2021-02-02 10:19:41.479202] manual_record start.\n",
      "manual_record finished. elapsed time: 0:00:00.002256\n"
     ]
    }
   ],
   "source": [
    "# インポートするデータが存在するディレクトリ\n",
    "rawdata_dir_name = \"/datadrive/data/20210129114815\"\n",
    "\n",
    "manual_record(rawdata_dir_name)"
   ]
  },
  {
   "cell_type": "code",
   "execution_count": null,
   "metadata": {},
   "outputs": [],
   "source": []
  }
 ],
 "metadata": {
  "kernelspec": {
   "display_name": "Python 3",
   "language": "python",
   "name": "python3"
  },
  "language_info": {
   "codemirror_mode": {
    "name": "ipython",
    "version": 3
   },
   "file_extension": ".py",
   "mimetype": "text/x-python",
   "name": "python",
   "nbconvert_exporter": "python",
   "pygments_lexer": "ipython3",
   "version": "3.8.3"
  }
 },
 "nbformat": 4,
 "nbformat_minor": 4
}
