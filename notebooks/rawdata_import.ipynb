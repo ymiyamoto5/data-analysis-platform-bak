{
 "cells": [
  {
   "cell_type": "markdown",
   "metadata": {},
   "source": [
    "# 生データ手動インポート\n",
    "\n",
    "生データを手動でインポートします。  \n",
    "rawdata_dir_name にインポートするデータ（.datファイル）が存在するディレクトリを指定してください。  \n",
    "手動インポートを実行すると、dataディレクトリ配下に実行時刻名のディレクトリが生成され、そのディレクトリ配下にインポート済みデータが移動されます。  \n",
    "<font color=\"Red\">※ データ収集中は実行できません</font>"
   ]
  },
  {
   "cell_type": "code",
   "execution_count": 1,
   "metadata": {},
   "outputs": [],
   "source": [
    "import os, sys\n",
    "sys.path.append(os.path.join(os.getcwd(), '../src/'))\n",
    "from data_recorder.data_recorder import *"
   ]
  },
  {
   "cell_type": "code",
   "execution_count": 2,
   "metadata": {},
   "outputs": [],
   "source": [
    "# インポートするデータが存在するディレクトリ\n",
    "rawdata_dir_name = \"/datadrive/data/20210120002716\"\n",
    "\n",
    "manual_record(rawdata_dir_name)"
   ]
  }
 ],
 "metadata": {
  "kernelspec": {
   "display_name": "Python 3",
   "language": "python",
   "name": "python3"
  },
  "language_info": {
   "codemirror_mode": {
    "name": "ipython",
    "version": 3
   },
   "file_extension": ".py",
   "mimetype": "text/x-python",
   "name": "python",
   "nbconvert_exporter": "python",
   "pygments_lexer": "ipython3",
   "version": "3.8.3"
  }
 },
 "nbformat": 4,
 "nbformat_minor": 4
}
