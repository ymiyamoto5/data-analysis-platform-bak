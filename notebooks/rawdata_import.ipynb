{
 "cells": [
  {
   "cell_type": "markdown",
   "metadata": {},
   "source": [
    "  Copyright(c) 2021 UNIADEX, Ltd. All Rights Reserved.  \n",
    "  CONFIDENTIAL  \n",
    "  Author: UNIADEX, Ltd."
   ]
  },
  {
   "cell_type": "markdown",
   "metadata": {},
   "source": [
    "# 生データ手動インポート\n",
    "\n",
    "生データを手動でインポートします。  \n",
    "rawdata_dir_name にインポートするデータが存在するディレクトリ（***yyyyMMddHHMMSS***）を指定します。  \n",
    "データ収集マネージャーで取得したデータのみが手動インポート可能です。  \n",
    "\n",
    "<font color=\"Red\">※ データ収集中は実行できません</font>"
   ]
  },
  {
   "cell_type": "code",
   "execution_count": 2,
   "metadata": {},
   "outputs": [
    {
     "name": "stdout",
     "output_type": "stream",
     "text": [
      "SET log configuration (script path): /home/ymiyamoto5/data-analysis-platform/backend/common/logging.conf\n"
     ]
    }
   ],
   "source": [
    "# ライブラリインポート\n",
    "import os, sys\n",
    "sys.path.append(os.path.join(os.getcwd(), '../'))\n",
    "from backend.data_recorder.data_recorder import DataRecorder\n",
    "from backend.common import common\n",
    "from backend.common.common_logger import logger"
   ]
  },
  {
   "cell_type": "code",
   "execution_count": 5,
   "metadata": {},
   "outputs": [
    {
     "name": "stdout",
     "output_type": "stream",
     "text": [
      "[2021/08/17 14:37:13.272] INFO - event_manager.py#fetch_events:74: Fetch events from events-machine-01-20210327141514.\n",
      "[2021/08/17 14:37:13.430] INFO - elastic_manager.py#delete_exists_index:164: delete index 'rawdata-machine-01-machine-01-20210327141514' finished. result: {'acknowledged': True}\n"
     ]
    },
    {
     "name": "stderr",
     "output_type": "stream",
     "text": [
      "/home/ymiyamoto5/data-analysis-platform/venv/lib/python3.8/site-packages/elasticsearch/connection/base.py:208: ElasticsearchWarning: Elasticsearch built-in security features are not enabled. Without authentication, your cluster could be accessible to anyone. See https://www.elastic.co/guide/en/elasticsearch/reference/7.13/security-minimal-setup.html to enable security.\n",
      "  warnings.warn(message, category=ElasticsearchWarning)\n"
     ]
    },
    {
     "name": "stdout",
     "output_type": "stream",
     "text": [
      "[2021/08/17 14:37:13.823] INFO - elastic_manager.py#create_index:193: create index 'rawdata-machine-01-machine-01-20210327141514' finished. result: {'acknowledged': True, 'shards_acknowledged': True, 'index': 'rawdata-machine-01-machine-01-20210327141514'}\n",
      "[2021/08/17 14:37:15.210] INFO - data_recorder.py#_data_record:234: processed: /mnt/datadrive/data/machine-01-20210327141514/machine-01_GW-01_AD-USB-1608_20210327-062001.118528.dat\n",
      "[2021/08/17 14:37:25.637] INFO - data_recorder.py#_data_record:234: processed: /mnt/datadrive/data/machine-01-20210327141514/machine-01_GW-01_AD-USB-1608_20210327-062002.688044.dat\n",
      "[2021/08/17 14:37:35.592] INFO - data_recorder.py#_data_record:234: processed: /mnt/datadrive/data/machine-01-20210327141514/machine-01_GW-01_AD-USB-1608_20210327-062004.260193.dat\n",
      "[2021/08/17 14:37:45.289] INFO - data_recorder.py#_data_record:234: processed: /mnt/datadrive/data/machine-01-20210327141514/machine-01_GW-01_AD-USB-1608_20210327-062005.830187.dat\n",
      "[2021/08/17 14:37:55.061] INFO - data_recorder.py#_data_record:234: processed: /mnt/datadrive/data/machine-01-20210327141514/machine-01_GW-01_AD-USB-1608_20210327-062007.401705.dat\n",
      "[2021/08/17 14:38:05.186] INFO - data_recorder.py#_data_record:234: processed: /mnt/datadrive/data/machine-01-20210327141514/machine-01_GW-01_AD-USB-1608_20210327-062008.970624.dat\n",
      "[2021/08/17 14:38:18.276] INFO - data_recorder.py#_data_record:234: processed: /mnt/datadrive/data/machine-01-20210327141514/machine-01_GW-01_AD-USB-1608_20210327-062010.542649.dat\n",
      "[2021/08/17 14:38:28.021] INFO - data_recorder.py#_data_record:234: processed: /mnt/datadrive/data/machine-01-20210327141514/machine-01_GW-01_AD-USB-1608_20210327-062012.115568.dat\n",
      "[2021/08/17 14:38:38.096] INFO - data_recorder.py#_data_record:234: processed: /mnt/datadrive/data/machine-01-20210327141514/machine-01_GW-01_AD-USB-1608_20210327-062013.685280.dat\n",
      "[2021/08/17 14:38:48.134] INFO - data_recorder.py#_data_record:234: processed: /mnt/datadrive/data/machine-01-20210327141514/machine-01_GW-01_AD-USB-1608_20210327-062015.258416.dat\n",
      "[2021/08/17 14:38:58.883] INFO - data_recorder.py#_data_record:234: processed: /mnt/datadrive/data/machine-01-20210327141514/machine-01_GW-01_AD-USB-1608_20210327-062016.828376.dat\n",
      "[2021/08/17 14:39:09.051] INFO - data_recorder.py#_data_record:234: processed: /mnt/datadrive/data/machine-01-20210327141514/machine-01_GW-01_AD-USB-1608_20210327-062018.401691.dat\n",
      "[2021/08/17 14:39:19.052] INFO - data_recorder.py#_data_record:234: processed: /mnt/datadrive/data/machine-01-20210327141514/machine-01_GW-01_AD-USB-1608_20210327-062019.974175.dat\n",
      "[2021/08/17 14:39:36.016] INFO - data_recorder.py#_data_record:234: processed: /mnt/datadrive/data/machine-01-20210327141514/machine-01_GW-01_AD-USB-1608_20210327-062021.545709.dat\n",
      "[2021/08/17 14:39:45.033] INFO - data_recorder.py#manual_record:359: manual import finished.\n"
     ]
    }
   ],
   "source": [
    "# 機器IDを指定します。\n",
    "machine_id = \"machine-01\"\n",
    "\n",
    "# インポートするデータが存在するディレクトリを指定してください。\n",
    "rawdata_dir_name = machine_id + \"-\" + \"20210327141514\"\n",
    "\n",
    "data_dir = common.get_config_value(common.APP_CONFIG_PATH, \"data_dir\")\n",
    "target_dir = os.path.join(data_dir, rawdata_dir_name)\n",
    "\n",
    "data_recorder = DataRecorder(machine_id)\n",
    "data_recorder.manual_record(target_dir)"
   ]
  },
  {
   "cell_type": "code",
   "execution_count": null,
   "metadata": {},
   "outputs": [],
   "source": []
  }
 ],
 "metadata": {
  "kernelspec": {
   "display_name": "Python 3 (ipykernel)",
   "language": "python",
   "name": "python3"
  },
  "language_info": {
   "codemirror_mode": {
    "name": "ipython",
    "version": 3
   },
   "file_extension": ".py",
   "mimetype": "text/x-python",
   "name": "python",
   "nbconvert_exporter": "python",
   "pygments_lexer": "ipython3",
   "version": "3.8.10"
  },
  "toc": {
   "base_numbering": 1,
   "nav_menu": {},
   "number_sections": true,
   "sideBar": true,
   "skip_h1_title": false,
   "title_cell": "Table of Contents",
   "title_sidebar": "Contents",
   "toc_cell": false,
   "toc_position": {},
   "toc_section_display": true,
   "toc_window_display": false
  }
 },
 "nbformat": 4,
 "nbformat_minor": 4
}
