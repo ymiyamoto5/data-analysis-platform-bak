{
 "cells": [
  {
   "cell_type": "markdown",
   "metadata": {},
   "source": [
    "  Copyright(c) 2021 UNIADEX, Ltd. All Rights Reserved.  \n",
    "  CONFIDENTIAL  \n",
    "  Author: UNIADEX, Ltd."
   ]
  },
  {
   "cell_type": "markdown",
   "metadata": {},
   "source": [
    "# 分析\n",
    "切り出したショットデータを取得し、分析します。  \n",
    "以下は特定ショットのデータを取得/確認し、特徴点（荷重開始点/最大荷重点/破断点）を抽出、その後全ショットから特徴点を抽出するサンプルコードです。抽出した特徴点はElasticsearchに格納されます。"
   ]
  },
  {
   "cell_type": "code",
   "execution_count": 18,
   "metadata": {},
   "outputs": [],
   "source": [
    "# ライブラリインポート\n",
    "import os, sys\n",
    "sys.path.append(os.path.join(os.getcwd(), '../src/'))\n",
    "from data_reader.data_reader import DataReader\n",
    "from elastic_manager.elastic_manager import ElasticManager\n",
    "sys.path.append(os.path.join(os.getcwd(), '../src/analyze/'))\n",
    "from analyze.h_one_extract_features import *\n",
    "from analyze.analyze import *"
   ]
  },
  {
   "cell_type": "code",
   "execution_count": 19,
   "metadata": {},
   "outputs": [],
   "source": [
    "# ログ設定\n",
    "LOG_FILE = os.path.join(\n",
    "    common.get_config_value(common.APP_CONFIG_PATH, \"log_dir\"), \"analyze/analyze.log\"\n",
    ")\n",
    "\n",
    "logging.basicConfig(\n",
    "    level=logging.INFO,\n",
    "    format=\"%(asctime)s [%(levelname)s] %(message)s\",\n",
    "    handlers=[\n",
    "        logging.handlers.RotatingFileHandler(\n",
    "            LOG_FILE, maxBytes=common.MAX_LOG_SIZE, backupCount=common.BACKUP_COUNT\n",
    "        ),\n",
    "        logging.StreamHandler(),\n",
    "    ],\n",
    ")"
   ]
  },
  {
   "cell_type": "code",
   "execution_count": 41,
   "metadata": {},
   "outputs": [
    {
     "data": {
      "text/html": [
       "<div>\n",
       "<style scoped>\n",
       "    .dataframe tbody tr th:only-of-type {\n",
       "        vertical-align: middle;\n",
       "    }\n",
       "\n",
       "    .dataframe tbody tr th {\n",
       "        vertical-align: top;\n",
       "    }\n",
       "\n",
       "    .dataframe thead th {\n",
       "        text-align: right;\n",
       "    }\n",
       "</style>\n",
       "<table border=\"1\" class=\"dataframe\">\n",
       "  <thead>\n",
       "    <tr style=\"text-align: right;\">\n",
       "      <th></th>\n",
       "      <th>index</th>\n",
       "      <th>docs.count</th>\n",
       "      <th>store.size</th>\n",
       "    </tr>\n",
       "  </thead>\n",
       "  <tbody>\n",
       "    <tr>\n",
       "      <th>0</th>\n",
       "      <td>shots-20201201010000-data</td>\n",
       "      <td>9356061</td>\n",
       "      <td>1178983</td>\n",
       "    </tr>\n",
       "    <tr>\n",
       "      <th>1</th>\n",
       "      <td>shots-20210327141514-data</td>\n",
       "      <td>13586763</td>\n",
       "      <td>1889104</td>\n",
       "    </tr>\n",
       "  </tbody>\n",
       "</table>\n",
       "</div>"
      ],
      "text/plain": [
       "                       index docs.count store.size\n",
       "0  shots-20201201010000-data    9356061    1178983\n",
       "1  shots-20210327141514-data   13586763    1889104"
      ]
     },
     "execution_count": 41,
     "metadata": {},
     "output_type": "execute_result"
    }
   ],
   "source": [
    "# ショットデータインデックス一覧\n",
    "ElasticManager.show_indices(index=\"shots-*-data\")"
   ]
  },
  {
   "cell_type": "code",
   "execution_count": 42,
   "metadata": {},
   "outputs": [],
   "source": [
    "# 対象データ設定\n",
    "#target = \"20201201010000\"\n",
    "target = \"20210327141514\"\n",
    "shots_data_index = \"shots-\" + target + \"-data\"\n",
    "shots_meta_index = \"shots-\" + target + \"-meta\""
   ]
  },
  {
   "cell_type": "markdown",
   "metadata": {},
   "source": [
    "# 1ショットで特徴点抽出"
   ]
  },
  {
   "cell_type": "markdown",
   "metadata": {},
   "source": [
    "## ショット1番を取得して確認"
   ]
  },
  {
   "cell_type": "code",
   "execution_count": 5,
   "metadata": {},
   "outputs": [
    {
     "data": {
      "text/html": [
       "<div>\n",
       "<style scoped>\n",
       "    .dataframe tbody tr th:only-of-type {\n",
       "        vertical-align: middle;\n",
       "    }\n",
       "\n",
       "    .dataframe tbody tr th {\n",
       "        vertical-align: top;\n",
       "    }\n",
       "\n",
       "    .dataframe thead th {\n",
       "        text-align: right;\n",
       "    }\n",
       "</style>\n",
       "<table border=\"1\" class=\"dataframe\">\n",
       "  <thead>\n",
       "    <tr style=\"text-align: right;\">\n",
       "      <th></th>\n",
       "      <th>timestamp</th>\n",
       "      <th>sequential_number</th>\n",
       "      <th>sequential_number_by_shot</th>\n",
       "      <th>rawdata_sequential_number</th>\n",
       "      <th>displacement</th>\n",
       "      <th>load01</th>\n",
       "      <th>load02</th>\n",
       "      <th>load03</th>\n",
       "      <th>load04</th>\n",
       "      <th>shot_number</th>\n",
       "      <th>tags</th>\n",
       "    </tr>\n",
       "  </thead>\n",
       "  <tbody>\n",
       "    <tr>\n",
       "      <th>0</th>\n",
       "      <td>1.616790e+09</td>\n",
       "      <td>0</td>\n",
       "      <td>0</td>\n",
       "      <td>8502517</td>\n",
       "      <td>47.92375</td>\n",
       "      <td>-0.006</td>\n",
       "      <td>-0.006</td>\n",
       "      <td>-0.018</td>\n",
       "      <td>-0.005</td>\n",
       "      <td>1</td>\n",
       "      <td>[]</td>\n",
       "    </tr>\n",
       "    <tr>\n",
       "      <th>1</th>\n",
       "      <td>1.616790e+09</td>\n",
       "      <td>1</td>\n",
       "      <td>1</td>\n",
       "      <td>8502518</td>\n",
       "      <td>47.92375</td>\n",
       "      <td>-0.007</td>\n",
       "      <td>-0.006</td>\n",
       "      <td>-0.018</td>\n",
       "      <td>-0.009</td>\n",
       "      <td>1</td>\n",
       "      <td>[]</td>\n",
       "    </tr>\n",
       "    <tr>\n",
       "      <th>2</th>\n",
       "      <td>1.616790e+09</td>\n",
       "      <td>2</td>\n",
       "      <td>2</td>\n",
       "      <td>8502519</td>\n",
       "      <td>47.92375</td>\n",
       "      <td>-0.006</td>\n",
       "      <td>-0.007</td>\n",
       "      <td>-0.018</td>\n",
       "      <td>-0.008</td>\n",
       "      <td>1</td>\n",
       "      <td>[]</td>\n",
       "    </tr>\n",
       "    <tr>\n",
       "      <th>3</th>\n",
       "      <td>1.616790e+09</td>\n",
       "      <td>3</td>\n",
       "      <td>3</td>\n",
       "      <td>8502520</td>\n",
       "      <td>47.92375</td>\n",
       "      <td>-0.006</td>\n",
       "      <td>-0.008</td>\n",
       "      <td>-0.020</td>\n",
       "      <td>-0.008</td>\n",
       "      <td>1</td>\n",
       "      <td>[]</td>\n",
       "    </tr>\n",
       "    <tr>\n",
       "      <th>4</th>\n",
       "      <td>1.616790e+09</td>\n",
       "      <td>4</td>\n",
       "      <td>4</td>\n",
       "      <td>8502521</td>\n",
       "      <td>47.91500</td>\n",
       "      <td>-0.005</td>\n",
       "      <td>-0.007</td>\n",
       "      <td>-0.019</td>\n",
       "      <td>-0.007</td>\n",
       "      <td>1</td>\n",
       "      <td>[]</td>\n",
       "    </tr>\n",
       "  </tbody>\n",
       "</table>\n",
       "</div>"
      ],
      "text/plain": [
       "      timestamp  sequential_number  sequential_number_by_shot  \\\n",
       "0  1.616790e+09                  0                          0   \n",
       "1  1.616790e+09                  1                          1   \n",
       "2  1.616790e+09                  2                          2   \n",
       "3  1.616790e+09                  3                          3   \n",
       "4  1.616790e+09                  4                          4   \n",
       "\n",
       "   rawdata_sequential_number  displacement  load01  load02  load03  load04  \\\n",
       "0                    8502517      47.92375  -0.006  -0.006  -0.018  -0.005   \n",
       "1                    8502518      47.92375  -0.007  -0.006  -0.018  -0.009   \n",
       "2                    8502519      47.92375  -0.006  -0.007  -0.018  -0.008   \n",
       "3                    8502520      47.92375  -0.006  -0.008  -0.020  -0.008   \n",
       "4                    8502521      47.91500  -0.005  -0.007  -0.019  -0.007   \n",
       "\n",
       "   shot_number tags  \n",
       "0            1   []  \n",
       "1            1   []  \n",
       "2            1   []  \n",
       "3            1   []  \n",
       "4            1   []  "
      ]
     },
     "execution_count": 5,
     "metadata": {},
     "output_type": "execute_result"
    }
   ],
   "source": [
    "dr = DataReader()\n",
    "\n",
    "shot_number = 1\n",
    "shot_df = dr.read_shot(shots_data_index, shot_number=shot_number)\n",
    "shot_df.head()"
   ]
  },
  {
   "cell_type": "code",
   "execution_count": 43,
   "metadata": {
    "scrolled": true
   },
   "outputs": [
    {
     "data": {
      "text/html": [
       "<div>\n",
       "<style scoped>\n",
       "    .dataframe tbody tr th:only-of-type {\n",
       "        vertical-align: middle;\n",
       "    }\n",
       "\n",
       "    .dataframe tbody tr th {\n",
       "        vertical-align: top;\n",
       "    }\n",
       "\n",
       "    .dataframe thead th {\n",
       "        text-align: right;\n",
       "    }\n",
       "</style>\n",
       "<table border=\"1\" class=\"dataframe\">\n",
       "  <thead>\n",
       "    <tr style=\"text-align: right;\">\n",
       "      <th></th>\n",
       "      <th>shot_number</th>\n",
       "      <th>spm</th>\n",
       "      <th>num_of_samples_in_cut_out</th>\n",
       "    </tr>\n",
       "  </thead>\n",
       "  <tbody>\n",
       "    <tr>\n",
       "      <th>0</th>\n",
       "      <td>1</td>\n",
       "      <td>50.847458</td>\n",
       "      <td>109404.0</td>\n",
       "    </tr>\n",
       "    <tr>\n",
       "      <th>1</th>\n",
       "      <td>2</td>\n",
       "      <td>NaN</td>\n",
       "      <td>16564.0</td>\n",
       "    </tr>\n",
       "    <tr>\n",
       "      <th>2</th>\n",
       "      <td>3</td>\n",
       "      <td>28.571429</td>\n",
       "      <td>9877.0</td>\n",
       "    </tr>\n",
       "    <tr>\n",
       "      <th>3</th>\n",
       "      <td>4</td>\n",
       "      <td>32.608696</td>\n",
       "      <td>8640.0</td>\n",
       "    </tr>\n",
       "    <tr>\n",
       "      <th>4</th>\n",
       "      <td>5</td>\n",
       "      <td>35.928144</td>\n",
       "      <td>7798.0</td>\n",
       "    </tr>\n",
       "  </tbody>\n",
       "</table>\n",
       "</div>"
      ],
      "text/plain": [
       "   shot_number        spm  num_of_samples_in_cut_out\n",
       "0            1  50.847458                   109404.0\n",
       "1            2        NaN                    16564.0\n",
       "2            3  28.571429                     9877.0\n",
       "3            4  32.608696                     8640.0\n",
       "4            5  35.928144                     7798.0"
      ]
     },
     "execution_count": 43,
     "metadata": {},
     "output_type": "execute_result"
    }
   ],
   "source": [
    "# ショットメタデータを確認\n",
    "shots_meta_df = dr.read_shots_meta(shots_meta_index)\n",
    "shots_meta_df.head()"
   ]
  },
  {
   "cell_type": "code",
   "execution_count": 44,
   "metadata": {},
   "outputs": [
    {
     "name": "stdout",
     "output_type": "stream",
     "text": [
      "ショット数：3260\n"
     ]
    }
   ],
   "source": [
    "# ショットの数を確認\n",
    "print(f\"ショット数：{len(shots_meta_df)}\")"
   ]
  },
  {
   "cell_type": "code",
   "execution_count": 38,
   "metadata": {},
   "outputs": [
    {
     "data": {
      "text/html": [
       "<div>\n",
       "<style scoped>\n",
       "    .dataframe tbody tr th:only-of-type {\n",
       "        vertical-align: middle;\n",
       "    }\n",
       "\n",
       "    .dataframe tbody tr th {\n",
       "        vertical-align: top;\n",
       "    }\n",
       "\n",
       "    .dataframe thead th {\n",
       "        text-align: right;\n",
       "    }\n",
       "</style>\n",
       "<table border=\"1\" class=\"dataframe\">\n",
       "  <thead>\n",
       "    <tr style=\"text-align: right;\">\n",
       "      <th></th>\n",
       "      <th>shot_number</th>\n",
       "      <th>spm</th>\n",
       "      <th>num_of_samples_in_cut_out</th>\n",
       "    </tr>\n",
       "  </thead>\n",
       "  <tbody>\n",
       "    <tr>\n",
       "      <th>981</th>\n",
       "      <td>982</td>\n",
       "      <td>400.000000</td>\n",
       "      <td>3878.0</td>\n",
       "    </tr>\n",
       "    <tr>\n",
       "      <th>1366</th>\n",
       "      <td>1368</td>\n",
       "      <td>400.000000</td>\n",
       "      <td>3866.0</td>\n",
       "    </tr>\n",
       "    <tr>\n",
       "      <th>1377</th>\n",
       "      <td>1380</td>\n",
       "      <td>461.538462</td>\n",
       "      <td>3896.0</td>\n",
       "    </tr>\n",
       "    <tr>\n",
       "      <th>2889</th>\n",
       "      <td>2893</td>\n",
       "      <td>428.571429</td>\n",
       "      <td>3840.0</td>\n",
       "    </tr>\n",
       "  </tbody>\n",
       "</table>\n",
       "</div>"
      ],
      "text/plain": [
       "      shot_number         spm  num_of_samples_in_cut_out\n",
       "981           982  400.000000                     3878.0\n",
       "1366         1368  400.000000                     3866.0\n",
       "1377         1380  461.538462                     3896.0\n",
       "2889         2893  428.571429                     3840.0"
      ]
     },
     "execution_count": 38,
     "metadata": {},
     "output_type": "execute_result"
    }
   ],
   "source": [
    "pd.set_option('display.max_rows', 3300)\n",
    "shots_meta_df[shots_meta_df.spm > 80]"
   ]
  },
  {
   "cell_type": "code",
   "execution_count": 46,
   "metadata": {},
   "outputs": [
    {
     "data": {
      "image/png": "[encoded data removed]",
      "text/plain": [
       "<Figure size 432x288 with 1 Axes>"
      ]
     },
     "metadata": {
      "needs_background": "light"
     },
     "output_type": "display_data"
    },
    {
     "data": {
      "image/png": "[encoded data removed]",
      "text/plain": [
       "<Figure size 432x288 with 1 Axes>"
      ]
     },
     "metadata": {
      "needs_background": "light"
     },
     "output_type": "display_data"
    },
    {
     "data": {
      "image/png": "[encoded data removed]",
      "text/plain": [
       "<Figure size 432x288 with 1 Axes>"
      ]
     },
     "metadata": {
      "needs_background": "light"
     },
     "output_type": "display_data"
    },
    {
     "data": {
      "image/png": "[encoded data removed]",
      "text/plain": [
       "<Figure size 432x288 with 1 Axes>"
      ]
     },
     "metadata": {
      "needs_background": "light"
     },
     "output_type": "display_data"
    },
    {
     "data": {
      "image/png": "[encoded data removed]",
      "text/plain": [
       "<Figure size 432x288 with 1 Axes>"
      ]
     },
     "metadata": {
      "needs_background": "light"
     },
     "output_type": "display_data"
    },
    {
     "data": {
      "image/png": "[encoded data removed]",
      "text/plain": [
       "<Figure size 432x288 with 1 Axes>"
      ]
     },
     "metadata": {
      "needs_background": "light"
     },
     "output_type": "display_data"
    },
    {
     "data": {
      "image/png": "[encoded data removed]",
      "text/plain": [
       "<Figure size 432x288 with 1 Axes>"
      ]
     },
     "metadata": {
      "needs_background": "light"
     },
     "output_type": "display_data"
    },
    {
     "data": {
      "image/png": "[encoded data removed]",
      "text/plain": [
       "<Figure size 432x288 with 1 Axes>"
      ]
     },
     "metadata": {
      "needs_background": "light"
     },
     "output_type": "display_data"
    },
    {
     "data": {
      "image/png": "[encoded data removed]",
      "text/plain": [
       "<Figure size 432x288 with 1 Axes>"
      ]
     },
     "metadata": {
      "needs_background": "light"
     },
     "output_type": "display_data"
    },
    {
     "data": {
      "image/png": "[encoded data removed]",
      "text/plain": [
       "<Figure size 432x288 with 1 Axes>"
      ]
     },
     "metadata": {
      "needs_background": "light"
     },
     "output_type": "display_data"
    },
    {
     "data": {
      "image/png": "[encoded data removed]",
      "text/plain": [
       "<Figure size 432x288 with 1 Axes>"
      ]
     },
     "metadata": {
      "needs_background": "light"
     },
     "output_type": "display_data"
    }
   ],
   "source": [
    "#import matplotlib\n",
    "#matplotlib.use('Agg')\n",
    "import matplotlib.pyplot as plt\n",
    "\n",
    "step = 300\n",
    "for i in range(0, 3300, step):\n",
    "    x = shots_meta_df.shot_number[i:i+step]\n",
    "    y = shots_meta_df.spm[i:i+step]\n",
    "    plt.xlabel(\"shot_number\")\n",
    "    plt.ylabel(\"spm\")\n",
    "#    fig = plt.figure()\n",
    "    plt.plot(x, y)\n",
    "    plt.show()\n",
    "#    plt.savefig(f\"shots-{i}-{i+step}\")"
   ]
  },
  {
   "cell_type": "code",
   "execution_count": 10,
   "metadata": {},
   "outputs": [
    {
     "name": "stdout",
     "output_type": "stream",
     "text": [
      "spm：0    50.847458\n",
      "Name: spm, dtype: float64\n"
     ]
    }
   ],
   "source": [
    "# spm\n",
    "spm = shots_meta_df[shots_meta_df.shot_number == 1].spm\n",
    "print(f\"spm：{spm}\")"
   ]
  },
  {
   "cell_type": "markdown",
   "metadata": {},
   "source": [
    "## 特徴点抽出\n",
    "1ショットから最大荷重点、荷重開始点、破断点を取得します。  \n",
    "\n",
    "***shot_data***: 対象ショットデータ  \n",
    "***spm***: spm  \n",
    "***func***：適用するロジック  \n",
    "***sub_func***：サブロジック  \n",
    "***disp_chart***: グラフ表示"
   ]
  },
  {
   "cell_type": "code",
   "execution_count": 11,
   "metadata": {},
   "outputs": [
    {
     "data": {
      "image/png": "[encoded data removed]",
      "text/plain": [
       "<Figure size 864x432 with 1 Axes>"
      ]
     },
     "metadata": {
      "needs_background": "light"
     },
     "output_type": "display_data"
    },
    {
     "name": "stderr",
     "output_type": "stream",
     "text": [
      "2021-04-01 09:40:06,722 [INFO] NumExpr defaulting to 8 threads.\n"
     ]
    },
    {
     "data": {
      "image/png": "[encoded data removed]",
      "text/plain": [
       "<Figure size 864x432 with 1 Axes>"
      ]
     },
     "metadata": {
      "needs_background": "light"
     },
     "output_type": "display_data"
    },
    {
     "data": {
      "image/png": "[encoded data removed]",
      "text/plain": [
       "<Figure size 864x432 with 1 Axes>"
      ]
     },
     "metadata": {
      "needs_background": "light"
     },
     "output_type": "display_data"
    }
   ],
   "source": [
    "# 最初のショットの最大荷重点、荷重開始点、破断点を確認\n",
    "max_load_indicies, max_load_values, debug_values = extract_features(shot_data=shot_df, spm=spm, func=max_load, shot=shot_number, disp_chart=True)\n",
    "load_start_indicies, load_start_values, debug_values = extract_features(shot_df, spm, load_start2, shot=shot_number, disp_chart=True)\n",
    "break_load_indicies, break_load_values, debug_values = extract_features(shot_df, spm, breaking_varmax29, sub_func=narrowing_var_ch,shot=shot_number, disp_chart=True)"
   ]
  },
  {
   "cell_type": "code",
   "execution_count": 49,
   "metadata": {},
   "outputs": [
    {
     "name": "stdout",
     "output_type": "stream",
     "text": [
      "【最大荷重点】\n",
      " indicies：[5703, 5643, 6266, 4948], values：[0.28306646136026586, 0.12727712401581162, 0.33582927977411464, 0.15546436842009945]\n",
      "【荷重開始点】\n",
      " indicies：[2264, 2641, 2465, 1963], values：[-0.011353383458646454, -0.0013057644110275272, -0.009952380952380904, -0.009095238095238063]\n",
      "【破断点】　　\n",
      " indicies：[3438, 3437, 3436, 3439], values：[0.18399999999999986, 0.02600000000000007, 0.15500000000000008, 0.07200000000000001]\n"
     ]
    }
   ],
   "source": [
    "# 各特徴点のインデックス番号と値を確認\n",
    "print(f\"【最大荷重点】\\n indicies：{max_load_indicies}, values：{max_load_values}\")\n",
    "print(f\"【荷重開始点】\\n indicies：{load_start_indicies}, values：{load_start_values}\")\n",
    "print(f\"【破断点】　　\\n indicies：{break_load_indicies}, values：{break_load_values}\")"
   ]
  },
  {
   "cell_type": "markdown",
   "metadata": {},
   "source": [
    "# 全ショットにロジック適用"
   ]
  },
  {
   "cell_type": "markdown",
   "metadata": {},
   "source": [
    "## データ読み込み\n",
    "指定したインデックスの全ショットデータを読み込みます。これには時間がかかります。  \n",
    "時間目安：10,000,000件読み込みで約3分"
   ]
  },
  {
   "cell_type": "code",
   "execution_count": 47,
   "metadata": {},
   "outputs": [],
   "source": [
    "# 対象指定\n",
    "shots_data_index = \"shots-\" + target + \"-data\"\n",
    "shots_meta_index = \"shots-\" + target + \"-meta\""
   ]
  },
  {
   "cell_type": "code",
   "execution_count": 48,
   "metadata": {},
   "outputs": [
    {
     "name": "stderr",
     "output_type": "stream",
     "text": [
      "2021-04-02 11:00:12,070 [INFO] データを全件取得します。データ件数が多い場合、長時間かかる場合があります。\n",
      "2021-04-02 11:00:12,077 [INFO] データ件数: 13586763\n",
      "2021-04-02 11:00:12,077 [INFO] Data read start. data_count: 13586763.\n",
      "2021-04-02 11:10:49,006 [WARNING] POST http://localhost:9200/_search/scroll [status:404 request:389.564s]\n",
      "Process Process-45:\n",
      "Traceback (most recent call last):\n",
      "  File \"/home/ymiyamoto5/anaconda3/lib/python3.8/multiprocessing/process.py\", line 315, in _bootstrap\n",
      "    self.run()\n",
      "  File \"/home/ymiyamoto5/anaconda3/lib/python3.8/multiprocessing/process.py\", line 108, in run\n",
      "    self._target(*self._args, **self._kwargs)\n",
      "  File \"/home/ymiyamoto5/h-one-experimental-system/notebooks/../src/elastic_manager/elastic_manager.py\", line 335, in range_scan\n",
      "    data: List[dict] = [x[\"_source\"] for x in data_gen]\n",
      "  File \"/home/ymiyamoto5/h-one-experimental-system/notebooks/../src/elastic_manager/elastic_manager.py\", line 335, in <listcomp>\n",
      "    data: List[dict] = [x[\"_source\"] for x in data_gen]\n",
      "  File \"/home/ymiyamoto5/anaconda3/lib/python3.8/site-packages/elasticsearch/helpers/actions.py\", line 554, in scan\n",
      "    resp = client.scroll(\n",
      "  File \"/home/ymiyamoto5/anaconda3/lib/python3.8/site-packages/elasticsearch/client/utils.py\", line 152, in _wrapped\n",
      "    return func(*args, params=params, headers=headers, **kwargs)\n",
      "  File \"/home/ymiyamoto5/anaconda3/lib/python3.8/site-packages/elasticsearch/client/__init__.py\", line 1504, in scroll\n",
      "    return self.transport.perform_request(\n",
      "  File \"/home/ymiyamoto5/anaconda3/lib/python3.8/site-packages/elasticsearch/transport.py\", line 392, in perform_request\n",
      "    raise e\n",
      "  File \"/home/ymiyamoto5/anaconda3/lib/python3.8/site-packages/elasticsearch/transport.py\", line 358, in perform_request\n",
      "    status, headers_response, data = connection.perform_request(\n",
      "  File \"/home/ymiyamoto5/anaconda3/lib/python3.8/site-packages/elasticsearch/connection/http_urllib3.py\", line 269, in perform_request\n",
      "    self._raise_error(response.status, raw_data)\n",
      "  File \"/home/ymiyamoto5/anaconda3/lib/python3.8/site-packages/elasticsearch/connection/base.py\", line 312, in _raise_error\n",
      "    raise HTTP_EXCEPTIONS.get(status_code, TransportError)(\n",
      "elasticsearch.exceptions.NotFoundError: NotFoundError(404, 'search_phase_execution_exception', 'No search context found for id [2786699]')\n",
      "2021-04-02 11:10:50,454 [WARNING] POST http://localhost:9200/_search/scroll [status:404 request:2.210s]\n",
      "Process Process-50:\n",
      "Traceback (most recent call last):\n",
      "  File \"/home/ymiyamoto5/anaconda3/lib/python3.8/multiprocessing/process.py\", line 315, in _bootstrap\n",
      "    self.run()\n",
      "  File \"/home/ymiyamoto5/anaconda3/lib/python3.8/multiprocessing/process.py\", line 108, in run\n",
      "    self._target(*self._args, **self._kwargs)\n",
      "  File \"/home/ymiyamoto5/h-one-experimental-system/notebooks/../src/elastic_manager/elastic_manager.py\", line 335, in range_scan\n",
      "    data: List[dict] = [x[\"_source\"] for x in data_gen]\n",
      "  File \"/home/ymiyamoto5/h-one-experimental-system/notebooks/../src/elastic_manager/elastic_manager.py\", line 335, in <listcomp>\n",
      "    data: List[dict] = [x[\"_source\"] for x in data_gen]\n",
      "  File \"/home/ymiyamoto5/anaconda3/lib/python3.8/site-packages/elasticsearch/helpers/actions.py\", line 554, in scan\n",
      "    resp = client.scroll(\n",
      "  File \"/home/ymiyamoto5/anaconda3/lib/python3.8/site-packages/elasticsearch/client/utils.py\", line 152, in _wrapped\n",
      "    return func(*args, params=params, headers=headers, **kwargs)\n",
      "  File \"/home/ymiyamoto5/anaconda3/lib/python3.8/site-packages/elasticsearch/client/__init__.py\", line 1504, in scroll\n",
      "    return self.transport.perform_request(\n",
      "  File \"/home/ymiyamoto5/anaconda3/lib/python3.8/site-packages/elasticsearch/transport.py\", line 392, in perform_request\n",
      "    raise e\n",
      "  File \"/home/ymiyamoto5/anaconda3/lib/python3.8/site-packages/elasticsearch/transport.py\", line 358, in perform_request\n",
      "    status, headers_response, data = connection.perform_request(\n",
      "  File \"/home/ymiyamoto5/anaconda3/lib/python3.8/site-packages/elasticsearch/connection/http_urllib3.py\", line 269, in perform_request\n",
      "    self._raise_error(response.status, raw_data)\n",
      "  File \"/home/ymiyamoto5/anaconda3/lib/python3.8/site-packages/elasticsearch/connection/base.py\", line 312, in _raise_error\n",
      "    raise HTTP_EXCEPTIONS.get(status_code, TransportError)(\n",
      "elasticsearch.exceptions.NotFoundError: NotFoundError(404, 'search_phase_execution_exception', 'No search context found for id [2786708]')\n",
      "Process Process-49:\n",
      "Process Process-46:\n",
      "Process Process-48:\n",
      "Traceback (most recent call last):\n",
      "Traceback (most recent call last):\n",
      "Traceback (most recent call last):\n",
      "  File \"/home/ymiyamoto5/anaconda3/lib/python3.8/multiprocessing/process.py\", line 315, in _bootstrap\n",
      "    self.run()\n",
      "  File \"/home/ymiyamoto5/anaconda3/lib/python3.8/multiprocessing/process.py\", line 315, in _bootstrap\n",
      "    self.run()\n",
      "  File \"/home/ymiyamoto5/anaconda3/lib/python3.8/multiprocessing/process.py\", line 315, in _bootstrap\n",
      "    self.run()\n",
      "  File \"/home/ymiyamoto5/anaconda3/lib/python3.8/multiprocessing/process.py\", line 108, in run\n",
      "    self._target(*self._args, **self._kwargs)\n",
      "  File \"/home/ymiyamoto5/anaconda3/lib/python3.8/multiprocessing/process.py\", line 108, in run\n",
      "    self._target(*self._args, **self._kwargs)\n",
      "  File \"/home/ymiyamoto5/h-one-experimental-system/notebooks/../src/elastic_manager/elastic_manager.py\", line 337, in range_scan\n",
      "    return_dict[proc_num] = data\n",
      "  File \"/home/ymiyamoto5/h-one-experimental-system/notebooks/../src/elastic_manager/elastic_manager.py\", line 337, in range_scan\n",
      "    return_dict[proc_num] = data\n",
      "  File \"<string>\", line 2, in __setitem__\n",
      "  File \"<string>\", line 2, in __setitem__\n",
      "  File \"/home/ymiyamoto5/anaconda3/lib/python3.8/multiprocessing/managers.py\", line 834, in _callmethod\n",
      "    conn.send((self._id, methodname, args, kwds))\n",
      "  File \"/home/ymiyamoto5/anaconda3/lib/python3.8/multiprocessing/managers.py\", line 835, in _callmethod\n",
      "    kind, result = conn.recv()\n",
      "  File \"/home/ymiyamoto5/anaconda3/lib/python3.8/multiprocessing/connection.py\", line 250, in recv\n",
      "    buf = self._recv_bytes()\n",
      "  File \"/home/ymiyamoto5/anaconda3/lib/python3.8/multiprocessing/connection.py\", line 206, in send\n",
      "    self._send_bytes(_ForkingPickler.dumps(obj))\n",
      "  File \"/home/ymiyamoto5/anaconda3/lib/python3.8/multiprocessing/connection.py\", line 405, in _send_bytes\n",
      "    self._send(buf)\n",
      "  File \"/home/ymiyamoto5/anaconda3/lib/python3.8/multiprocessing/connection.py\", line 414, in _recv_bytes\n",
      "    buf = self._recv(4)\n",
      "  File \"/home/ymiyamoto5/anaconda3/lib/python3.8/multiprocessing/connection.py\", line 368, in _send\n",
      "    n = write(self._handle, buf)\n",
      "  File \"/home/ymiyamoto5/anaconda3/lib/python3.8/multiprocessing/connection.py\", line 383, in _recv\n",
      "    raise EOFError\n",
      "BrokenPipeError: [Errno 32] Broken pipe\n",
      "EOFError\n",
      "  File \"/home/ymiyamoto5/anaconda3/lib/python3.8/multiprocessing/process.py\", line 108, in run\n",
      "    self._target(*self._args, **self._kwargs)\n",
      "  File \"/home/ymiyamoto5/h-one-experimental-system/notebooks/../src/elastic_manager/elastic_manager.py\", line 337, in range_scan\n",
      "    return_dict[proc_num] = data\n",
      "  File \"<string>\", line 2, in __setitem__\n",
      "  File \"/home/ymiyamoto5/anaconda3/lib/python3.8/multiprocessing/managers.py\", line 834, in _callmethod\n",
      "    conn.send((self._id, methodname, args, kwds))\n",
      "  File \"/home/ymiyamoto5/anaconda3/lib/python3.8/multiprocessing/connection.py\", line 206, in send\n",
      "    self._send_bytes(_ForkingPickler.dumps(obj))\n",
      "  File \"/home/ymiyamoto5/anaconda3/lib/python3.8/multiprocessing/connection.py\", line 405, in _send_bytes\n",
      "    self._send(buf)\n",
      "  File \"/home/ymiyamoto5/anaconda3/lib/python3.8/multiprocessing/connection.py\", line 368, in _send\n",
      "    n = write(self._handle, buf)\n",
      "BrokenPipeError: [Errno 32] Broken pipe\n"
     ]
    },
    {
     "ename": "ConnectionRefusedError",
     "evalue": "[Errno 111] Connection refused",
     "output_type": "error",
     "traceback": [
      "\u001b[0;31m---------------------------------------------------------------------------\u001b[0m",
      "\u001b[0;31mAttributeError\u001b[0m                            Traceback (most recent call last)",
      "\u001b[0;32m~/anaconda3/lib/python3.8/multiprocessing/managers.py\u001b[0m in \u001b[0;36m_callmethod\u001b[0;34m(self, methodname, args, kwds)\u001b[0m\n\u001b[1;32m    826\u001b[0m         \u001b[0;32mtry\u001b[0m\u001b[0;34m:\u001b[0m\u001b[0;34m\u001b[0m\u001b[0;34m\u001b[0m\u001b[0m\n\u001b[0;32m--> 827\u001b[0;31m             \u001b[0mconn\u001b[0m \u001b[0;34m=\u001b[0m \u001b[0mself\u001b[0m\u001b[0;34m.\u001b[0m\u001b[0m_tls\u001b[0m\u001b[0;34m.\u001b[0m\u001b[0mconnection\u001b[0m\u001b[0;34m\u001b[0m\u001b[0;34m\u001b[0m\u001b[0m\n\u001b[0m\u001b[1;32m    828\u001b[0m         \u001b[0;32mexcept\u001b[0m \u001b[0mAttributeError\u001b[0m\u001b[0;34m:\u001b[0m\u001b[0;34m\u001b[0m\u001b[0;34m\u001b[0m\u001b[0m\n",
      "\u001b[0;31mAttributeError\u001b[0m: 'ForkAwareLocal' object has no attribute 'connection'",
      "\nDuring handling of the above exception, another exception occurred:\n",
      "\u001b[0;31mConnectionRefusedError\u001b[0m                    Traceback (most recent call last)",
      "\u001b[0;32m<timed exec>\u001b[0m in \u001b[0;36m<module>\u001b[0;34m\u001b[0m\n",
      "\u001b[0;32m~/h-one-experimental-system/notebooks/../src/data_reader/data_reader.py\u001b[0m in \u001b[0;36mmulti_process_read_all\u001b[0;34m(self, index)\u001b[0m\n\u001b[1;32m     62\u001b[0m         \u001b[0mlogger\u001b[0m\u001b[0;34m.\u001b[0m\u001b[0minfo\u001b[0m\u001b[0;34m(\u001b[0m\u001b[0;34mf\"データ件数: {num_of_data}\"\u001b[0m\u001b[0;34m)\u001b[0m\u001b[0;34m\u001b[0m\u001b[0;34m\u001b[0m\u001b[0m\n\u001b[1;32m     63\u001b[0m \u001b[0;34m\u001b[0m\u001b[0m\n\u001b[0;32m---> 64\u001b[0;31m         result: List[dict] = ElasticManager.multi_process_range_scan(\n\u001b[0m\u001b[1;32m     65\u001b[0m             \u001b[0mindex\u001b[0m\u001b[0;34m=\u001b[0m\u001b[0mindex\u001b[0m\u001b[0;34m,\u001b[0m \u001b[0mnum_of_data\u001b[0m\u001b[0;34m=\u001b[0m\u001b[0mnum_of_data\u001b[0m\u001b[0;34m,\u001b[0m \u001b[0mnum_of_process\u001b[0m\u001b[0;34m=\u001b[0m\u001b[0mcommon\u001b[0m\u001b[0;34m.\u001b[0m\u001b[0mNUM_OF_PROCESS\u001b[0m\u001b[0;34m\u001b[0m\u001b[0;34m\u001b[0m\u001b[0m\n\u001b[1;32m     66\u001b[0m         )\n",
      "\u001b[0;32m~/h-one-experimental-system/notebooks/../src/elastic_manager/elastic_manager.py\u001b[0m in \u001b[0;36mmulti_process_range_scan\u001b[0;34m(cls, index, num_of_data, num_of_process)\u001b[0m\n\u001b[1;32m    313\u001b[0m         \u001b[0mresult\u001b[0m \u001b[0;34m=\u001b[0m \u001b[0;34m[\u001b[0m\u001b[0;34m]\u001b[0m\u001b[0;34m\u001b[0m\u001b[0;34m\u001b[0m\u001b[0m\n\u001b[1;32m    314\u001b[0m         \u001b[0;32mfor\u001b[0m \u001b[0mproc\u001b[0m \u001b[0;32min\u001b[0m \u001b[0mrange\u001b[0m\u001b[0;34m(\u001b[0m\u001b[0mnum_of_process\u001b[0m\u001b[0;34m)\u001b[0m\u001b[0;34m:\u001b[0m\u001b[0;34m\u001b[0m\u001b[0;34m\u001b[0m\u001b[0m\n\u001b[0;32m--> 315\u001b[0;31m             \u001b[0;32mfor\u001b[0m \u001b[0mdata\u001b[0m \u001b[0;32min\u001b[0m \u001b[0mreturn_dict\u001b[0m\u001b[0;34m[\u001b[0m\u001b[0mproc\u001b[0m\u001b[0;34m]\u001b[0m\u001b[0;34m:\u001b[0m\u001b[0;34m\u001b[0m\u001b[0;34m\u001b[0m\u001b[0m\n\u001b[0m\u001b[1;32m    316\u001b[0m                 \u001b[0mresult\u001b[0m\u001b[0;34m.\u001b[0m\u001b[0mappend\u001b[0m\u001b[0;34m(\u001b[0m\u001b[0mdata\u001b[0m\u001b[0;34m)\u001b[0m\u001b[0;34m\u001b[0m\u001b[0;34m\u001b[0m\u001b[0m\n\u001b[1;32m    317\u001b[0m \u001b[0;34m\u001b[0m\u001b[0m\n",
      "\u001b[0;32m<string>\u001b[0m in \u001b[0;36m__getitem__\u001b[0;34m(self, *args, **kwds)\u001b[0m\n",
      "\u001b[0;32m~/anaconda3/lib/python3.8/multiprocessing/managers.py\u001b[0m in \u001b[0;36m_callmethod\u001b[0;34m(self, methodname, args, kwds)\u001b[0m\n\u001b[1;32m    829\u001b[0m             util.debug('thread %r does not own a connection',\n\u001b[1;32m    830\u001b[0m                        threading.current_thread().name)\n\u001b[0;32m--> 831\u001b[0;31m             \u001b[0mself\u001b[0m\u001b[0;34m.\u001b[0m\u001b[0m_connect\u001b[0m\u001b[0;34m(\u001b[0m\u001b[0;34m)\u001b[0m\u001b[0;34m\u001b[0m\u001b[0;34m\u001b[0m\u001b[0m\n\u001b[0m\u001b[1;32m    832\u001b[0m             \u001b[0mconn\u001b[0m \u001b[0;34m=\u001b[0m \u001b[0mself\u001b[0m\u001b[0;34m.\u001b[0m\u001b[0m_tls\u001b[0m\u001b[0;34m.\u001b[0m\u001b[0mconnection\u001b[0m\u001b[0;34m\u001b[0m\u001b[0;34m\u001b[0m\u001b[0m\n\u001b[1;32m    833\u001b[0m \u001b[0;34m\u001b[0m\u001b[0m\n",
      "\u001b[0;32m~/anaconda3/lib/python3.8/multiprocessing/managers.py\u001b[0m in \u001b[0;36m_connect\u001b[0;34m(self)\u001b[0m\n\u001b[1;32m    816\u001b[0m         \u001b[0;32mif\u001b[0m \u001b[0mthreading\u001b[0m\u001b[0;34m.\u001b[0m\u001b[0mcurrent_thread\u001b[0m\u001b[0;34m(\u001b[0m\u001b[0;34m)\u001b[0m\u001b[0;34m.\u001b[0m\u001b[0mname\u001b[0m \u001b[0;34m!=\u001b[0m \u001b[0;34m'MainThread'\u001b[0m\u001b[0;34m:\u001b[0m\u001b[0;34m\u001b[0m\u001b[0;34m\u001b[0m\u001b[0m\n\u001b[1;32m    817\u001b[0m             \u001b[0mname\u001b[0m \u001b[0;34m+=\u001b[0m \u001b[0;34m'|'\u001b[0m \u001b[0;34m+\u001b[0m \u001b[0mthreading\u001b[0m\u001b[0;34m.\u001b[0m\u001b[0mcurrent_thread\u001b[0m\u001b[0;34m(\u001b[0m\u001b[0;34m)\u001b[0m\u001b[0;34m.\u001b[0m\u001b[0mname\u001b[0m\u001b[0;34m\u001b[0m\u001b[0;34m\u001b[0m\u001b[0m\n\u001b[0;32m--> 818\u001b[0;31m         \u001b[0mconn\u001b[0m \u001b[0;34m=\u001b[0m \u001b[0mself\u001b[0m\u001b[0;34m.\u001b[0m\u001b[0m_Client\u001b[0m\u001b[0;34m(\u001b[0m\u001b[0mself\u001b[0m\u001b[0;34m.\u001b[0m\u001b[0m_token\u001b[0m\u001b[0;34m.\u001b[0m\u001b[0maddress\u001b[0m\u001b[0;34m,\u001b[0m \u001b[0mauthkey\u001b[0m\u001b[0;34m=\u001b[0m\u001b[0mself\u001b[0m\u001b[0;34m.\u001b[0m\u001b[0m_authkey\u001b[0m\u001b[0;34m)\u001b[0m\u001b[0;34m\u001b[0m\u001b[0;34m\u001b[0m\u001b[0m\n\u001b[0m\u001b[1;32m    819\u001b[0m         \u001b[0mdispatch\u001b[0m\u001b[0;34m(\u001b[0m\u001b[0mconn\u001b[0m\u001b[0;34m,\u001b[0m \u001b[0;32mNone\u001b[0m\u001b[0;34m,\u001b[0m \u001b[0;34m'accept_connection'\u001b[0m\u001b[0;34m,\u001b[0m \u001b[0;34m(\u001b[0m\u001b[0mname\u001b[0m\u001b[0;34m,\u001b[0m\u001b[0;34m)\u001b[0m\u001b[0;34m)\u001b[0m\u001b[0;34m\u001b[0m\u001b[0;34m\u001b[0m\u001b[0m\n\u001b[1;32m    820\u001b[0m         \u001b[0mself\u001b[0m\u001b[0;34m.\u001b[0m\u001b[0m_tls\u001b[0m\u001b[0;34m.\u001b[0m\u001b[0mconnection\u001b[0m \u001b[0;34m=\u001b[0m \u001b[0mconn\u001b[0m\u001b[0;34m\u001b[0m\u001b[0;34m\u001b[0m\u001b[0m\n",
      "\u001b[0;32m~/anaconda3/lib/python3.8/multiprocessing/connection.py\u001b[0m in \u001b[0;36mClient\u001b[0;34m(address, family, authkey)\u001b[0m\n\u001b[1;32m    500\u001b[0m         \u001b[0mc\u001b[0m \u001b[0;34m=\u001b[0m \u001b[0mPipeClient\u001b[0m\u001b[0;34m(\u001b[0m\u001b[0maddress\u001b[0m\u001b[0;34m)\u001b[0m\u001b[0;34m\u001b[0m\u001b[0;34m\u001b[0m\u001b[0m\n\u001b[1;32m    501\u001b[0m     \u001b[0;32melse\u001b[0m\u001b[0;34m:\u001b[0m\u001b[0;34m\u001b[0m\u001b[0;34m\u001b[0m\u001b[0m\n\u001b[0;32m--> 502\u001b[0;31m         \u001b[0mc\u001b[0m \u001b[0;34m=\u001b[0m \u001b[0mSocketClient\u001b[0m\u001b[0;34m(\u001b[0m\u001b[0maddress\u001b[0m\u001b[0;34m)\u001b[0m\u001b[0;34m\u001b[0m\u001b[0;34m\u001b[0m\u001b[0m\n\u001b[0m\u001b[1;32m    503\u001b[0m \u001b[0;34m\u001b[0m\u001b[0m\n\u001b[1;32m    504\u001b[0m     \u001b[0;32mif\u001b[0m \u001b[0mauthkey\u001b[0m \u001b[0;32mis\u001b[0m \u001b[0;32mnot\u001b[0m \u001b[0;32mNone\u001b[0m \u001b[0;32mand\u001b[0m \u001b[0;32mnot\u001b[0m \u001b[0misinstance\u001b[0m\u001b[0;34m(\u001b[0m\u001b[0mauthkey\u001b[0m\u001b[0;34m,\u001b[0m \u001b[0mbytes\u001b[0m\u001b[0;34m)\u001b[0m\u001b[0;34m:\u001b[0m\u001b[0;34m\u001b[0m\u001b[0;34m\u001b[0m\u001b[0m\n",
      "\u001b[0;32m~/anaconda3/lib/python3.8/multiprocessing/connection.py\u001b[0m in \u001b[0;36mSocketClient\u001b[0;34m(address)\u001b[0m\n\u001b[1;32m    628\u001b[0m     \u001b[0;32mwith\u001b[0m \u001b[0msocket\u001b[0m\u001b[0;34m.\u001b[0m\u001b[0msocket\u001b[0m\u001b[0;34m(\u001b[0m \u001b[0mgetattr\u001b[0m\u001b[0;34m(\u001b[0m\u001b[0msocket\u001b[0m\u001b[0;34m,\u001b[0m \u001b[0mfamily\u001b[0m\u001b[0;34m)\u001b[0m \u001b[0;34m)\u001b[0m \u001b[0;32mas\u001b[0m \u001b[0ms\u001b[0m\u001b[0;34m:\u001b[0m\u001b[0;34m\u001b[0m\u001b[0;34m\u001b[0m\u001b[0m\n\u001b[1;32m    629\u001b[0m         \u001b[0ms\u001b[0m\u001b[0;34m.\u001b[0m\u001b[0msetblocking\u001b[0m\u001b[0;34m(\u001b[0m\u001b[0;32mTrue\u001b[0m\u001b[0;34m)\u001b[0m\u001b[0;34m\u001b[0m\u001b[0;34m\u001b[0m\u001b[0m\n\u001b[0;32m--> 630\u001b[0;31m         \u001b[0ms\u001b[0m\u001b[0;34m.\u001b[0m\u001b[0mconnect\u001b[0m\u001b[0;34m(\u001b[0m\u001b[0maddress\u001b[0m\u001b[0;34m)\u001b[0m\u001b[0;34m\u001b[0m\u001b[0;34m\u001b[0m\u001b[0m\n\u001b[0m\u001b[1;32m    631\u001b[0m         \u001b[0;32mreturn\u001b[0m \u001b[0mConnection\u001b[0m\u001b[0;34m(\u001b[0m\u001b[0ms\u001b[0m\u001b[0;34m.\u001b[0m\u001b[0mdetach\u001b[0m\u001b[0;34m(\u001b[0m\u001b[0;34m)\u001b[0m\u001b[0;34m)\u001b[0m\u001b[0;34m\u001b[0m\u001b[0;34m\u001b[0m\u001b[0m\n\u001b[1;32m    632\u001b[0m \u001b[0;34m\u001b[0m\u001b[0m\n",
      "\u001b[0;31mConnectionRefusedError\u001b[0m: [Errno 111] Connection refused"
     ]
    }
   ],
   "source": [
    "%%time\n",
    "dr = DataReader()\n",
    "shots_df = dr.multi_process_read_all(shots_data_index)\n",
    "len(shots_df)"
   ]
  },
  {
   "cell_type": "code",
   "execution_count": 15,
   "metadata": {},
   "outputs": [],
   "source": [
    "# ショットメタデータ読み込み\n",
    "shots_meta_df = dr.read_shots_meta(shots_meta_index)"
   ]
  },
  {
   "cell_type": "markdown",
   "metadata": {},
   "source": [
    "## 全ショットから特徴点抽出\n",
    "全ショットから最大荷重点、荷重開始点、破断点を抽出し、Elasticsearchに保存します。  \n",
    "\n",
    "***target***: 対象ショットデータ（yyyyMMddHHMMSS）  \n",
    "***shots_df***: ショットデータ  \n",
    "***shots_meta_df***: ショットメタデータ  \n",
    "***feature***: 抽出する特徴点名（max/start/break）  \n",
    "***func***：適用するロジック  \n",
    "***sub_func***：サブロジック  \n",
    "***exclude_shots***：除外するショット番号（例：exclude_shots=(1227, 1228, 1229)）\n",
    "\n",
    "保存先インデックスは以下になります。  \n",
    "* 最大荷重点：shots-yyyyMMddHHMMSS-max-point\n",
    "* 荷重開始点：shots-yyyyMMddHHMMSS-start-point\n",
    "* 破断点：shots-yyyyMMddHHMMSS-break-point"
   ]
  },
  {
   "cell_type": "code",
   "execution_count": null,
   "metadata": {},
   "outputs": [],
   "source": [
    "exclude_shots=(982, 1227, 1228, 1229, 1368, 1380, 2893)"
   ]
  },
  {
   "cell_type": "code",
   "execution_count": 16,
   "metadata": {},
   "outputs": [
    {
     "name": "stderr",
     "output_type": "stream",
     "text": [
      "2021-04-01 10:11:59,983 [INFO] apply start.\n",
      "2021-04-01 10:12:23,365 [INFO] apply finished.\n"
     ]
    }
   ],
   "source": [
    "# 最大荷重点\n",
    "apply(\n",
    "    target=target,\n",
    "    shots_df=shots_df,\n",
    "    shots_meta_df=shots_meta_df,\n",
    "    feature=\"max\",\n",
    "    func=max_load,\n",
    "    sub_func=None,\n",
    ")"
   ]
  },
  {
   "cell_type": "code",
   "execution_count": 17,
   "metadata": {},
   "outputs": [
    {
     "name": "stderr",
     "output_type": "stream",
     "text": [
      "2021-04-01 10:13:35,461 [INFO] データを全件取得します。データ件数が多い場合、長時間かかる場合があります。\n",
      "2021-04-01 10:13:35,467 [INFO] データ件数: 13056\n",
      "2021-04-01 10:13:35,598 [INFO] Data reading has finished.\n"
     ]
    },
    {
     "data": {
      "text/html": [
       "<div>\n",
       "<style scoped>\n",
       "    .dataframe tbody tr th:only-of-type {\n",
       "        vertical-align: middle;\n",
       "    }\n",
       "\n",
       "    .dataframe tbody tr th {\n",
       "        vertical-align: top;\n",
       "    }\n",
       "\n",
       "    .dataframe thead th {\n",
       "        text-align: right;\n",
       "    }\n",
       "</style>\n",
       "<table border=\"1\" class=\"dataframe\">\n",
       "  <thead>\n",
       "    <tr style=\"text-align: right;\">\n",
       "      <th></th>\n",
       "      <th>shot_number</th>\n",
       "      <th>load</th>\n",
       "      <th>sequential_number</th>\n",
       "      <th>sequential_number_by_shot</th>\n",
       "      <th>value</th>\n",
       "    </tr>\n",
       "  </thead>\n",
       "  <tbody>\n",
       "    <tr>\n",
       "      <th>0</th>\n",
       "      <td>1</td>\n",
       "      <td>load04</td>\n",
       "      <td>4948</td>\n",
       "      <td>4948</td>\n",
       "      <td>0.155464</td>\n",
       "    </tr>\n",
       "    <tr>\n",
       "      <th>1</th>\n",
       "      <td>1</td>\n",
       "      <td>load02</td>\n",
       "      <td>5643</td>\n",
       "      <td>5643</td>\n",
       "      <td>0.127277</td>\n",
       "    </tr>\n",
       "    <tr>\n",
       "      <th>2</th>\n",
       "      <td>1</td>\n",
       "      <td>load01</td>\n",
       "      <td>5703</td>\n",
       "      <td>5703</td>\n",
       "      <td>0.283066</td>\n",
       "    </tr>\n",
       "    <tr>\n",
       "      <th>3</th>\n",
       "      <td>1</td>\n",
       "      <td>load03</td>\n",
       "      <td>6266</td>\n",
       "      <td>6266</td>\n",
       "      <td>0.335829</td>\n",
       "    </tr>\n",
       "    <tr>\n",
       "      <th>4</th>\n",
       "      <td>2</td>\n",
       "      <td>load01</td>\n",
       "      <td>117992</td>\n",
       "      <td>8588</td>\n",
       "      <td>1.159160</td>\n",
       "    </tr>\n",
       "    <tr>\n",
       "      <th>...</th>\n",
       "      <td>...</td>\n",
       "      <td>...</td>\n",
       "      <td>...</td>\n",
       "      <td>...</td>\n",
       "      <td>...</td>\n",
       "    </tr>\n",
       "    <tr>\n",
       "      <th>13051</th>\n",
       "      <td>3263</td>\n",
       "      <td>load02</td>\n",
       "      <td>13574962</td>\n",
       "      <td>5284</td>\n",
       "      <td>1.641789</td>\n",
       "    </tr>\n",
       "    <tr>\n",
       "      <th>13052</th>\n",
       "      <td>3264</td>\n",
       "      <td>load03</td>\n",
       "      <td>13585109</td>\n",
       "      <td>4953</td>\n",
       "      <td>1.187431</td>\n",
       "    </tr>\n",
       "    <tr>\n",
       "      <th>13053</th>\n",
       "      <td>3264</td>\n",
       "      <td>load04</td>\n",
       "      <td>13585161</td>\n",
       "      <td>5005</td>\n",
       "      <td>1.227082</td>\n",
       "    </tr>\n",
       "    <tr>\n",
       "      <th>13054</th>\n",
       "      <td>3264</td>\n",
       "      <td>load01</td>\n",
       "      <td>13585758</td>\n",
       "      <td>5602</td>\n",
       "      <td>1.762363</td>\n",
       "    </tr>\n",
       "    <tr>\n",
       "      <th>13055</th>\n",
       "      <td>3264</td>\n",
       "      <td>load02</td>\n",
       "      <td>13585758</td>\n",
       "      <td>5602</td>\n",
       "      <td>1.543043</td>\n",
       "    </tr>\n",
       "  </tbody>\n",
       "</table>\n",
       "<p>13056 rows × 5 columns</p>\n",
       "</div>"
      ],
      "text/plain": [
       "       shot_number    load  sequential_number  sequential_number_by_shot  \\\n",
       "0                1  load04               4948                       4948   \n",
       "1                1  load02               5643                       5643   \n",
       "2                1  load01               5703                       5703   \n",
       "3                1  load03               6266                       6266   \n",
       "4                2  load01             117992                       8588   \n",
       "...            ...     ...                ...                        ...   \n",
       "13051         3263  load02           13574962                       5284   \n",
       "13052         3264  load03           13585109                       4953   \n",
       "13053         3264  load04           13585161                       5005   \n",
       "13054         3264  load01           13585758                       5602   \n",
       "13055         3264  load02           13585758                       5602   \n",
       "\n",
       "          value  \n",
       "0      0.155464  \n",
       "1      0.127277  \n",
       "2      0.283066  \n",
       "3      0.335829  \n",
       "4      1.159160  \n",
       "...         ...  \n",
       "13051  1.641789  \n",
       "13052  1.187431  \n",
       "13053  1.227082  \n",
       "13054  1.762363  \n",
       "13055  1.543043  \n",
       "\n",
       "[13056 rows x 5 columns]"
      ]
     },
     "execution_count": 17,
     "metadata": {},
     "output_type": "execute_result"
    }
   ],
   "source": [
    "max_index = \"shots-\" + target + \"-max-point\"\n",
    "max_df = dr.read_all(max_index)\n",
    "max_df"
   ]
  },
  {
   "cell_type": "code",
   "execution_count": 18,
   "metadata": {},
   "outputs": [
    {
     "name": "stderr",
     "output_type": "stream",
     "text": [
      "2021-04-01 10:13:43,260 [INFO] apply start.\n",
      "Process Process-21:\n",
      "Traceback (most recent call last):\n",
      "  File \"/home/ymiyamoto5/anaconda3/lib/python3.8/multiprocessing/process.py\", line 315, in _bootstrap\n",
      "    self.run()\n",
      "  File \"/home/ymiyamoto5/anaconda3/lib/python3.8/multiprocessing/process.py\", line 108, in run\n",
      "    self._target(*self._args, **self._kwargs)\n",
      "  File \"/home/ymiyamoto5/h-one-experimental-system/notebooks/../src/analyze/analyze.py\", line 104, in apply_logic\n",
      "    indices, values, debug_values = ef.extract_features(shot_df, spm, func, sub_func=sub_func)\n",
      "  File \"/home/ymiyamoto5/h-one-experimental-system/notebooks/../src/analyze/h_one_extract_features.py\", line 666, in extract_features\n",
      "    i,v,d = func(np.array(shot_data[ch][sub_start:sub_end]),spm,**kwargs)     # ここでnp.arrayになるのでindexがなくなる\n",
      "  File \"/home/ymiyamoto5/h-one-experimental-system/notebooks/../src/analyze/h_one_extract_features.py\", line 508, in load_start2\n",
      "    sd_start = df[100:df.d.idxmax()].sd.idxmin()           # 100:最大荷重の範囲の荷重最小点 -> sd_start\n",
      "  File \"/home/ymiyamoto5/anaconda3/lib/python3.8/site-packages/pandas/core/series.py\", line 2039, in idxmin\n",
      "    i = nanops.nanargmin(com.values_from_object(self), skipna=skipna)\n",
      "  File \"/home/ymiyamoto5/anaconda3/lib/python3.8/site-packages/pandas/core/nanops.py\", line 69, in _f\n",
      "    return f(*args, **kwargs)\n",
      "  File \"/home/ymiyamoto5/anaconda3/lib/python3.8/site-packages/pandas/core/nanops.py\", line 906, in nanargmin\n",
      "    result = values.argmin(axis)\n",
      "ValueError: attempt to get argmin of an empty sequence\n",
      "Process Process-25:\n",
      "Traceback (most recent call last):\n",
      "  File \"/home/ymiyamoto5/anaconda3/lib/python3.8/multiprocessing/process.py\", line 315, in _bootstrap\n",
      "    self.run()\n",
      "  File \"/home/ymiyamoto5/anaconda3/lib/python3.8/multiprocessing/process.py\", line 108, in run\n",
      "    self._target(*self._args, **self._kwargs)\n",
      "  File \"/home/ymiyamoto5/h-one-experimental-system/notebooks/../src/analyze/analyze.py\", line 104, in apply_logic\n",
      "    indices, values, debug_values = ef.extract_features(shot_df, spm, func, sub_func=sub_func)\n",
      "  File \"/home/ymiyamoto5/h-one-experimental-system/notebooks/../src/analyze/h_one_extract_features.py\", line 666, in extract_features\n",
      "    i,v,d = func(np.array(shot_data[ch][sub_start:sub_end]),spm,**kwargs)     # ここでnp.arrayになるのでindexがなくなる\n",
      "  File \"/home/ymiyamoto5/h-one-experimental-system/notebooks/../src/analyze/h_one_extract_features.py\", line 508, in load_start2\n",
      "    sd_start = df[100:df.d.idxmax()].sd.idxmin()           # 100:最大荷重の範囲の荷重最小点 -> sd_start\n",
      "  File \"/home/ymiyamoto5/anaconda3/lib/python3.8/site-packages/pandas/core/series.py\", line 2039, in idxmin\n",
      "    i = nanops.nanargmin(com.values_from_object(self), skipna=skipna)\n",
      "  File \"/home/ymiyamoto5/anaconda3/lib/python3.8/site-packages/pandas/core/nanops.py\", line 69, in _f\n",
      "    return f(*args, **kwargs)\n",
      "  File \"/home/ymiyamoto5/anaconda3/lib/python3.8/site-packages/pandas/core/nanops.py\", line 906, in nanargmin\n",
      "    result = values.argmin(axis)\n",
      "ValueError: attempt to get argmin of an empty sequence\n",
      "Process Process-20:\n",
      "Traceback (most recent call last):\n",
      "  File \"/home/ymiyamoto5/anaconda3/lib/python3.8/multiprocessing/process.py\", line 315, in _bootstrap\n",
      "    self.run()\n",
      "  File \"/home/ymiyamoto5/anaconda3/lib/python3.8/multiprocessing/process.py\", line 108, in run\n",
      "    self._target(*self._args, **self._kwargs)\n",
      "  File \"/home/ymiyamoto5/h-one-experimental-system/notebooks/../src/analyze/analyze.py\", line 104, in apply_logic\n",
      "    indices, values, debug_values = ef.extract_features(shot_df, spm, func, sub_func=sub_func)\n",
      "  File \"/home/ymiyamoto5/h-one-experimental-system/notebooks/../src/analyze/h_one_extract_features.py\", line 666, in extract_features\n",
      "    i,v,d = func(np.array(shot_data[ch][sub_start:sub_end]),spm,**kwargs)     # ここでnp.arrayになるのでindexがなくなる\n",
      "  File \"/home/ymiyamoto5/h-one-experimental-system/notebooks/../src/analyze/h_one_extract_features.py\", line 508, in load_start2\n",
      "    sd_start = df[100:df.d.idxmax()].sd.idxmin()           # 100:最大荷重の範囲の荷重最小点 -> sd_start\n",
      "  File \"/home/ymiyamoto5/anaconda3/lib/python3.8/site-packages/pandas/core/series.py\", line 2039, in idxmin\n",
      "    i = nanops.nanargmin(com.values_from_object(self), skipna=skipna)\n",
      "  File \"/home/ymiyamoto5/anaconda3/lib/python3.8/site-packages/pandas/core/nanops.py\", line 69, in _f\n",
      "    return f(*args, **kwargs)\n",
      "  File \"/home/ymiyamoto5/anaconda3/lib/python3.8/site-packages/pandas/core/nanops.py\", line 906, in nanargmin\n",
      "    result = values.argmin(axis)\n",
      "ValueError: attempt to get argmin of an empty sequence\n",
      "2021-04-01 10:14:09,899 [INFO] apply finished.\n"
     ]
    }
   ],
   "source": [
    "# 荷重開始点\n",
    "apply(\n",
    "    target=target,\n",
    "    shots_df=shots_df,\n",
    "    shots_meta_df=shots_meta_df,\n",
    "    feature=\"start\",\n",
    "    func=load_start2,\n",
    "    sub_func=None,\n",
    ")"
   ]
  },
  {
   "cell_type": "code",
   "execution_count": 19,
   "metadata": {},
   "outputs": [
    {
     "name": "stderr",
     "output_type": "stream",
     "text": [
      "2021-04-01 10:14:16,490 [INFO] データを全件取得します。データ件数が多い場合、長時間かかる場合があります。\n",
      "2021-04-01 10:14:16,494 [INFO] データ件数: 8160\n",
      "2021-04-01 10:14:16,593 [INFO] Data reading has finished.\n"
     ]
    },
    {
     "data": {
      "text/html": [
       "<div>\n",
       "<style scoped>\n",
       "    .dataframe tbody tr th:only-of-type {\n",
       "        vertical-align: middle;\n",
       "    }\n",
       "\n",
       "    .dataframe tbody tr th {\n",
       "        vertical-align: top;\n",
       "    }\n",
       "\n",
       "    .dataframe thead th {\n",
       "        text-align: right;\n",
       "    }\n",
       "</style>\n",
       "<table border=\"1\" class=\"dataframe\">\n",
       "  <thead>\n",
       "    <tr style=\"text-align: right;\">\n",
       "      <th></th>\n",
       "      <th>shot_number</th>\n",
       "      <th>load</th>\n",
       "      <th>sequential_number</th>\n",
       "      <th>sequential_number_by_shot</th>\n",
       "      <th>value</th>\n",
       "    </tr>\n",
       "  </thead>\n",
       "  <tbody>\n",
       "    <tr>\n",
       "      <th>0</th>\n",
       "      <td>1</td>\n",
       "      <td>load04</td>\n",
       "      <td>1963</td>\n",
       "      <td>1963</td>\n",
       "      <td>-0.009095</td>\n",
       "    </tr>\n",
       "    <tr>\n",
       "      <th>1</th>\n",
       "      <td>1</td>\n",
       "      <td>load01</td>\n",
       "      <td>2264</td>\n",
       "      <td>2264</td>\n",
       "      <td>-0.011353</td>\n",
       "    </tr>\n",
       "    <tr>\n",
       "      <th>2</th>\n",
       "      <td>1</td>\n",
       "      <td>load03</td>\n",
       "      <td>2465</td>\n",
       "      <td>2465</td>\n",
       "      <td>-0.009952</td>\n",
       "    </tr>\n",
       "    <tr>\n",
       "      <th>3</th>\n",
       "      <td>1</td>\n",
       "      <td>load02</td>\n",
       "      <td>2641</td>\n",
       "      <td>2641</td>\n",
       "      <td>-0.001306</td>\n",
       "    </tr>\n",
       "    <tr>\n",
       "      <th>4</th>\n",
       "      <td>2</td>\n",
       "      <td>load02</td>\n",
       "      <td>113857</td>\n",
       "      <td>4453</td>\n",
       "      <td>0.019170</td>\n",
       "    </tr>\n",
       "    <tr>\n",
       "      <th>...</th>\n",
       "      <td>...</td>\n",
       "      <td>...</td>\n",
       "      <td>...</td>\n",
       "      <td>...</td>\n",
       "      <td>...</td>\n",
       "    </tr>\n",
       "    <tr>\n",
       "      <th>8155</th>\n",
       "      <td>2855</td>\n",
       "      <td>load02</td>\n",
       "      <td>11851698</td>\n",
       "      <td>1130</td>\n",
       "      <td>0.055261</td>\n",
       "    </tr>\n",
       "    <tr>\n",
       "      <th>8156</th>\n",
       "      <td>2856</td>\n",
       "      <td>load03</td>\n",
       "      <td>11855471</td>\n",
       "      <td>1080</td>\n",
       "      <td>0.042970</td>\n",
       "    </tr>\n",
       "    <tr>\n",
       "      <th>8157</th>\n",
       "      <td>2856</td>\n",
       "      <td>load04</td>\n",
       "      <td>11855494</td>\n",
       "      <td>1103</td>\n",
       "      <td>0.065281</td>\n",
       "    </tr>\n",
       "    <tr>\n",
       "      <th>8158</th>\n",
       "      <td>2856</td>\n",
       "      <td>load01</td>\n",
       "      <td>11855507</td>\n",
       "      <td>1116</td>\n",
       "      <td>0.069328</td>\n",
       "    </tr>\n",
       "    <tr>\n",
       "      <th>8159</th>\n",
       "      <td>2856</td>\n",
       "      <td>load02</td>\n",
       "      <td>11855548</td>\n",
       "      <td>1157</td>\n",
       "      <td>0.071632</td>\n",
       "    </tr>\n",
       "  </tbody>\n",
       "</table>\n",
       "<p>8160 rows × 5 columns</p>\n",
       "</div>"
      ],
      "text/plain": [
       "      shot_number    load  sequential_number  sequential_number_by_shot  \\\n",
       "0               1  load04               1963                       1963   \n",
       "1               1  load01               2264                       2264   \n",
       "2               1  load03               2465                       2465   \n",
       "3               1  load02               2641                       2641   \n",
       "4               2  load02             113857                       4453   \n",
       "...           ...     ...                ...                        ...   \n",
       "8155         2855  load02           11851698                       1130   \n",
       "8156         2856  load03           11855471                       1080   \n",
       "8157         2856  load04           11855494                       1103   \n",
       "8158         2856  load01           11855507                       1116   \n",
       "8159         2856  load02           11855548                       1157   \n",
       "\n",
       "         value  \n",
       "0    -0.009095  \n",
       "1    -0.011353  \n",
       "2    -0.009952  \n",
       "3    -0.001306  \n",
       "4     0.019170  \n",
       "...        ...  \n",
       "8155  0.055261  \n",
       "8156  0.042970  \n",
       "8157  0.065281  \n",
       "8158  0.069328  \n",
       "8159  0.071632  \n",
       "\n",
       "[8160 rows x 5 columns]"
      ]
     },
     "execution_count": 19,
     "metadata": {},
     "output_type": "execute_result"
    }
   ],
   "source": [
    "start_index = \"shots-\" + target + \"-start-point\"\n",
    "start_df = dr.read_all(start_index)\n",
    "start_df"
   ]
  },
  {
   "cell_type": "code",
   "execution_count": 22,
   "metadata": {},
   "outputs": [
    {
     "name": "stderr",
     "output_type": "stream",
     "text": [
      "2021-04-01 10:26:32,537 [INFO] apply start.\n",
      "2021-04-01 10:26:32,636 [INFO] delete index 'shots-20210327141514-break-point' finished. result: {'acknowledged': True}\n",
      "Process Process-35:\n",
      "Traceback (most recent call last):\n",
      "  File \"/home/ymiyamoto5/anaconda3/lib/python3.8/multiprocessing/process.py\", line 315, in _bootstrap\n",
      "    self.run()\n",
      "  File \"/home/ymiyamoto5/anaconda3/lib/python3.8/multiprocessing/process.py\", line 108, in run\n",
      "    self._target(*self._args, **self._kwargs)\n",
      "  File \"/home/ymiyamoto5/h-one-experimental-system/notebooks/../src/analyze/analyze.py\", line 104, in apply_logic\n",
      "    indices, values, debug_values = ef.extract_features(shot_df, spm, func, sub_func=sub_func)\n",
      "  File \"/home/ymiyamoto5/h-one-experimental-system/notebooks/../src/analyze/h_one_extract_features.py\", line 666, in extract_features\n",
      "    i,v,d = func(np.array(shot_data[ch][sub_start:sub_end]),spm,**kwargs)     # ここでnp.arrayになるのでindexがなくなる\n",
      "  File \"/home/ymiyamoto5/h-one-experimental-system/notebooks/../src/analyze/h_one_extract_features.py\", line 218, in breaking_rmean_dmin\n",
      "    return h+NARROW_PADDING, df.d[h], [break_through-20+NARROW_PADDING,break_through+NARROW_PADDING]\n",
      "  File \"/home/ymiyamoto5/anaconda3/lib/python3.8/site-packages/pandas/core/series.py\", line 871, in __getitem__\n",
      "    result = self.index.get_value(self, key)\n",
      "  File \"/home/ymiyamoto5/anaconda3/lib/python3.8/site-packages/pandas/core/indexes/base.py\", line 4403, in get_value\n",
      "    k = self._convert_scalar_indexer(k, kind=\"getitem\")\n",
      "  File \"/home/ymiyamoto5/anaconda3/lib/python3.8/site-packages/pandas/core/indexes/numeric.py\", line 268, in _convert_scalar_indexer\n",
      "    return super()._convert_scalar_indexer(key, kind=kind)\n",
      "  File \"/home/ymiyamoto5/anaconda3/lib/python3.8/site-packages/pandas/core/indexes/base.py\", line 2869, in _convert_scalar_indexer\n",
      "    return self._invalid_indexer(\"label\", key)\n",
      "  File \"/home/ymiyamoto5/anaconda3/lib/python3.8/site-packages/pandas/core/indexes/base.py\", line 3076, in _invalid_indexer\n",
      "    raise TypeError(\n",
      "TypeError: cannot do label indexing on <class 'pandas.core.indexes.range.RangeIndex'> with these indexers [nan] of <class 'float'>\n",
      "Process Process-39:\n",
      "Traceback (most recent call last):\n",
      "  File \"/home/ymiyamoto5/anaconda3/lib/python3.8/multiprocessing/process.py\", line 315, in _bootstrap\n",
      "    self.run()\n",
      "  File \"/home/ymiyamoto5/anaconda3/lib/python3.8/multiprocessing/process.py\", line 108, in run\n",
      "    self._target(*self._args, **self._kwargs)\n",
      "  File \"/home/ymiyamoto5/h-one-experimental-system/notebooks/../src/analyze/analyze.py\", line 104, in apply_logic\n",
      "    indices, values, debug_values = ef.extract_features(shot_df, spm, func, sub_func=sub_func)\n",
      "  File \"/home/ymiyamoto5/h-one-experimental-system/notebooks/../src/analyze/h_one_extract_features.py\", line 666, in extract_features\n",
      "    i,v,d = func(np.array(shot_data[ch][sub_start:sub_end]),spm,**kwargs)     # ここでnp.arrayになるのでindexがなくなる\n",
      "  File \"/home/ymiyamoto5/h-one-experimental-system/notebooks/../src/analyze/h_one_extract_features.py\", line 218, in breaking_rmean_dmin\n",
      "    return h+NARROW_PADDING, df.d[h], [break_through-20+NARROW_PADDING,break_through+NARROW_PADDING]\n",
      "  File \"/home/ymiyamoto5/anaconda3/lib/python3.8/site-packages/pandas/core/series.py\", line 871, in __getitem__\n",
      "    result = self.index.get_value(self, key)\n",
      "  File \"/home/ymiyamoto5/anaconda3/lib/python3.8/site-packages/pandas/core/indexes/base.py\", line 4403, in get_value\n",
      "    k = self._convert_scalar_indexer(k, kind=\"getitem\")\n",
      "  File \"/home/ymiyamoto5/anaconda3/lib/python3.8/site-packages/pandas/core/indexes/numeric.py\", line 268, in _convert_scalar_indexer\n",
      "    return super()._convert_scalar_indexer(key, kind=kind)\n",
      "  File \"/home/ymiyamoto5/anaconda3/lib/python3.8/site-packages/pandas/core/indexes/base.py\", line 2869, in _convert_scalar_indexer\n",
      "    return self._invalid_indexer(\"label\", key)\n",
      "  File \"/home/ymiyamoto5/anaconda3/lib/python3.8/site-packages/pandas/core/indexes/base.py\", line 3076, in _invalid_indexer\n",
      "    raise TypeError(\n",
      "TypeError: cannot do label indexing on <class 'pandas.core.indexes.range.RangeIndex'> with these indexers [nan] of <class 'float'>\n",
      "Process Process-37:\n",
      "Traceback (most recent call last):\n",
      "  File \"/home/ymiyamoto5/anaconda3/lib/python3.8/multiprocessing/process.py\", line 315, in _bootstrap\n",
      "    self.run()\n",
      "  File \"/home/ymiyamoto5/anaconda3/lib/python3.8/multiprocessing/process.py\", line 108, in run\n",
      "    self._target(*self._args, **self._kwargs)\n",
      "  File \"/home/ymiyamoto5/h-one-experimental-system/notebooks/../src/analyze/analyze.py\", line 104, in apply_logic\n",
      "    indices, values, debug_values = ef.extract_features(shot_df, spm, func, sub_func=sub_func)\n",
      "  File \"/home/ymiyamoto5/h-one-experimental-system/notebooks/../src/analyze/h_one_extract_features.py\", line 666, in extract_features\n",
      "    i,v,d = func(np.array(shot_data[ch][sub_start:sub_end]),spm,**kwargs)     # ここでnp.arrayになるのでindexがなくなる\n",
      "  File \"/home/ymiyamoto5/h-one-experimental-system/notebooks/../src/analyze/h_one_extract_features.py\", line 218, in breaking_rmean_dmin\n",
      "    return h+NARROW_PADDING, df.d[h], [break_through-20+NARROW_PADDING,break_through+NARROW_PADDING]\n",
      "  File \"/home/ymiyamoto5/anaconda3/lib/python3.8/site-packages/pandas/core/series.py\", line 871, in __getitem__\n",
      "    result = self.index.get_value(self, key)\n",
      "  File \"/home/ymiyamoto5/anaconda3/lib/python3.8/site-packages/pandas/core/indexes/base.py\", line 4403, in get_value\n",
      "    k = self._convert_scalar_indexer(k, kind=\"getitem\")\n",
      "  File \"/home/ymiyamoto5/anaconda3/lib/python3.8/site-packages/pandas/core/indexes/numeric.py\", line 268, in _convert_scalar_indexer\n",
      "    return super()._convert_scalar_indexer(key, kind=kind)\n",
      "  File \"/home/ymiyamoto5/anaconda3/lib/python3.8/site-packages/pandas/core/indexes/base.py\", line 2869, in _convert_scalar_indexer\n",
      "    return self._invalid_indexer(\"label\", key)\n",
      "  File \"/home/ymiyamoto5/anaconda3/lib/python3.8/site-packages/pandas/core/indexes/base.py\", line 3076, in _invalid_indexer\n",
      "    raise TypeError(\n",
      "TypeError: cannot do label indexing on <class 'pandas.core.indexes.range.RangeIndex'> with these indexers [nan] of <class 'float'>\n",
      "Process Process-38:\n",
      "Traceback (most recent call last):\n",
      "  File \"/home/ymiyamoto5/anaconda3/lib/python3.8/multiprocessing/process.py\", line 315, in _bootstrap\n",
      "    self.run()\n",
      "  File \"/home/ymiyamoto5/anaconda3/lib/python3.8/multiprocessing/process.py\", line 108, in run\n",
      "    self._target(*self._args, **self._kwargs)\n",
      "  File \"/home/ymiyamoto5/h-one-experimental-system/notebooks/../src/analyze/analyze.py\", line 104, in apply_logic\n",
      "    indices, values, debug_values = ef.extract_features(shot_df, spm, func, sub_func=sub_func)\n",
      "  File \"/home/ymiyamoto5/h-one-experimental-system/notebooks/../src/analyze/h_one_extract_features.py\", line 666, in extract_features\n",
      "    i,v,d = func(np.array(shot_data[ch][sub_start:sub_end]),spm,**kwargs)     # ここでnp.arrayになるのでindexがなくなる\n",
      "  File \"/home/ymiyamoto5/h-one-experimental-system/notebooks/../src/analyze/h_one_extract_features.py\", line 218, in breaking_rmean_dmin\n",
      "    return h+NARROW_PADDING, df.d[h], [break_through-20+NARROW_PADDING,break_through+NARROW_PADDING]\n",
      "  File \"/home/ymiyamoto5/anaconda3/lib/python3.8/site-packages/pandas/core/series.py\", line 871, in __getitem__\n",
      "    result = self.index.get_value(self, key)\n",
      "  File \"/home/ymiyamoto5/anaconda3/lib/python3.8/site-packages/pandas/core/indexes/base.py\", line 4403, in get_value\n",
      "    k = self._convert_scalar_indexer(k, kind=\"getitem\")\n",
      "  File \"/home/ymiyamoto5/anaconda3/lib/python3.8/site-packages/pandas/core/indexes/numeric.py\", line 268, in _convert_scalar_indexer\n",
      "    return super()._convert_scalar_indexer(key, kind=kind)\n",
      "  File \"/home/ymiyamoto5/anaconda3/lib/python3.8/site-packages/pandas/core/indexes/base.py\", line 2869, in _convert_scalar_indexer\n",
      "    return self._invalid_indexer(\"label\", key)\n",
      "  File \"/home/ymiyamoto5/anaconda3/lib/python3.8/site-packages/pandas/core/indexes/base.py\", line 3076, in _invalid_indexer\n",
      "    raise TypeError(\n",
      "TypeError: cannot do label indexing on <class 'pandas.core.indexes.range.RangeIndex'> with these indexers [nan] of <class 'float'>\n",
      "Process Process-34:\n",
      "Traceback (most recent call last):\n",
      "  File \"/home/ymiyamoto5/anaconda3/lib/python3.8/multiprocessing/process.py\", line 315, in _bootstrap\n",
      "    self.run()\n"
     ]
    },
    {
     "name": "stderr",
     "output_type": "stream",
     "text": [
      "  File \"/home/ymiyamoto5/anaconda3/lib/python3.8/multiprocessing/process.py\", line 108, in run\n",
      "    self._target(*self._args, **self._kwargs)\n",
      "  File \"/home/ymiyamoto5/h-one-experimental-system/notebooks/../src/analyze/analyze.py\", line 104, in apply_logic\n",
      "    indices, values, debug_values = ef.extract_features(shot_df, spm, func, sub_func=sub_func)\n",
      "  File \"/home/ymiyamoto5/h-one-experimental-system/notebooks/../src/analyze/h_one_extract_features.py\", line 666, in extract_features\n",
      "    i,v,d = func(np.array(shot_data[ch][sub_start:sub_end]),spm,**kwargs)     # ここでnp.arrayになるのでindexがなくなる\n",
      "  File \"/home/ymiyamoto5/h-one-experimental-system/notebooks/../src/analyze/h_one_extract_features.py\", line 218, in breaking_rmean_dmin\n",
      "    return h+NARROW_PADDING, df.d[h], [break_through-20+NARROW_PADDING,break_through+NARROW_PADDING]\n",
      "  File \"/home/ymiyamoto5/anaconda3/lib/python3.8/site-packages/pandas/core/series.py\", line 871, in __getitem__\n",
      "    result = self.index.get_value(self, key)\n",
      "  File \"/home/ymiyamoto5/anaconda3/lib/python3.8/site-packages/pandas/core/indexes/base.py\", line 4403, in get_value\n",
      "    k = self._convert_scalar_indexer(k, kind=\"getitem\")\n",
      "  File \"/home/ymiyamoto5/anaconda3/lib/python3.8/site-packages/pandas/core/indexes/numeric.py\", line 268, in _convert_scalar_indexer\n",
      "    return super()._convert_scalar_indexer(key, kind=kind)\n",
      "  File \"/home/ymiyamoto5/anaconda3/lib/python3.8/site-packages/pandas/core/indexes/base.py\", line 2869, in _convert_scalar_indexer\n",
      "    return self._invalid_indexer(\"label\", key)\n",
      "  File \"/home/ymiyamoto5/anaconda3/lib/python3.8/site-packages/pandas/core/indexes/base.py\", line 3076, in _invalid_indexer\n",
      "    raise TypeError(\n",
      "TypeError: cannot do label indexing on <class 'pandas.core.indexes.range.RangeIndex'> with these indexers [nan] of <class 'float'>\n",
      "Process Process-40:\n",
      "Traceback (most recent call last):\n",
      "  File \"/home/ymiyamoto5/anaconda3/lib/python3.8/multiprocessing/process.py\", line 315, in _bootstrap\n",
      "    self.run()\n",
      "  File \"/home/ymiyamoto5/anaconda3/lib/python3.8/multiprocessing/process.py\", line 108, in run\n",
      "    self._target(*self._args, **self._kwargs)\n",
      "  File \"/home/ymiyamoto5/h-one-experimental-system/notebooks/../src/analyze/analyze.py\", line 104, in apply_logic\n",
      "    indices, values, debug_values = ef.extract_features(shot_df, spm, func, sub_func=sub_func)\n",
      "  File \"/home/ymiyamoto5/h-one-experimental-system/notebooks/../src/analyze/h_one_extract_features.py\", line 666, in extract_features\n",
      "    i,v,d = func(np.array(shot_data[ch][sub_start:sub_end]),spm,**kwargs)     # ここでnp.arrayになるのでindexがなくなる\n",
      "  File \"/home/ymiyamoto5/h-one-experimental-system/notebooks/../src/analyze/h_one_extract_features.py\", line 218, in breaking_rmean_dmin\n",
      "    return h+NARROW_PADDING, df.d[h], [break_through-20+NARROW_PADDING,break_through+NARROW_PADDING]\n",
      "  File \"/home/ymiyamoto5/anaconda3/lib/python3.8/site-packages/pandas/core/series.py\", line 871, in __getitem__\n",
      "    result = self.index.get_value(self, key)\n",
      "  File \"/home/ymiyamoto5/anaconda3/lib/python3.8/site-packages/pandas/core/indexes/base.py\", line 4403, in get_value\n",
      "    k = self._convert_scalar_indexer(k, kind=\"getitem\")\n",
      "  File \"/home/ymiyamoto5/anaconda3/lib/python3.8/site-packages/pandas/core/indexes/numeric.py\", line 268, in _convert_scalar_indexer\n",
      "    return super()._convert_scalar_indexer(key, kind=kind)\n",
      "  File \"/home/ymiyamoto5/anaconda3/lib/python3.8/site-packages/pandas/core/indexes/base.py\", line 2869, in _convert_scalar_indexer\n",
      "    return self._invalid_indexer(\"label\", key)\n",
      "  File \"/home/ymiyamoto5/anaconda3/lib/python3.8/site-packages/pandas/core/indexes/base.py\", line 3076, in _invalid_indexer\n",
      "    raise TypeError(\n",
      "TypeError: cannot do label indexing on <class 'pandas.core.indexes.range.RangeIndex'> with these indexers [nan] of <class 'float'>\n",
      "Process Process-36:\n",
      "Traceback (most recent call last):\n",
      "  File \"/home/ymiyamoto5/anaconda3/lib/python3.8/multiprocessing/process.py\", line 315, in _bootstrap\n",
      "    self.run()\n",
      "  File \"/home/ymiyamoto5/anaconda3/lib/python3.8/multiprocessing/process.py\", line 108, in run\n",
      "    self._target(*self._args, **self._kwargs)\n",
      "  File \"/home/ymiyamoto5/h-one-experimental-system/notebooks/../src/analyze/analyze.py\", line 104, in apply_logic\n",
      "    indices, values, debug_values = ef.extract_features(shot_df, spm, func, sub_func=sub_func)\n",
      "  File \"/home/ymiyamoto5/h-one-experimental-system/notebooks/../src/analyze/h_one_extract_features.py\", line 666, in extract_features\n",
      "    i,v,d = func(np.array(shot_data[ch][sub_start:sub_end]),spm,**kwargs)     # ここでnp.arrayになるのでindexがなくなる\n",
      "  File \"/home/ymiyamoto5/h-one-experimental-system/notebooks/../src/analyze/h_one_extract_features.py\", line 218, in breaking_rmean_dmin\n",
      "    return h+NARROW_PADDING, df.d[h], [break_through-20+NARROW_PADDING,break_through+NARROW_PADDING]\n",
      "  File \"/home/ymiyamoto5/anaconda3/lib/python3.8/site-packages/pandas/core/series.py\", line 871, in __getitem__\n",
      "    result = self.index.get_value(self, key)\n",
      "  File \"/home/ymiyamoto5/anaconda3/lib/python3.8/site-packages/pandas/core/indexes/base.py\", line 4403, in get_value\n",
      "    k = self._convert_scalar_indexer(k, kind=\"getitem\")\n",
      "  File \"/home/ymiyamoto5/anaconda3/lib/python3.8/site-packages/pandas/core/indexes/numeric.py\", line 268, in _convert_scalar_indexer\n",
      "    return super()._convert_scalar_indexer(key, kind=kind)\n",
      "  File \"/home/ymiyamoto5/anaconda3/lib/python3.8/site-packages/pandas/core/indexes/base.py\", line 2869, in _convert_scalar_indexer\n",
      "    return self._invalid_indexer(\"label\", key)\n",
      "  File \"/home/ymiyamoto5/anaconda3/lib/python3.8/site-packages/pandas/core/indexes/base.py\", line 3076, in _invalid_indexer\n",
      "    raise TypeError(\n",
      "TypeError: cannot do label indexing on <class 'pandas.core.indexes.range.RangeIndex'> with these indexers [nan] of <class 'float'>\n",
      "2021-04-01 10:26:59,936 [INFO] apply finished.\n"
     ]
    }
   ],
   "source": [
    "# 破断点\n",
    "apply(\n",
    "    target=target,\n",
    "    shots_df=shots_df,\n",
    "    shots_meta_df=shots_meta_df,\n",
    "    feature=\"break\",\n",
    "    func=breaking_rmean_dmin,\n",
    "    sub_func=narrowing_var_ch,\n",
    ")"
   ]
  },
  {
   "cell_type": "code",
   "execution_count": 23,
   "metadata": {},
   "outputs": [
    {
     "name": "stderr",
     "output_type": "stream",
     "text": [
      "2021-04-01 10:27:03,405 [INFO] データを全件取得します。データ件数が多い場合、長時間かかる場合があります。\n",
      "2021-04-01 10:27:03,408 [INFO] データ件数: 1632\n",
      "2021-04-01 10:27:03,429 [INFO] Data reading has finished.\n"
     ]
    },
    {
     "data": {
      "text/html": [
       "<div>\n",
       "<style scoped>\n",
       "    .dataframe tbody tr th:only-of-type {\n",
       "        vertical-align: middle;\n",
       "    }\n",
       "\n",
       "    .dataframe tbody tr th {\n",
       "        vertical-align: top;\n",
       "    }\n",
       "\n",
       "    .dataframe thead th {\n",
       "        text-align: right;\n",
       "    }\n",
       "</style>\n",
       "<table border=\"1\" class=\"dataframe\">\n",
       "  <thead>\n",
       "    <tr style=\"text-align: right;\">\n",
       "      <th></th>\n",
       "      <th>shot_number</th>\n",
       "      <th>load</th>\n",
       "      <th>sequential_number</th>\n",
       "      <th>sequential_number_by_shot</th>\n",
       "      <th>value</th>\n",
       "      <th>break_channels</th>\n",
       "    </tr>\n",
       "  </thead>\n",
       "  <tbody>\n",
       "    <tr>\n",
       "      <th>0</th>\n",
       "      <td>2857</td>\n",
       "      <td>load01</td>\n",
       "      <td>11860491</td>\n",
       "      <td>2269</td>\n",
       "      <td>1.343590</td>\n",
       "      <td>[load03, load04]</td>\n",
       "    </tr>\n",
       "    <tr>\n",
       "      <th>1</th>\n",
       "      <td>2857</td>\n",
       "      <td>load02</td>\n",
       "      <td>11860491</td>\n",
       "      <td>2269</td>\n",
       "      <td>1.149537</td>\n",
       "      <td>[load03, load04]</td>\n",
       "    </tr>\n",
       "    <tr>\n",
       "      <th>2</th>\n",
       "      <td>2857</td>\n",
       "      <td>load03</td>\n",
       "      <td>11860492</td>\n",
       "      <td>2270</td>\n",
       "      <td>0.177291</td>\n",
       "      <td>[load03, load04]</td>\n",
       "    </tr>\n",
       "    <tr>\n",
       "      <th>3</th>\n",
       "      <td>2857</td>\n",
       "      <td>load04</td>\n",
       "      <td>11860492</td>\n",
       "      <td>2270</td>\n",
       "      <td>0.507163</td>\n",
       "      <td>[load03, load04]</td>\n",
       "    </tr>\n",
       "    <tr>\n",
       "      <th>4</th>\n",
       "      <td>2858</td>\n",
       "      <td>load03</td>\n",
       "      <td>11864340</td>\n",
       "      <td>2271</td>\n",
       "      <td>1.144955</td>\n",
       "      <td>[load01, load02]</td>\n",
       "    </tr>\n",
       "    <tr>\n",
       "      <th>...</th>\n",
       "      <td>...</td>\n",
       "      <td>...</td>\n",
       "      <td>...</td>\n",
       "      <td>...</td>\n",
       "      <td>...</td>\n",
       "      <td>...</td>\n",
       "    </tr>\n",
       "    <tr>\n",
       "      <th>1627</th>\n",
       "      <td>3263</td>\n",
       "      <td>load04</td>\n",
       "      <td>13575033</td>\n",
       "      <td>5355</td>\n",
       "      <td>-0.098303</td>\n",
       "      <td>[load03, load04]</td>\n",
       "    </tr>\n",
       "    <tr>\n",
       "      <th>1628</th>\n",
       "      <td>3264</td>\n",
       "      <td>load01</td>\n",
       "      <td>13585777</td>\n",
       "      <td>5621</td>\n",
       "      <td>1.228646</td>\n",
       "      <td>[load03, load04]</td>\n",
       "    </tr>\n",
       "    <tr>\n",
       "      <th>1629</th>\n",
       "      <td>3264</td>\n",
       "      <td>load02</td>\n",
       "      <td>13585777</td>\n",
       "      <td>5621</td>\n",
       "      <td>1.041360</td>\n",
       "      <td>[load03, load04]</td>\n",
       "    </tr>\n",
       "    <tr>\n",
       "      <th>1630</th>\n",
       "      <td>3264</td>\n",
       "      <td>load03</td>\n",
       "      <td>13585778</td>\n",
       "      <td>5622</td>\n",
       "      <td>-0.238251</td>\n",
       "      <td>[load03, load04]</td>\n",
       "    </tr>\n",
       "    <tr>\n",
       "      <th>1631</th>\n",
       "      <td>3264</td>\n",
       "      <td>load04</td>\n",
       "      <td>13585778</td>\n",
       "      <td>5622</td>\n",
       "      <td>0.178592</td>\n",
       "      <td>[load03, load04]</td>\n",
       "    </tr>\n",
       "  </tbody>\n",
       "</table>\n",
       "<p>1632 rows × 6 columns</p>\n",
       "</div>"
      ],
      "text/plain": [
       "      shot_number    load  sequential_number  sequential_number_by_shot  \\\n",
       "0            2857  load01           11860491                       2269   \n",
       "1            2857  load02           11860491                       2269   \n",
       "2            2857  load03           11860492                       2270   \n",
       "3            2857  load04           11860492                       2270   \n",
       "4            2858  load03           11864340                       2271   \n",
       "...           ...     ...                ...                        ...   \n",
       "1627         3263  load04           13575033                       5355   \n",
       "1628         3264  load01           13585777                       5621   \n",
       "1629         3264  load02           13585777                       5621   \n",
       "1630         3264  load03           13585778                       5622   \n",
       "1631         3264  load04           13585778                       5622   \n",
       "\n",
       "         value    break_channels  \n",
       "0     1.343590  [load03, load04]  \n",
       "1     1.149537  [load03, load04]  \n",
       "2     0.177291  [load03, load04]  \n",
       "3     0.507163  [load03, load04]  \n",
       "4     1.144955  [load01, load02]  \n",
       "...        ...               ...  \n",
       "1627 -0.098303  [load03, load04]  \n",
       "1628  1.228646  [load03, load04]  \n",
       "1629  1.041360  [load03, load04]  \n",
       "1630 -0.238251  [load03, load04]  \n",
       "1631  0.178592  [load03, load04]  \n",
       "\n",
       "[1632 rows x 6 columns]"
      ]
     },
     "execution_count": 23,
     "metadata": {},
     "output_type": "execute_result"
    }
   ],
   "source": [
    "break_index = \"shots-\" + target + \"-break-point\"\n",
    "break_df = dr.read_all(break_index)\n",
    "break_df"
   ]
  },
  {
   "cell_type": "code",
   "execution_count": null,
   "metadata": {},
   "outputs": [],
   "source": []
  },
  {
   "cell_type": "code",
   "execution_count": null,
   "metadata": {},
   "outputs": [],
   "source": []
  }
 ],
 "metadata": {
  "kernelspec": {
   "display_name": "Python 3",
   "language": "python",
   "name": "python3"
  },
  "language_info": {
   "codemirror_mode": {
    "name": "ipython",
    "version": 3
   },
   "file_extension": ".py",
   "mimetype": "text/x-python",
   "name": "python",
   "nbconvert_exporter": "python",
   "pygments_lexer": "ipython3",
   "version": "3.8.3"
  },
  "toc": {
   "base_numbering": 1,
   "nav_menu": {},
   "number_sections": true,
   "sideBar": true,
   "skip_h1_title": false,
   "title_cell": "Table of Contents",
   "title_sidebar": "Contents",
   "toc_cell": false,
   "toc_position": {},
   "toc_section_display": true,
   "toc_window_display": false
  }
 },
 "nbformat": 4,
 "nbformat_minor": 4
}
