{
 "cells": [
  {
   "cell_type": "markdown",
   "metadata": {},
   "source": [
    "  Copyright(c) 2021 UNIADEX, Ltd. All Rights Reserved.  \n",
    "  CONFIDENTIAL  \n",
    "  Author: UNIADEX, Ltd."
   ]
  },
  {
   "cell_type": "markdown",
   "metadata": {},
   "source": [
    "# 分析\n",
    "切り出したショットデータを取得し、分析します。  \n",
    "以下は特定ショットのデータを取得/確認し、特徴点（荷重開始点/最大荷重点/破断点）を抽出、その後全ショットから特徴点を抽出するサンプルコードです。抽出した特徴点はElasticsearchに格納されます。"
   ]
  },
  {
   "cell_type": "code",
   "execution_count": null,
   "metadata": {},
   "outputs": [],
   "source": [
    "# ライブラリインポート\n",
    "import os, sys\n",
    "sys.path.append(os.path.join(os.getcwd(), '../src/'))\n",
    "from data_reader.data_reader import DataReader\n",
    "from elastic_manager.elastic_manager import ElasticManager\n",
    "sys.path.append(os.path.join(os.getcwd(), '../src/analyze/'))\n",
    "from analyze.h_one_extract_features import *\n",
    "from analyze.analyze import *"
   ]
  },
  {
   "cell_type": "code",
   "execution_count": null,
   "metadata": {},
   "outputs": [],
   "source": [
    "# ログ設定\n",
    "LOG_FILE = os.path.join(\n",
    "    common.get_config_value(common.APP_CONFIG_PATH, \"log_dir\"), \"analyze/analyze.log\"\n",
    ")\n",
    "\n",
    "logging.basicConfig(\n",
    "    level=logging.INFO,\n",
    "    format=\"%(asctime)s [%(levelname)s] %(message)s\",\n",
    "    handlers=[\n",
    "        logging.handlers.RotatingFileHandler(\n",
    "            LOG_FILE, maxBytes=common.MAX_LOG_SIZE, backupCount=common.BACKUP_COUNT\n",
    "        ),\n",
    "        logging.StreamHandler(),\n",
    "    ],\n",
    ")"
   ]
  },
  {
   "cell_type": "code",
   "execution_count": null,
   "metadata": {},
   "outputs": [],
   "source": [
    "# ショットデータインデックス一覧\n",
    "ElasticManager.show_indices(index=\"shots-*-data\")"
   ]
  },
  {
   "cell_type": "code",
   "execution_count": null,
   "metadata": {},
   "outputs": [],
   "source": [
    "# 対象データ設定\n",
    "target = \"20210327141514\"\n",
    "shots_data_index = \"shots-\" + target + \"-data\"\n",
    "shots_meta_index = \"shots-\" + target + \"-meta\""
   ]
  },
  {
   "cell_type": "markdown",
   "metadata": {},
   "source": [
    "# 1ショットで特徴点抽出"
   ]
  },
  {
   "cell_type": "markdown",
   "metadata": {},
   "source": [
    "## ショット1番を取得して確認"
   ]
  },
  {
   "cell_type": "code",
   "execution_count": null,
   "metadata": {},
   "outputs": [],
   "source": [
    "dr = DataReader()\n",
    "\n",
    "shot_number = 50\n",
    "shot_df = dr.read_shot(shots_data_index, shot_number=shot_number)\n",
    "shot_df.head()"
   ]
  },
  {
   "cell_type": "code",
   "execution_count": null,
   "metadata": {
    "scrolled": true
   },
   "outputs": [],
   "source": [
    "# ショットメタデータを確認\n",
    "shots_meta_df = dr.read_shots_meta(shots_meta_index)\n",
    "shots_meta_df.head()"
   ]
  },
  {
   "cell_type": "code",
   "execution_count": null,
   "metadata": {},
   "outputs": [],
   "source": [
    "# ショットの数を確認\n",
    "print(f\"ショット数：{len(shots_meta_df)}\")"
   ]
  },
  {
   "cell_type": "code",
   "execution_count": null,
   "metadata": {},
   "outputs": [],
   "source": [
    "# 80spmを超えるような不正なショットがないか確認\n",
    "pd.set_option('display.max_rows', 3300)\n",
    "shots_meta_df[shots_meta_df.spm > 80]"
   ]
  },
  {
   "cell_type": "code",
   "execution_count": null,
   "metadata": {},
   "outputs": [],
   "source": [
    "# spm\n",
    "spm = float(shots_meta_df[shots_meta_df.shot_number == 1].spm)\n",
    "print(f\"spm：{spm}\")"
   ]
  },
  {
   "cell_type": "markdown",
   "metadata": {},
   "source": [
    "## 特徴点抽出\n",
    "1ショットから最大荷重点、荷重開始点、破断点を取得します。  \n",
    "\n",
    "***shot_data***: 対象ショットデータ  \n",
    "***spm***: spm  \n",
    "***func***：適用するロジック  \n",
    "***sub_func***：サブロジック  \n",
    "***disp_chart***: グラフ表示"
   ]
  },
  {
   "cell_type": "code",
   "execution_count": null,
   "metadata": {},
   "outputs": [],
   "source": [
    "# 最初のショットの最大荷重点、荷重開始点、破断点を確認\n",
    "max_load_indicies, max_load_values, debug_values = extract_features(shot_data=shot_df, spm=spm, func=max_load, shot=shot_number, disp_chart=True)\n",
    "load_start_indicies, load_start_values, debug_values = extract_features(shot_df, spm, load_start3, shot=shot_number, disp_chart=True)\n",
    "break_load_indicies, break_load_values, debug_values = extract_features(shot_df, spm, breaking_vmin_amin, sub_func=narrowing_v4min_mab, shot=shot_number, disp_chart=True)"
   ]
  },
  {
   "cell_type": "code",
   "execution_count": null,
   "metadata": {},
   "outputs": [],
   "source": [
    "# 各特徴点のインデックス番号と値を確認\n",
    "print(f\"【最大荷重点】\\n indicies：{max_load_indicies}, values：{max_load_values}\")\n",
    "print(f\"【荷重開始点】\\n indicies：{load_start_indicies}, values：{load_start_values}\")\n",
    "print(f\"【破断点】　　\\n indicies：{break_load_indicies}, values：{break_load_values}\")"
   ]
  },
  {
   "cell_type": "markdown",
   "metadata": {},
   "source": [
    "# 全ショットから特徴点抽出\n",
    "全ショットから最大荷重点、荷重開始点、破断点を抽出し、Elasticsearchに保存します。  \n",
    "\n",
    "***target***: 対象ショットデータ（yyyyMMddHHMMSS）  \n",
    "***shots_df***: ショットデータのDataFrame\n",
    "***shots_meta_df***: ショットメタデータのDataFrame\n",
    "***feature***: 抽出する特徴点名（max/start/break）  \n",
    "***func***：適用するロジック  \n",
    "***sub_func***：サブロジック  \n",
    "***exclude_shots***: 除外ショット(ex: exclude_shots=(1227, 1228, 1229))  \n",
    "\n",
    "保存先インデックスは以下になります。  \n",
    "* 最大荷重点：shots-yyyyMMddHHMMSS-max-point\n",
    "* 荷重開始点：shots-yyyyMMddHHMMSS-start-point\n",
    "* 破断点：shots-yyyyMMddHHMMSS-break-point"
   ]
  },
  {
   "cell_type": "code",
   "execution_count": null,
   "metadata": {},
   "outputs": [],
   "source": [
    "# 対象指定\n",
    "shots_data_index = \"shots-\" + target + \"-data\"\n",
    "shots_meta_index = \"shots-\" + target + \"-meta\""
   ]
  },
  {
   "cell_type": "code",
   "execution_count": null,
   "metadata": {},
   "outputs": [],
   "source": [
    "%%time\n",
    "dr = DataReader()\n",
    "shots_df = dr.multi_process_read_all(shots_data_index)"
   ]
  },
  {
   "cell_type": "code",
   "execution_count": null,
   "metadata": {},
   "outputs": [],
   "source": [
    "# ショットメタデータ読み込み\n",
    "shots_meta_df = dr.read_shots_meta(shots_meta_index)"
   ]
  },
  {
   "cell_type": "markdown",
   "metadata": {},
   "source": [
    "## 全ショットから特徴点抽出\n",
    "全ショットから最大荷重点、荷重開始点、破断点を抽出し、Elasticsearchに保存します。  \n",
    "\n",
    "***target***: 対象ショットデータ（yyyyMMddHHMMSS）  \n",
    "***shots_df***: ショットデータ  \n",
    "***shots_meta_df***: ショットメタデータ  \n",
    "***feature***: 抽出する特徴点名（max/start/break）  \n",
    "***func***：適用するロジック  \n",
    "***sub_func***：サブロジック  \n",
    "***exclude_shots***：除外するショット番号（例：exclude_shots=(1227, 1228, 1229)）\n",
    "\n",
    "保存先インデックスは以下になります。  \n",
    "* 最大荷重点：shots-yyyyMMddHHMMSS-max-point\n",
    "* 荷重開始点：shots-yyyyMMddHHMMSS-start-point\n",
    "* 破断点：shots-yyyyMMddHHMMSS-break-point"
   ]
  },
  {
   "cell_type": "code",
   "execution_count": null,
   "metadata": {},
   "outputs": [],
   "source": [
    "# 不正ショットの除外\n",
    "exclude_shots=(983, 1227, 1228, 1229, 1369, 1381, 2894)"
   ]
  },
  {
   "cell_type": "code",
   "execution_count": null,
   "metadata": {},
   "outputs": [],
   "source": [
    "# 最大荷重点\n",
    "apply(\n",
    "    target=target,\n",
    "    shots_df=shots_df,\n",
    "    shots_meta_df=shots_meta_df,\n",
    "    feature=\"max\",\n",
    "    func=ef.max_load,\n",
    "    sub_func=None,\n",
    "    exclude_shots=exclude_shots\n",
    ")"
   ]
  },
  {
   "cell_type": "code",
   "execution_count": null,
   "metadata": {},
   "outputs": [],
   "source": [
    "dr = DataReader()\n",
    "max_index = \"shots-\" + target + \"-max-point\"\n",
    "max_df = dr.read_all(max_index)\n",
    "max_df"
   ]
  },
  {
   "cell_type": "code",
   "execution_count": null,
   "metadata": {},
   "outputs": [],
   "source": [
    "# 荷重開始点\n",
    "apply(\n",
    "    target=target,\n",
    "    shots_df=shots_df,\n",
    "    shots_meta_df=shots_meta_df,\n",
    "    feature=\"start\",\n",
    "    func=load_start3,\n",
    "    sub_func=None,\n",
    "    exclude_shots=exclude_shots \n",
    ")"
   ]
  },
  {
   "cell_type": "code",
   "execution_count": null,
   "metadata": {},
   "outputs": [],
   "source": [
    "dr = DataReader()\n",
    "start_index = \"shots-\" + target + \"-start-point\"\n",
    "start_df = dr.read_all(start_index)\n",
    "start_df"
   ]
  },
  {
   "cell_type": "code",
   "execution_count": null,
   "metadata": {},
   "outputs": [],
   "source": [
    "# 破断点\n",
    "apply(\n",
    "    target=target,\n",
    "    shots_df=shots_df,\n",
    "    shots_meta_df=shots_meta_df,\n",
    "    feature=\"break\",\n",
    "    func=breaking_vmin_amin,\n",
    "    sub_func=narrowing_v4min_mab,\n",
    "    exclude_shots=exclude_shots    \n",
    ")"
   ]
  },
  {
   "cell_type": "code",
   "execution_count": null,
   "metadata": {},
   "outputs": [],
   "source": [
    "dr = DataReader()\n",
    "break_index = \"shots-\" + target + \"-break-point\"\n",
    "break_df = dr.read_all(break_index)\n",
    "break_df"
   ]
  },
  {
   "cell_type": "code",
   "execution_count": 27,
   "metadata": {},
   "outputs": [],
   "source": []
  }
 ],
 "metadata": {
  "kernelspec": {
   "display_name": "Python 3",
   "language": "python",
   "name": "python3"
  },
  "language_info": {
   "codemirror_mode": {
    "name": "ipython",
    "version": 3
   },
   "file_extension": ".py",
   "mimetype": "text/x-python",
   "name": "python",
   "nbconvert_exporter": "python",
   "pygments_lexer": "ipython3",
   "version": "3.8.3"
  },
  "toc": {
   "base_numbering": 1,
   "nav_menu": {},
   "number_sections": true,
   "sideBar": true,
   "skip_h1_title": false,
   "title_cell": "Table of Contents",
   "title_sidebar": "Contents",
   "toc_cell": false,
   "toc_position": {},
   "toc_section_display": true,
   "toc_window_display": false
  }
 },
 "nbformat": 4,
 "nbformat_minor": 4
}
